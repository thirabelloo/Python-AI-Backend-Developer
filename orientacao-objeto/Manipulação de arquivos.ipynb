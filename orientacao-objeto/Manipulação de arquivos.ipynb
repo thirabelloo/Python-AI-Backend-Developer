{
 "cells": [
  {
   "cell_type": "markdown",
   "id": "ec00ebd9-ce4d-4e88-bd66-6f206ff2da4a",
   "metadata": {},
   "source": [
    "# Manipulação de arquivos"
   ]
  },
  {
   "cell_type": "markdown",
   "id": "db6eab48-49b5-491b-94f6-20ff658765c7",
   "metadata": {},
   "source": [
    "-----\n",
    "## Objetivo Geral\n",
    "Vamos aprender a importância dos arquivos, como abrir, ler, escrever e gerenciar arquivos em Python. Vamos trabalhar com os formatos txt e csv.\n",
    "\n",
    "### Por que precisamos manipular arquivos?\n",
    "Os arquivos são essenciais para qualquer tipo de programação, pois fornecem um meio de armazenar e recuperar dados.\n",
    "Através da manipulação de arquivos, podemos persistir os dados além da vida útil de um programa específico.\n",
    "\n",
    "### Conceito de arquivo em informática\n",
    "Um arquivo é um container no computador onde as informações são armazenadas em formato digital. Existem dois tipos de arquivos que podemos manipular em Python: arquivos de texto e arquivos binários.\n"
   ]
  },
  {
   "cell_type": "markdown",
   "id": "8b30a842-1768-4b50-960f-6431ee01d430",
   "metadata": {},
   "source": [
    "-----\n",
    "## Abrindo e fechando arquivos\n",
    "\n",
    "### Por que precisamos manipular arquivos?\n",
    "Para manipular arquivos em Python, primeiro abri-los. Usamos a função `open()` para isso. Quando terminamos de trabalhar com o arquivo, usamos a função `close()` para liberar recursos.\n",
    "\n",
    "### Modos de abertura de arquivo\n",
    "Existem diferentes modos para abrir um arquivo, como somente leitura ('r'), gravação ('w') e anexar ('a'). O modo de abertura deve ser escolhido de acordo com a operação que iremos realizar no mesmo."
   ]
  },
  {
   "cell_type": "code",
   "execution_count": 15,
   "id": "bc01d895-94e3-43a0-a18d-0b6ba186ec5b",
   "metadata": {},
   "outputs": [],
   "source": [
    "# Exemplo de código:\n",
    "\n",
    "# Para ler um arquivo\n",
    "file = open(\"example.txt\", \"r\")\n",
    "\n",
    "# Para escrever em um arquivo\n",
    "file = open(\"example.txt\", \"w\")\n",
    "\n",
    "# Para anexar conteúdo a um arquivo existente\n",
    "file = open(\"example.txt\", \"a\")\n",
    "\n",
    "# Para fechar o arquivo\n",
    "file.close()"
   ]
  },
  {
   "cell_type": "markdown",
   "id": "9fed7496-5ac9-4a43-b447-e0e1acfe6dde",
   "metadata": {},
   "source": [
    "----------\n",
    "## Lendo de um arquivo\n",
    "Python fornece várias maneiras de ler um arquivo. Podemos usar `read`, `readline()` ou `readlines()` dependendo de nossas necessidades.\n",
    "\n",
    "### Método readline e readlines\n",
    "O método `readline` Lê uma linha por vez, enquanto `readlines()` retorna uma lista onde cada elemento é uma linha do arquivo.\n"
   ]
  },
  {
   "cell_type": "markdown",
   "id": "6edff759-676b-479f-8ce9-fdc3ca8a8517",
   "metadata": {},
   "source": [
    "### Método read"
   ]
  },
  {
   "cell_type": "code",
   "execution_count": 51,
   "id": "59d3f132-b7c0-402e-89a2-16f44f9cc387",
   "metadata": {},
   "outputs": [
    {
     "name": "stdout",
     "output_type": "stream",
     "text": [
      "What is Lorem Ipsum?\n",
      "Lorem Ipsum is simply dummy text of the printing and typesetting industry. Lorem Ipsum has been the industry's standard dummy text ever since the 1500s, when an unknown printer took a galley of type and scrambled it to make a type specimen book. It has survived not only five centuries, but also the leap into electronic typesetting, remaining essentially unchanged. It was popularised in the 1960s with the release of Letraset sheets containing Lorem Ipsum passages, and more recently with desktop publishing software like Aldus PageMaker including versions of Lorem Ipsum.\n"
     ]
    }
   ],
   "source": [
    "# Ler todo o conteúdo do arquivo de uma vez\n",
    "file = open(\"example.txt\", \"r\", encoding=\"UTF-8\")\n",
    "print(file.read())\n",
    "file.close()"
   ]
  },
  {
   "cell_type": "markdown",
   "id": "41a1ec79-3d8e-4a2b-8a57-861f85dc6892",
   "metadata": {},
   "source": [
    "### Método readline"
   ]
  },
  {
   "cell_type": "code",
   "execution_count": 52,
   "id": "102eaa8e-7eb5-498e-9aa4-cbcc46ca6136",
   "metadata": {},
   "outputs": [
    {
     "name": "stdout",
     "output_type": "stream",
     "text": [
      "What is Lorem Ipsum?\n",
      "\n"
     ]
    }
   ],
   "source": [
    "file = open(\"example.txt\", \"r\", encoding=\"UTF-8\")\n",
    "print(file.readline())\n",
    "file.close()"
   ]
  },
  {
   "cell_type": "code",
   "execution_count": 53,
   "id": "a03159c7-d7cd-4a91-816a-69cb916431dc",
   "metadata": {},
   "outputs": [
    {
     "name": "stdout",
     "output_type": "stream",
     "text": [
      "What is Lorem Ipsum?\n",
      "\n",
      "Lorem Ipsum is simply dummy text of the printing and typesetting industry. Lorem Ipsum has been the industry's standard dummy text ever since the 1500s, when an unknown printer took a galley of type and scrambled it to make a type specimen book. It has survived not only five centuries, but also the leap into electronic typesetting, remaining essentially unchanged. It was popularised in the 1960s with the release of Letraset sheets containing Lorem Ipsum passages, and more recently with desktop publishing software like Aldus PageMaker including versions of Lorem Ipsum.\n",
      "File is still open.\n"
     ]
    }
   ],
   "source": [
    "# Para ler todo o conteudo com o metodo readline\n",
    "with open(\"example.txt\", \"r\", encoding=\"UTF-8\") as file:\n",
    "    while True:\n",
    "        linha = file.readline()\n",
    "        if not linha:\n",
    "            break\n",
    "        print(linha)\n",
    "    if file.closed:\n",
    "        print(\"File is closed.\")\n",
    "    else:\n",
    "        print(\"File is still open.\")\n"
   ]
  },
  {
   "cell_type": "markdown",
   "id": "c8e7b2ec-a157-4648-a4ec-0d0b1e9ba07e",
   "metadata": {},
   "source": [
    "### Método readlines\n"
   ]
  },
  {
   "cell_type": "code",
   "execution_count": 54,
   "id": "e465ce3e-1b5f-4533-a751-18875dbc4f19",
   "metadata": {},
   "outputs": [
    {
     "name": "stdout",
     "output_type": "stream",
     "text": [
      "['What is Lorem Ipsum?\\n', \"Lorem Ipsum is simply dummy text of the printing and typesetting industry. Lorem Ipsum has been the industry's standard dummy text ever since the 1500s, when an unknown printer took a galley of type and scrambled it to make a type specimen book. It has survived not only five centuries, but also the leap into electronic typesetting, remaining essentially unchanged. It was popularised in the 1960s with the release of Letraset sheets containing Lorem Ipsum passages, and more recently with desktop publishing software like Aldus PageMaker including versions of Lorem Ipsum.\"]\n"
     ]
    }
   ],
   "source": [
    "file = open(\"example.txt\", \"r\",)\n",
    "print(file.readlines())\n",
    "file.close()"
   ]
  },
  {
   "cell_type": "markdown",
   "id": "41e7df62-fd46-43f8-a37a-4feea745a61a",
   "metadata": {},
   "source": [
    "----\n",
    "## Escrevendo em um arquivo\n",
    "Podemos usar `write()` ou `writelines()` para escrever em um arquivo. Lembre-se, no entanto, de abrir o arquivo no modo correto."
   ]
  },
  {
   "cell_type": "code",
   "execution_count": 60,
   "id": "0ceacacb-0d97-45ab-afa8-8c3322337dec",
   "metadata": {},
   "outputs": [],
   "source": [
    "# Exemplo de código\n",
    "file = open(\"example_write.txt\", \"w\")\n",
    "file.write(\"Escrevendo dados em um novo arquivo.\")\n",
    "file.writelines([\"\\n\",\"escrevendo\",\"\\n\", \"um\", \"\\n\",\"novo\", \"\\n\",\"texto\"])\n",
    "file.close()"
   ]
  },
  {
   "cell_type": "markdown",
   "id": "b448b036-412b-4439-b60f-cf310efd61d8",
   "metadata": {},
   "source": [
    "---------\n",
    "## Gerenciando arquivos e diretórios\n",
    "Python também oferece funções para gerenciar arquivos e diretórios. Podemos criar, renomear e excluir arquivos e diretórios usando os módulos `os` e `shutil`"
   ]
  },
  {
   "cell_type": "code",
   "execution_count": 68,
   "id": "04d0b999-4c8d-40ae-86ed-0ad07d30a3d2",
   "metadata": {},
   "outputs": [],
   "source": [
    "import os\n",
    "import shutil\n",
    "from pathlib import Path"
   ]
  },
  {
   "cell_type": "code",
   "execution_count": 77,
   "id": "ba622377-1f71-46a6-90df-0aabcf048b29",
   "metadata": {},
   "outputs": [],
   "source": [
    "# Criar um diretório\n",
    "os.mkdir(\"Teste\")"
   ]
  },
  {
   "cell_type": "code",
   "execution_count": 66,
   "id": "d9ffaf4f-aa8e-482f-97a2-a81973787a1f",
   "metadata": {},
   "outputs": [],
   "source": [
    "# Renomear um arquivo\n",
    "os.rename(\"old.txt\", \"old_rename.txt\")"
   ]
  },
  {
   "cell_type": "code",
   "execution_count": 67,
   "id": "f8b48fc9-b5d5-4831-b62f-000d739c436a",
   "metadata": {},
   "outputs": [],
   "source": [
    "# Remover um arquivo\n",
    "os.remove(\"old_rename.txt\")"
   ]
  },
  {
   "cell_type": "code",
   "execution_count": 78,
   "id": "90fc1df5-8b26-4f3b-8f2c-2ef3a91e0083",
   "metadata": {},
   "outputs": [
    {
     "data": {
      "text/plain": [
       "'Teste\\\\example_write.txt'"
      ]
     },
     "execution_count": 78,
     "metadata": {},
     "output_type": "execute_result"
    }
   ],
   "source": [
    "# Mover um arquivo\n",
    "shutil.move(\"example_write.txt\", \"Teste\")"
   ]
  },
  {
   "cell_type": "markdown",
   "id": "5b40a240-4129-4bf6-8989-1eb876a06381",
   "metadata": {},
   "source": [
    "-------\n",
    "## Tratamento de exceções em manipulação de arquivos\n",
    "Tratar erros é uma parte importante da manipulação de arquivos. Python oferece uma variedade de exceções que nos permitem lidar com erros comuns.\n",
    "\n",
    "### **Exceções mais comuns**\n",
    "- **FileNotFoundError:** Lançada quando o arquivo que está sendo aberto não pode ser encontrado no diretório especificado.\n",
    "- **PermissionError:** Lançada quando ocorre uma tentativa de abrir um arquivo sem as permissões adequadas para leitura ou gravação.\n",
    "- **IOError:** Lançada quando ocorre um erro geral de E/S (entrada/saída) ao trabalhar com o arquivo, como problemas de permissão, falta de espaço em disco, entre outros.\n",
    "- **UnicodeDecodeError:** Lançada quando ocorre um erro ao tentar decodificar os dados de um arquivo de texto usando uma codificação inadequada.\n",
    "- **UnicodeEncodeError:** Lançada quando ocorre um erro ao tentar codificar dados em uma determinada codificação ao gravar em um arquivo de texto.\n",
    "- **IsADirectoryError:** Lançada quando é feita uma tentativa de abrir um diretório em vez de um arquivo de texto."
   ]
  },
  {
   "cell_type": "code",
   "execution_count": 79,
   "id": "02516a5c-504c-4fe5-8f55-a1d03d3cd362",
   "metadata": {},
   "outputs": [
    {
     "name": "stdout",
     "output_type": "stream",
     "text": [
      "Arquivo não encontrado\n"
     ]
    }
   ],
   "source": [
    "try:\n",
    "    file = open(\"non_existent_file.txt\", \"r\")\n",
    "except FileNotFoundError:\n",
    "    print(\"Arquivo não encontrado\")"
   ]
  },
  {
   "cell_type": "code",
   "execution_count": 80,
   "id": "81314126-fbdf-46e3-a9c4-b6eaf767d4f7",
   "metadata": {},
   "outputs": [
    {
     "name": "stdout",
     "output_type": "stream",
     "text": [
      "Arquivo não encontrado\n",
      "[Errno 2] No such file or directory: 'non_existent_file.txt'\n"
     ]
    }
   ],
   "source": [
    "try:\n",
    "    file = open(\"non_existent_file.txt\", \"r\")\n",
    "except FileNotFoundError as exc:\n",
    "    print(\"Arquivo não encontrado\")\n",
    "    print(exc)"
   ]
  },
  {
   "cell_type": "code",
   "execution_count": 82,
   "id": "83a6ae15-7dc1-484d-8684-3bd92caf905d",
   "metadata": {},
   "outputs": [
    {
     "ename": "PermissionError",
     "evalue": "[Errno 13] Permission denied: 'Desafios/'",
     "output_type": "error",
     "traceback": [
      "\u001b[1;31m---------------------------------------------------------------------------\u001b[0m",
      "\u001b[1;31mPermissionError\u001b[0m                           Traceback (most recent call last)",
      "Cell \u001b[1;32mIn[82], line 1\u001b[0m\n\u001b[1;32m----> 1\u001b[0m arquivo \u001b[38;5;241m=\u001b[39m \u001b[38;5;28mopen\u001b[39m(\u001b[38;5;124m\"\u001b[39m\u001b[38;5;124mDesafios/\u001b[39m\u001b[38;5;124m\"\u001b[39m, \u001b[38;5;124m\"\u001b[39m\u001b[38;5;124mr\u001b[39m\u001b[38;5;124m\"\u001b[39m)\n",
      "File \u001b[1;32m~\\anaconda3\\Lib\\site-packages\\IPython\\core\\interactiveshell.py:310\u001b[0m, in \u001b[0;36m_modified_open\u001b[1;34m(file, *args, **kwargs)\u001b[0m\n\u001b[0;32m    303\u001b[0m \u001b[38;5;28;01mif\u001b[39;00m file \u001b[38;5;129;01min\u001b[39;00m {\u001b[38;5;241m0\u001b[39m, \u001b[38;5;241m1\u001b[39m, \u001b[38;5;241m2\u001b[39m}:\n\u001b[0;32m    304\u001b[0m     \u001b[38;5;28;01mraise\u001b[39;00m \u001b[38;5;167;01mValueError\u001b[39;00m(\n\u001b[0;32m    305\u001b[0m         \u001b[38;5;124mf\u001b[39m\u001b[38;5;124m\"\u001b[39m\u001b[38;5;124mIPython won\u001b[39m\u001b[38;5;124m'\u001b[39m\u001b[38;5;124mt let you open fd=\u001b[39m\u001b[38;5;132;01m{\u001b[39;00mfile\u001b[38;5;132;01m}\u001b[39;00m\u001b[38;5;124m by default \u001b[39m\u001b[38;5;124m\"\u001b[39m\n\u001b[0;32m    306\u001b[0m         \u001b[38;5;124m\"\u001b[39m\u001b[38;5;124mas it is likely to crash IPython. If you know what you are doing, \u001b[39m\u001b[38;5;124m\"\u001b[39m\n\u001b[0;32m    307\u001b[0m         \u001b[38;5;124m\"\u001b[39m\u001b[38;5;124myou can use builtins\u001b[39m\u001b[38;5;124m'\u001b[39m\u001b[38;5;124m open.\u001b[39m\u001b[38;5;124m\"\u001b[39m\n\u001b[0;32m    308\u001b[0m     )\n\u001b[1;32m--> 310\u001b[0m \u001b[38;5;28;01mreturn\u001b[39;00m io_open(file, \u001b[38;5;241m*\u001b[39margs, \u001b[38;5;241m*\u001b[39m\u001b[38;5;241m*\u001b[39mkwargs)\n",
      "\u001b[1;31mPermissionError\u001b[0m: [Errno 13] Permission denied: 'Desafios/'"
     ]
    }
   ],
   "source": [
    "arquivo = open(\"Desafios/\", \"r\")"
   ]
  },
  {
   "cell_type": "markdown",
   "id": "59ee8182-b36d-40e0-a0a7-131cd3e1c093",
   "metadata": {},
   "source": [
    "--------\n",
    "## Boas Práticas na Manipulação de Arquivos\n",
    "Ao manipular arquivos em Python existem algumas boas práticas que podemos seguir, vamos abordar as principais.\n",
    "\n",
    "### **Bloco with**\n",
    "Use o gerenciamento do contexto (context manager) com a declaração `with`. O gerenciamento de contexto permite trabalhar com arquivos de forma segura, garantindo que eles sejam fechados corretamente, mesmo em caso de exceções."
   ]
  },
  {
   "cell_type": "code",
   "execution_count": 90,
   "id": "9e4c314a-9c47-4ac4-8694-da1afab626f0",
   "metadata": {},
   "outputs": [
    {
     "name": "stdout",
     "output_type": "stream",
     "text": [
      "Trabalhando com o arquivo\n"
     ]
    },
    {
     "ename": "ValueError",
     "evalue": "I/O operation on closed file.",
     "output_type": "error",
     "traceback": [
      "\u001b[1;31m---------------------------------------------------------------------------\u001b[0m",
      "\u001b[1;31mValueError\u001b[0m                                Traceback (most recent call last)",
      "Cell \u001b[1;32mIn[90], line 5\u001b[0m\n\u001b[0;32m      1\u001b[0m \u001b[38;5;28;01mwith\u001b[39;00m \u001b[38;5;28mopen\u001b[39m(\u001b[38;5;124m\"\u001b[39m\u001b[38;5;124mexample.txt\u001b[39m\u001b[38;5;124m\"\u001b[39m, \u001b[38;5;124m\"\u001b[39m\u001b[38;5;124mr\u001b[39m\u001b[38;5;124m\"\u001b[39m) \u001b[38;5;28;01mas\u001b[39;00m arquivo:\n\u001b[0;32m      2\u001b[0m     \u001b[38;5;66;03m#Faça operações de leitura/gravação no arquivoS\u001b[39;00m\n\u001b[0;32m      3\u001b[0m     \u001b[38;5;28mprint\u001b[39m(\u001b[38;5;124m\"\u001b[39m\u001b[38;5;124mTrabalhando com o arquivo\u001b[39m\u001b[38;5;124m\"\u001b[39m)\n\u001b[1;32m----> 5\u001b[0m \u001b[38;5;28mprint\u001b[39m(arquivo\u001b[38;5;241m.\u001b[39mread())\n",
      "\u001b[1;31mValueError\u001b[0m: I/O operation on closed file."
     ]
    }
   ],
   "source": [
    "with open(\"example.txt\", \"r\") as arquivo:\n",
    "    #Faça operações de leitura/gravação no arquivoS\n",
    "    print(\"Trabalhando com o arquivo\")\n",
    "\n",
    "print(arquivo.read())"
   ]
  },
  {
   "cell_type": "markdown",
   "id": "ee8a0a3e-5115-4980-ab41-08ed1489a2c0",
   "metadata": {},
   "source": [
    "-------\n",
    "### **Verifique se o arquivo foi aberto com sucesso**\n",
    "É recomendado verificar se o arquivo foi aberto corretamente antes de executar operações de leitura ou gravação nele."
   ]
  },
  {
   "cell_type": "code",
   "execution_count": 94,
   "id": "f8b7fa86-5d10-48af-bd5b-747fc54c65f5",
   "metadata": {},
   "outputs": [
    {
     "name": "stdout",
     "output_type": "stream",
     "text": [
      "Não foi possível abrir o arquivo. [Errno 2] No such file or directory: 'arquivo.txt'\n"
     ]
    }
   ],
   "source": [
    "try:\n",
    "    with open(\"arquivo.txt\", \"r\") as arquivo:\n",
    "        print(arquivo.read())\n",
    "except IOError as exc:\n",
    "        print(f\"Não foi possível abrir o arquivo. {exc}\" )"
   ]
  },
  {
   "cell_type": "markdown",
   "id": "231f8f4d-e565-4add-a5da-df68059bf2fb",
   "metadata": {},
   "source": [
    "------\n",
    "### **Use a Codificação correta**\n",
    "Certifique-se de usa a codificação correta ao ler ou gravar arquivos de texto. O argumento `encoding` da função `open()` permite especificar a codificação."
   ]
  },
  {
   "cell_type": "code",
   "execution_count": 102,
   "id": "b4f04b8a-3b06-4a28-a18e-94c988c36b2c",
   "metadata": {},
   "outputs": [],
   "source": [
    "try:\n",
    "    with open(\"arquivo-utf-8.txt\", \"w\", encoding=\"utf-8\") as arquivo:\n",
    "        arquivo.write(\"Aprendendo a manipular arquivos utilizando Python.\")\n",
    "except IOError as exc:\n",
    "    print(f\"Não foi possível abrir o arquivo. {exc}\" )\n",
    "    "
   ]
  },
  {
   "cell_type": "code",
   "execution_count": 103,
   "id": "bedd355e-07ac-4abf-96a0-f33e0b706ced",
   "metadata": {},
   "outputs": [
    {
     "name": "stdout",
     "output_type": "stream",
     "text": [
      "Aprendendo a manipular arquivos utilizando Python.\n"
     ]
    }
   ],
   "source": [
    "try:\n",
    "    with open(\"arquivo-utf-8.txt\", \"r\", encoding=\"ascii\") as arquivo:\n",
    "        print(arquivo.read())\n",
    "except IOError as exc:\n",
    "    print(f\"Não foi possível abrir o arquivo. {exc}\" )\n",
    "    "
   ]
  },
  {
   "cell_type": "markdown",
   "id": "4b47f2da-252c-44f7-8fa0-ba2b1f2bf73e",
   "metadata": {},
   "source": [
    "------\n",
    "## Trabalhando com arquivos CSV\n",
    "Vamos aprender sobre arquivos CSV, um formato de arquivo amplamente utilizado para armazenar dados tabulares. CSV é a sigla para `Comma Separated Values.`\n",
    "\n",
    "### **Lendo arquivo CSV**\n",
    "Python fornece um módulo chamado `csv` para lidar facilmente com arquivos CSV.\n",
    "\n",
    "### **Escrevendo em arquivos CSV**\n",
    "Da mesma forma podemos utilizar o módulo `csv` para escrever em arquivos CSV.\n",
    "\n",
    "### **Práticas recomendadas**\n",
    "- Usar `csv.reader` e `csv.writer` para manipular arquivos CSV.\n",
    "- Fazer o tratamento correto das exceções.\n",
    "- Ao gravar arquivos CSV definir o argumento `newline=\"\"` no método `open()`"
   ]
  },
  {
   "cell_type": "code",
   "execution_count": 105,
   "id": "de51c750-ee5e-44ab-a3c8-5f12cef843f6",
   "metadata": {},
   "outputs": [],
   "source": [
    "import csv\n",
    "\n",
    "# Lendo um arquivo CSV \n",
    "with open(\"example.csv\", \"r\") as file:\n",
    "    reader = csv.reader(file)\n",
    "    for row in reader:\n",
    "        print(row)"
   ]
  },
  {
   "cell_type": "code",
   "execution_count": 118,
   "id": "e8f597d8-e14f-417f-82d7-ae7dc503db98",
   "metadata": {},
   "outputs": [],
   "source": [
    "import csv\n",
    "\n",
    "# Escrevendo em um arquivo CSVS\n",
    "with open(\"example.csv\", \"w\", newline=\"\") as file:\n",
    "    write = csv.writer(file)\n",
    "    write.writerow([\"nome\", \"idade\"])\n",
    "    write.writerow([\"Ana\", 30])\n",
    "    write.writerow([\"João\", 25])"
   ]
  },
  {
   "cell_type": "code",
   "execution_count": 119,
   "id": "6896e4d7-5cbb-4dfb-8fb6-4fafb436592e",
   "metadata": {},
   "outputs": [],
   "source": [
    "import csv\n",
    "\n",
    "try:\n",
    "    with open(\"example.csv\", \"w\", encoding=\"utf-8\") as arquivo:\n",
    "        escritor = csv.writer(arquivo)\n",
    "        escritor.writerow([\"id\",\"nome\"])\n",
    "        escritor.writerow([\"1\",\"Maria\"])\n",
    "        escritor.writerow([\"2\",\"João\"])\n",
    "except IOError as exc:\n",
    "    print(f\"Erro ao criar o arquivo. {exec}\")"
   ]
  },
  {
   "cell_type": "code",
   "execution_count": 120,
   "id": "292a3e67-88d7-4bfe-868a-7ed9d6d1695d",
   "metadata": {},
   "outputs": [
    {
     "name": "stdout",
     "output_type": "stream",
     "text": [
      "['id', 'nome']\n",
      "[]\n",
      "['1', 'Maria']\n",
      "[]\n",
      "['2', 'João']\n",
      "[]\n"
     ]
    }
   ],
   "source": [
    "import csv\n",
    "\n",
    "try:\n",
    "    with open(\"example.csv\", \"r\", encoding=\"utf-8\") as arquivo:\n",
    "        leitor = csv.reader(arquivo)\n",
    "        for row in leitor:\n",
    "            print(row)\n",
    "except IOError as exc:\n",
    "    print(f\"Erro ao criar o arquivo. {exec}\")"
   ]
  },
  {
   "cell_type": "code",
   "execution_count": 128,
   "id": "ebd49567-676d-4e39-902a-959555f540e3",
   "metadata": {},
   "outputs": [
    {
     "name": "stdout",
     "output_type": "stream",
     "text": [
      "1 Maria\n",
      "2 João\n"
     ]
    }
   ],
   "source": [
    "import csv\n",
    "\n",
    "try:\n",
    "    with open(\"example.csv\",newline=\"\", encoding=\"utf-8\") as csvfile:\n",
    "       reader = csv.DictReader(csvfile)\n",
    "       for row in reader:\n",
    "            print(row[\"id\"], row[\"nome\"])\n",
    "except IOError as exc:\n",
    "    print(f\"Erro ao criar o arquivo. {exec}\")"
   ]
  },
  {
   "cell_type": "code",
   "execution_count": null,
   "id": "926df39d-88b4-4ea1-bfc5-bb8996a7dc93",
   "metadata": {},
   "outputs": [],
   "source": []
  }
 ],
 "metadata": {
  "kernelspec": {
   "display_name": "Python 3 (ipykernel)",
   "language": "python",
   "name": "python3"
  },
  "language_info": {
   "codemirror_mode": {
    "name": "ipython",
    "version": 3
   },
   "file_extension": ".py",
   "mimetype": "text/x-python",
   "name": "python",
   "nbconvert_exporter": "python",
   "pygments_lexer": "ipython3",
   "version": "3.11.7"
  }
 },
 "nbformat": 4,
 "nbformat_minor": 5
}
