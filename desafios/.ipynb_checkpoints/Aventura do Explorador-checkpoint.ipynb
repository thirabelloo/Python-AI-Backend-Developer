{
 "cells": [
  {
   "cell_type": "markdown",
   "id": "2ce3da5e-4957-4391-8caf-7e09c9195fe8",
   "metadata": {},
   "source": [
    "# Desafio: A Aventura do Explorador\n",
    "\n",
    "-------------"
   ]
  },
  {
   "cell_type": "code",
   "execution_count": 3,
   "id": "3e57b720-e6d4-43b1-86d4-de49b5718f61",
   "metadata": {},
   "outputs": [
    {
     "name": "stdin",
     "output_type": "stream",
     "text": [
      "Digite a quantidade de passos:  15\n"
     ]
    },
    {
     "name": "stdout",
     "output_type": "stream",
     "text": [
      "Explorador: 1 passo\n",
      "Explorador: 2 passos\n",
      "Explorador: 3 passos\n",
      "Explorador: 4 passos\n",
      "Explorador: 5 passos\n",
      "Explorador: 6 passos\n",
      "Explorador: 7 passos\n",
      "Explorador: 8 passos\n",
      "Explorador: 9 passos\n",
      "Explorador: 10 passos\n",
      "Explorador: 11 passos\n",
      "Explorador: 12 passos\n",
      "Explorador: 13 passos\n",
      "Explorador: 14 passos\n",
      "Explorador: 15 passos\n"
     ]
    }
   ],
   "source": [
    "def aventura_explorador():\n",
    "    quantidade_passos = int(input(\"Digite a quantidade de passos: \"))\n",
    "    if quantidade_passos == 0:\n",
    "        print(\"Nenhum passo dado na floresta\")\n",
    "    elif quantidade_passos >= 1:\n",
    "        for passos in range(1, quantidade_passos + 1):\n",
    "            if passos == 1:\n",
    "                print(f\"Explorador: {passos} passo\")\n",
    "            else:\n",
    "                print(f\"Explorador: {passos} passos\")\n",
    "\n",
    "aventura_explorador()"
   ]
  },
  {
   "cell_type": "code",
   "execution_count": null,
   "id": "460a844b-c2f9-4952-8e00-9626c09f2c54",
   "metadata": {},
   "outputs": [],
   "source": []
  }
 ],
 "metadata": {
  "kernelspec": {
   "display_name": "Python 3 (ipykernel)",
   "language": "python",
   "name": "python3"
  },
  "language_info": {
   "codemirror_mode": {
    "name": "ipython",
    "version": 3
   },
   "file_extension": ".py",
   "mimetype": "text/x-python",
   "name": "python",
   "nbconvert_exporter": "python",
   "pygments_lexer": "ipython3",
   "version": "3.11.7"
  }
 },
 "nbformat": 4,
 "nbformat_minor": 5
}
