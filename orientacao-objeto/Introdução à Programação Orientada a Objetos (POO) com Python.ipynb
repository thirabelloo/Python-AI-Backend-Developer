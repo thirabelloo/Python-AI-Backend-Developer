{
 "cells": [
  {
   "cell_type": "markdown",
   "id": "89384f9b-80de-4f4d-9a76-99ca299cffad",
   "metadata": {},
   "source": [
    "# Introdução à Programação Orientada a Objetos (POO) com Python"
   ]
  },
  {
   "cell_type": "markdown",
   "id": "e0d095a0-2791-4eb3-bbc9-94745d28d16f",
   "metadata": {},
   "source": [
    "----\n",
    "## Objetivo Geral\n",
    "- Conhecer o paradigma de programação orientada a objetos.\n",
    "- Aprender a utilizar classes e objetos com Python\n",
    "\n",
    "## Paradigmas de programação\n",
    "Um paradigma de programação é um estilo e programação.\n",
    "Não é uma linguagem (Python, Java, C, etc), e sim a forma como você soluciona os problemas através do código.\n",
    "\n",
    "### Alguns paradigmas\n",
    "- Imperativo ou procedural\n",
    "- Funcional\n",
    "- Orientado a eventos\n",
    "\n",
    "## Programação Orientada a Objetos\n",
    "O paradigma de programação orientada a objetos estrutura o código abstraindo problemas em objetos do mundo real, facilitando o entendimento do código e tornando-o mais modular e extensível. Os dois conceitos chaves para aprender POO são: **classes e objetos**\n",
    "\n",
    "### Classes e Objetos\n",
    "Uma classe define as características e comportamentos de um objeto, porém não conseguimos usá-las diretamente. Já os objetos podemos usá-los e eles possuem as características e comportamentos que foram definidos nas classes\n",
    "\n",
    "\n",
    "\n",
    "-----------------"
   ]
  },
  {
   "cell_type": "code",
   "execution_count": 1,
   "id": "6e1fb153-ba0c-4926-8f8a-470f0a318106",
   "metadata": {},
   "outputs": [],
   "source": [
    "class Cachorro:\n",
    "    def __init__(self, nome, cor, acordado=True):\n",
    "        self.nome = nome\n",
    "        self.cor = cor\n",
    "        self.acordado = acordado\n",
    "        \n",
    "    def latir(self):\n",
    "        print(\"Auau\")\n",
    "    \n",
    "    def dormir(self):\n",
    "        self.acordado = False\n",
    "        print(\"Zzzzz...\")"
   ]
  },
  {
   "cell_type": "code",
   "execution_count": 8,
   "id": "92fa8556-8115-4a90-9471-d922ff52bbaf",
   "metadata": {},
   "outputs": [
    {
     "name": "stdout",
     "output_type": "stream",
     "text": [
      "Auau\n"
     ]
    }
   ],
   "source": [
    "# Objeto\n",
    "cao_1 = Cachorro(\"Chappie\", \"amarelo\", False)\n",
    "cao_2 = Cachorro(\"Aladim\", \"branco e preto\")\n",
    "\n",
    "cao_1.latir()"
   ]
  },
  {
   "cell_type": "code",
   "execution_count": 9,
   "id": "5c96bbf0-cc94-4ffd-91ff-c5989dcb5420",
   "metadata": {},
   "outputs": [
    {
     "name": "stdout",
     "output_type": "stream",
     "text": [
      "True\n"
     ]
    }
   ],
   "source": [
    "print(cao_2.acordado)"
   ]
  },
  {
   "cell_type": "code",
   "execution_count": 11,
   "id": "5f97f78e-d618-494f-a1fa-6b82e19106b4",
   "metadata": {},
   "outputs": [
    {
     "name": "stdout",
     "output_type": "stream",
     "text": [
      "Zzzzz...\n",
      "False\n"
     ]
    }
   ],
   "source": [
    "cao_2.dormir()\n",
    "print(cao_2.acordado)"
   ]
  },
  {
   "cell_type": "markdown",
   "id": "8ffd231d-a7e1-43a3-8729-f0dbf964dc91",
   "metadata": {},
   "source": [
    "-----------\n",
    "## Nosso primeiro programa POO\n",
    "João tem uma bicicletaria e gostaria de registrar as vendas de suas bicicletas. Crie um programa onde João informe: **cor, modelo, ano e valor** da bicicleta vendida. Uma bicicleta pode: **buzinar, parar e correr.** Adicione esses comportamentos!"
   ]
  },
  {
   "cell_type": "code",
   "execution_count": 32,
   "id": "9bc6adc2-2c2a-4e30-b44d-1992ff4c23e4",
   "metadata": {},
   "outputs": [],
   "source": [
    "class Bicicleta:\n",
    "    def __init__(self, cor, modelo, ano, valor,):\n",
    "        self.cor = cor\n",
    "        self.modelo = modelo\n",
    "        self.ano = ano\n",
    "        self.valor = valor\n",
    "        \n",
    "    def buzinar(self):\n",
    "        print(\"Plim plim...\")\n",
    "        \n",
    "    def parar(self):\n",
    "        print(\"Parando bicicleta...\")\n",
    "        print(\"Bicicleta parada!\")\n",
    "        \n",
    "    def correr(self):\n",
    "        print(\"Vrummmmmmm...\")\n",
    "\n",
    "    def __str__(self):\n",
    "        return f\"{self.__class__.__name__}: {', '.join([f'{chave}={valor}' for chave, valor in self.__dict__.items()])}\"\n"
   ]
  },
  {
   "cell_type": "code",
   "execution_count": 37,
   "id": "16b91ce2-8fd7-4d6f-9c2d-e1b45f46a711",
   "metadata": {},
   "outputs": [
    {
     "name": "stdout",
     "output_type": "stream",
     "text": [
      "Plim plim...\n"
     ]
    }
   ],
   "source": [
    "caloi = Bicicleta(\"Azul\", \"caloi\", 2022, 650)\n",
    "caloi.buzinar()"
   ]
  },
  {
   "cell_type": "code",
   "execution_count": 38,
   "id": "eefd5b8a-b575-475e-9804-9bed1bc7b7b2",
   "metadata": {},
   "outputs": [
    {
     "name": "stdout",
     "output_type": "stream",
     "text": [
      "Vrummmmmmm...\n"
     ]
    }
   ],
   "source": [
    "caloi.correr()"
   ]
  },
  {
   "cell_type": "code",
   "execution_count": 39,
   "id": "f692f810-3f56-408c-a491-5be4397409ff",
   "metadata": {},
   "outputs": [
    {
     "name": "stdout",
     "output_type": "stream",
     "text": [
      "Parando bicicleta...\n",
      "Bicicleta parada!\n"
     ]
    }
   ],
   "source": [
    "caloi.parar()"
   ]
  },
  {
   "cell_type": "code",
   "execution_count": 40,
   "id": "debb928a-924d-4edf-91d4-867d8dfaaacf",
   "metadata": {},
   "outputs": [
    {
     "name": "stdout",
     "output_type": "stream",
     "text": [
      "Azul caloi 2022 650\n"
     ]
    }
   ],
   "source": [
    "print(caloi.cor, caloi.modelo, caloi.ano, caloi.valor)"
   ]
  },
  {
   "cell_type": "code",
   "execution_count": 33,
   "id": "7be7495c-13f0-496d-a6d3-db36497bd46f",
   "metadata": {},
   "outputs": [
    {
     "name": "stdout",
     "output_type": "stream",
     "text": [
      "Plim plim...\n"
     ]
    }
   ],
   "source": [
    "b2 = Bicicleta(\"verde\", \"monark\", 2000, 189)\n",
    "Bicicleta.buzinar(b2)"
   ]
  },
  {
   "cell_type": "code",
   "execution_count": 34,
   "id": "bf0302d8-451b-4978-af18-6af4aa91861a",
   "metadata": {},
   "outputs": [
    {
     "name": "stdout",
     "output_type": "stream",
     "text": [
      "verde\n"
     ]
    }
   ],
   "source": [
    "print(b2.cor)"
   ]
  },
  {
   "cell_type": "code",
   "execution_count": 35,
   "id": "89d0fd6e-8a6e-4137-a5ef-0a702733ea8f",
   "metadata": {},
   "outputs": [
    {
     "name": "stdout",
     "output_type": "stream",
     "text": [
      "Bicicleta: cor=verde, modelo=monark, ano=2000, valor=189\n"
     ]
    }
   ],
   "source": [
    "print(b2)"
   ]
  },
  {
   "cell_type": "markdown",
   "id": "eec89688-3403-4d02-accf-32f220896943",
   "metadata": {},
   "source": [
    "---------------\n",
    "## Construtores e Destrutores"
   ]
  },
  {
   "cell_type": "markdown",
   "id": "d08b5836-6b9c-4fbf-9bd5-12ee8b668d2c",
   "metadata": {},
   "source": [
    "### Método Construtor\n",
    "O método construtor sempre é executado quando uma nova instância da classe é criada. Nesse método inicializamos o estado do nosso objeto. Para declarar o método construtor da classe, criamos um método com o nome **`__init__`.**\n"
   ]
  },
  {
   "cell_type": "code",
   "execution_count": null,
   "id": "374a5f55-5493-40da-bdee-e908742c181b",
   "metadata": {},
   "outputs": [],
   "source": [
    "# Método __init__\n",
    "class Cachorro:\n",
    "    def __init__(self, nome, cor, acordado=True):\n",
    "        self.nome = nome\n",
    "        self.cor = cor\n",
    "        self.acordado = acordado"
   ]
  },
  {
   "cell_type": "markdown",
   "id": "28d77cb4-d0b2-4422-81b7-a0e4e6026d03",
   "metadata": {},
   "source": [
    "### Método Destrutor\n",
    "O método destrutor sempre é executado quando uma instância(objeto) é destruída. Destrutores em Python não são tão necessários quanto em C++ porque o Python tem um coletor de lixo que lida com o gerenciamento de memória automaticamente. Para declarar o método destrutor da classe, criamos um método com o nome **`__del__`.**"
   ]
  },
  {
   "cell_type": "code",
   "execution_count": 36,
   "id": "3c1895ce-8447-4871-a0ec-9a6babf5af54",
   "metadata": {},
   "outputs": [
    {
     "name": "stdout",
     "output_type": "stream",
     "text": [
      "Destruindo a instância\n"
     ]
    }
   ],
   "source": [
    "class Cachorro:\n",
    "    def __del__(self):\n",
    "        print(\"Destruindo a instância\")\n",
    "c = Cachorro()\n",
    "del c"
   ]
  },
  {
   "cell_type": "code",
   "execution_count": null,
   "id": "622f9baa-5a84-4725-a8b8-63cf04d87182",
   "metadata": {},
   "outputs": [],
   "source": []
  }
 ],
 "metadata": {
  "kernelspec": {
   "display_name": "Python 3 (ipykernel)",
   "language": "python",
   "name": "python3"
  },
  "language_info": {
   "codemirror_mode": {
    "name": "ipython",
    "version": 3
   },
   "file_extension": ".py",
   "mimetype": "text/x-python",
   "name": "python",
   "nbconvert_exporter": "python",
   "pygments_lexer": "ipython3",
   "version": "3.11.7"
  }
 },
 "nbformat": 4,
 "nbformat_minor": 5
}
