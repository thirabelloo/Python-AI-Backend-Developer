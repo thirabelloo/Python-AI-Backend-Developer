{
 "cells": [
  {
   "cell_type": "markdown",
   "id": "ec84ff61-980e-400f-88c2-520a0d0eb957",
   "metadata": {},
   "source": [
    "# Aprendendo o Conceito de Herança com Python."
   ]
  },
  {
   "cell_type": "markdown",
   "id": "2c96834e-64ec-4bd0-8550-98e6adf08e96",
   "metadata": {},
   "source": [
    "-----\n",
    "## O que é herança?\n",
    "Em programação herança é a capacidade de uma classe filha derivar ou herdar as características e comportamentos da classe pai (base).\n",
    "\n",
    "## Benefícios da Herança\n",
    "- Representa bem os relacionamentos do mundo real.\n",
    "- Fornece reutilização de código, não precisamos escrever o mesmo código repetidamente. Além disso, permite adicionar mais recursos a uma classe sem modificá-la.\n",
    "- É de natureza transitiva, o que significa que, se a classe B herdar da classe A, todas as subclasses de B herdarão automaticamente da classe A.\n"
   ]
  },
  {
   "cell_type": "code",
   "execution_count": 2,
   "id": "854d3c59-9002-4894-a1b5-a2bfd9506039",
   "metadata": {},
   "outputs": [],
   "source": [
    "# Sintaxe da Herança Simples\n",
    "class A:\n",
    "    pass\n",
    "\n",
    "class B(A):\n",
    "    pass"
   ]
  },
  {
   "cell_type": "markdown",
   "id": "630d8f2c-d373-4152-aa75-0e12ec00290a",
   "metadata": {},
   "source": [
    "## Herança simples e Herança múltipla\n",
    "\n",
    "### Herança Simples\n",
    "Quando uma classe filha herda apenas uma classe pai, ela é chamada de herança simples.\n",
    "\n",
    "### Herança Múltipla\n",
    "Quando uma classe filha herda de várias classes pai, ela é chamada de herança múltipla."
   ]
  },
  {
   "cell_type": "code",
   "execution_count": 3,
   "id": "9f44915b-4cc3-41a7-9f66-96fca84c13db",
   "metadata": {},
   "outputs": [],
   "source": [
    "# Sintaxe da Herança Múltipla\n",
    "class A:\n",
    "    pass\n",
    "\n",
    "class B:\n",
    "    pass\n",
    "\n",
    "class C(A,B):\n",
    "    pass    "
   ]
  },
  {
   "cell_type": "markdown",
   "id": "fe5e8499-1786-4e29-8cd1-70ec03ef542d",
   "metadata": {},
   "source": [
    "--------"
   ]
  },
  {
   "cell_type": "markdown",
   "id": "5cce3011-9823-4182-be88-3a7e7210bbab",
   "metadata": {},
   "source": [
    "## Herança Simples"
   ]
  },
  {
   "attachments": {
    "4858345d-325a-41de-a18e-09470fb24447.png": {
     "image/png": "[encoded data removed]"
    }
   },
   "cell_type": "markdown",
   "id": "8cf08970-981c-453c-8d54-c97ef9ca6190",
   "metadata": {},
   "source": [
    "\n",
    "\n",
    "![image.png](attachment:4858345d-325a-41de-a18e-09470fb24447.png)\n",
    "\n"
   ]
  },
  {
   "cell_type": "code",
   "execution_count": 43,
   "id": "1142fff1-e6ce-49d3-8319-9c567425aaea",
   "metadata": {},
   "outputs": [],
   "source": [
    "class Veiculo:\n",
    "    def __init__(self, cor, placa, numero_rodas):\n",
    "        self.cor= cor\n",
    "        self.placa = placa\n",
    "        self.numero_rodas = numero_rodas\n",
    "\n",
    "    def ligar_motor(self):\n",
    "        print(\"Ligando o motor\")\n",
    "\n",
    "    def __str__(self):\n",
    "        return f\"{self.__class__.__name__}: {', '.join([f'{chave}={valor}' for chave, valor in self.__dict__.items()])}\"\n",
    "        \n",
    "\n",
    "class Motocicleta(Veiculo):\n",
    "    pass\n",
    "\n",
    "class Carro(Veiculo):\n",
    "    pass\n",
    "\n",
    "class Caminhao(Veiculo):\n",
    "    def __init__(self, cor, placa, numero_rodas,carregado):\n",
    "        super().__init__(cor, placa, numero_rodas)\n",
    "        self.carregado = carregado\n",
    "        \n",
    "    def esta_carregado(self):\n",
    "        print(f\"{'Sim' if self.carregado else 'Não'} estou carregado\")"
   ]
  },
  {
   "cell_type": "code",
   "execution_count": 37,
   "id": "ac61d4a7-0fd1-4078-8a60-b1474a4980f8",
   "metadata": {},
   "outputs": [
    {
     "name": "stdout",
     "output_type": "stream",
     "text": [
      "Ligando o motor\n"
     ]
    }
   ],
   "source": [
    "moto = Motocicleta(\"Preta\", \"ABC-1234\", 2)\n",
    "moto.ligar_motor()"
   ]
  },
  {
   "cell_type": "code",
   "execution_count": 38,
   "id": "4bec7180-4094-4d1c-8766-f53e0388b49c",
   "metadata": {},
   "outputs": [
    {
     "name": "stdout",
     "output_type": "stream",
     "text": [
      "Ligando o motor\n"
     ]
    }
   ],
   "source": [
    "carro = Carro(\"Branco\", \"XDE-0098\", 4)\n",
    "carro.ligar_motor()"
   ]
  },
  {
   "cell_type": "code",
   "execution_count": 39,
   "id": "0c3e03a8-9dc1-4c55-bdbc-82ca9bd3da50",
   "metadata": {},
   "outputs": [
    {
     "name": "stdout",
     "output_type": "stream",
     "text": [
      "Sim estou carregado\n",
      "Ligando o motor\n"
     ]
    }
   ],
   "source": [
    "caminhao = Caminhao(\"Roxo\", \"GFD-8712\", 8, True)\n",
    "caminhao.esta_carregado()\n",
    "caminhao.ligar_motor()"
   ]
  },
  {
   "cell_type": "code",
   "execution_count": 40,
   "id": "f3131445-e444-483b-8b5c-2741760cbc0e",
   "metadata": {},
   "outputs": [
    {
     "name": "stdout",
     "output_type": "stream",
     "text": [
      "Roxo\n"
     ]
    }
   ],
   "source": [
    "print(caminhao.cor)"
   ]
  },
  {
   "cell_type": "code",
   "execution_count": 42,
   "id": "8c08f5a7-9a01-45bc-91cb-84897db75ca2",
   "metadata": {},
   "outputs": [
    {
     "name": "stdout",
     "output_type": "stream",
     "text": [
      "Caminhao: cor=Roxo, placa=GFD-8712, numero_rodas=8, carregado=True\n",
      "Carro: cor=Branco, placa=XDE-0098, numero_rodas=4\n",
      "Motocicleta: cor=Preta, placa=ABC-1234, numero_rodas=2\n"
     ]
    }
   ],
   "source": [
    "print(caminhao)\n",
    "print(carro)\n",
    "print(moto)"
   ]
  },
  {
   "cell_type": "markdown",
   "id": "4acf604d-ee1e-4a5f-9073-ed495970d891",
   "metadata": {},
   "source": [
    "------------"
   ]
  },
  {
   "cell_type": "markdown",
   "id": "d6d1882c-7eb2-49d2-9697-a93a437b106f",
   "metadata": {},
   "source": [
    "## Herança Múltipla"
   ]
  },
  {
   "attachments": {
    "a2a5d030-d46c-4258-94c5-3e917045f819.png": {
     "image/png": "[encoded data removed]"
    }
   },
   "cell_type": "markdown",
   "id": "35e23cf1-f01e-4e51-8577-52a256d46f75",
   "metadata": {},
   "source": [
    "![image.png](attachment:a2a5d030-d46c-4258-94c5-3e917045f819.png)"
   ]
  },
  {
   "cell_type": "code",
   "execution_count": 80,
   "id": "650bbda0-2a39-4bb8-aecc-a1b5730ab6f6",
   "metadata": {},
   "outputs": [],
   "source": [
    "\n",
    "class Animal():\n",
    "    def __init__(self, nro_patas):\n",
    "        self.nro_patas = nro_patas\n",
    "        \n",
    "    def __str__(self):\n",
    "        return f\"{self.__class__.__name__}: {', '.join([f'{chave}={valor}' for chave, valor in self.__dict__.items()])}\"\n",
    "\n",
    "class Mamifero(Animal):\n",
    "    def __init__(self, cor_pelo, **kw):\n",
    "        self.cor_pelo = cor_pelo\n",
    "        super().__init__(**kw)\n",
    "\n",
    "class Ave(Animal):\n",
    "     def __init__(self, cor_bico,**kw):\n",
    "         self.cor_bico = cor_bico\n",
    "         super().__init__(**kw)\n",
    "         \n",
    "\n",
    "class Gato(Mamifero):\n",
    "    pass\n",
    "\n",
    "class Ornitorrinco(Mamifero, Ave):\n",
    "    def __init__(self, cor_bico, cor_pelo, nro_patas,):\n",
    "        print(Ornitorrinco.__mro__)\n",
    "        super().__init__(cor_pelo=cor_pelo, cor_bico=cor_bico, nro_patas=nro_patas)"
   ]
  },
  {
   "cell_type": "code",
   "execution_count": 81,
   "id": "83af1e9a-77b2-4d02-a77b-918e0822889a",
   "metadata": {},
   "outputs": [
    {
     "name": "stdout",
     "output_type": "stream",
     "text": [
      "Gato: cor_pelo=Preto, nro_patas=4\n"
     ]
    }
   ],
   "source": [
    "gato = Gato(nro_patas=4, cor_pelo=\"Preto\")\n",
    "print(gato)"
   ]
  },
  {
   "cell_type": "code",
   "execution_count": 82,
   "id": "a8146a23-1bfb-46f7-80f5-781612f4ed92",
   "metadata": {},
   "outputs": [
    {
     "name": "stdout",
     "output_type": "stream",
     "text": [
      "(<class '__main__.Ornitorrinco'>, <class '__main__.Mamifero'>, <class '__main__.Ave'>, <class '__main__.Animal'>, <class 'object'>)\n",
      "Ornitorrinco: cor_pelo=vermelho, cor_bico=laranja, nro_patas=2\n"
     ]
    }
   ],
   "source": [
    "ornitorrinco = Ornitorrinco(nro_patas=2, cor_pelo=\"vermelho\", cor_bico=\"laranja\")\n",
    "print(ornitorrinco)"
   ]
  },
  {
   "cell_type": "code",
   "execution_count": null,
   "id": "7aa9c139-f4ef-43da-9e66-278d2e8f24e0",
   "metadata": {},
   "outputs": [],
   "source": []
  }
 ],
 "metadata": {
  "kernelspec": {
   "display_name": "Python 3 (ipykernel)",
   "language": "python",
   "name": "python3"
  },
  "language_info": {
   "codemirror_mode": {
    "name": "ipython",
    "version": 3
   },
   "file_extension": ".py",
   "mimetype": "text/x-python",
   "name": "python",
   "nbconvert_exporter": "python",
   "pygments_lexer": "ipython3",
   "version": "3.11.7"
  }
 },
 "nbformat": 4,
 "nbformat_minor": 5
}
