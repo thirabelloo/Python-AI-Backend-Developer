{
 "cells": [
  {
   "cell_type": "markdown",
   "id": "a6b02e92-200d-408c-883c-ca78b0e93e19",
   "metadata": {},
   "source": [
    "# Lidando com Data,Hora e Fuso Horário no Python\n"
   ]
  },
  {
   "cell_type": "markdown",
   "id": "9e266cde-aa0e-47b2-9eff-5ab0a9717e11",
   "metadata": {},
   "source": [
    "-----\n",
    "## Objetivo Geral\n",
    "\n",
    "Aprender a trabalhar com datas, horas e fusos horários em Python, dominando o módulo 'datetime' para manipulações precisas.\n",
    "\n",
    "### O que é o módulo datetime?\n",
    "\n",
    "O módulo 'datetime' em Python é usado para lidar com dats e horas. Ele possui várias classes úteis como date, time e timedeçta.\n",
    "\n",
    "-----"
   ]
  },
  {
   "cell_type": "code",
   "execution_count": 6,
   "id": "7e3ae053-dbdf-4237-bee7-59db9931b6fb",
   "metadata": {},
   "outputs": [
    {
     "name": "stdout",
     "output_type": "stream",
     "text": [
      "2024-05-21\n",
      "2024-05-20\n"
     ]
    }
   ],
   "source": [
    "import datetime\n",
    "# from datetime import date\n",
    "\n",
    "data = datetime.date(2024, 5, 21)\n",
    "print(data)\n",
    "\n",
    "# Imprimindo a data atual \n",
    "print(datetime.date.today())"
   ]
  },
  {
   "cell_type": "code",
   "execution_count": 11,
   "id": "5aeb80b6-b898-47a0-9740-8f6b454b6be2",
   "metadata": {},
   "outputs": [
    {
     "name": "stdout",
     "output_type": "stream",
     "text": [
      "2024-07-10 10:30:20\n",
      "2024-05-20 17:53:25.310248\n",
      "10:20:00\n"
     ]
    }
   ],
   "source": [
    "from datetime import date, datetime, time\n",
    "\n",
    "data_hora = datetime(2024, 7, 10, 10, 30, 20)\n",
    "print(data_hora)\n",
    "\n",
    "# Imprimindo a data e hora atual\n",
    "print(datetime.today())\n",
    "\n",
    "hora = time(10, 20, 0)\n",
    "print(hora)"
   ]
  },
  {
   "cell_type": "markdown",
   "id": "85bd6f1f-17b4-4574-bdba-642ad4419a7a",
   "metadata": {},
   "source": [
    "------\n",
    "## Manipulando datas com timedelta\n",
    "\n",
    "Podemos criar e manipular objetos date, time e datetime de várias maneiras. Por exemplo, podemos adicionar e subtrair datas, verificar a diferença entre datas e muito mais."
   ]
  },
  {
   "cell_type": "code",
   "execution_count": 1,
   "id": "4388cdd1-eeb2-4819-ab91-e9794d83a2af",
   "metadata": {},
   "outputs": [
    {
     "name": "stdout",
     "output_type": "stream",
     "text": [
      "2024-05-21 13:45:00\n",
      "2024-05-28 13:45:00\n"
     ]
    }
   ],
   "source": [
    "import datetime\n",
    "\n",
    "# Criando data e hora\n",
    "d = datetime.datetime(2024, 5, 21, 13, 45)\n",
    "print(d)\n",
    "\n",
    "# Adicionando uma semana\n",
    "d = d + datetime.timedelta(weeks=1)\n",
    "print(d)"
   ]
  },
  {
   "cell_type": "code",
   "execution_count": 10,
   "id": "b62c86ef-3c88-41c2-82a4-68ecd4bdc477",
   "metadata": {},
   "outputs": [
    {
     "name": "stdout",
     "output_type": "stream",
     "text": [
      "O carro chegou: 2024-05-21 09:55:26.975451 e ficará pronto às 2024-05-21 10:25:26.975451\n",
      "2024-05-20\n"
     ]
    }
   ],
   "source": [
    "from datetime import date, datetime, timedelta\n",
    "\n",
    "tipo_carrro = \"P\"\n",
    "tempo_pequeno = 30\n",
    "tempo_medio = 45\n",
    "tempo_grande = 60\n",
    "data_atual = datetime.now()\n",
    "\n",
    "\n",
    "if tipo_carrro == \"P\":\n",
    "    data_estimada = data_atual + timedelta(minutes=tempo_pequeno)\n",
    "    print(f\"O carro chegou: {data_atual} e ficará pronto às {data_estimada}\")\n",
    "elif tipo_carrro == \"M\":\n",
    "    data_estimada = data_atual + timedelta(minutes=tempo_medio)\n",
    "    print(f\"O carro chegou: {data_atual} e ficará pronto às {data_estimada}\")\n",
    "else:\n",
    "    data_estimada = data_atual + timedelta(minutes=tempo_grande)\n",
    "    print(f\"O carro chegou: {data_atual} e ficará pronto às {data_estimada}\")\n",
    "\n",
    "print(date.today() - timedelta(days=1))"
   ]
  },
  {
   "cell_type": "code",
   "execution_count": 12,
   "id": "2c359d81-4f18-4d1e-85e1-fc52f6956267",
   "metadata": {},
   "outputs": [
    {
     "name": "stdout",
     "output_type": "stream",
     "text": [
      "09:19:20\n",
      "2024-05-21\n"
     ]
    }
   ],
   "source": [
    "# Trabalhando com horas\n",
    "resultado = datetime(2024, 7, 25, 10, 19, 20) - timedelta(hours=1)\n",
    "print(resultado.time())\n",
    "print(resultado.now().date())"
   ]
  },
  {
   "cell_type": "markdown",
   "id": "b6d8efb0-6ce6-4a0c-88c6-e25d17b12955",
   "metadata": {},
   "source": [
    "--------------\n",
    "## Formatando e convertendo datas com Strftime e Strptime\n",
    "\n",
    "Python também permite converter e formatar datas e horas. Para isso, usamos os métodos 'strftime' (string format time) e 'strptime' (string parse time)."
   ]
  },
  {
   "cell_type": "code",
   "execution_count": 16,
   "id": "69b8f2ec-b19f-41b5-b1af-ee6e98a16bed",
   "metadata": {},
   "outputs": [
    {
     "name": "stdout",
     "output_type": "stream",
     "text": [
      "21/05/2024 10:19\n",
      "2024-07-20 15:30:00\n"
     ]
    }
   ],
   "source": [
    "# Exemplo\n",
    "import datetime\n",
    "\n",
    "d = datetime.datetime.now()\n",
    "\n",
    "# Formatando data e hora\n",
    "print(d.strftime(\"%d/%m/%Y %H:%M\"))\n",
    "\n",
    "# Convertendo string para datetime\n",
    "data_string = \"20/07/2024 15:30\"\n",
    "d = datetime.datetime.strptime(data_string, \"%d/%m/%Y %H:%M\")\n",
    "print(d)"
   ]
  },
  {
   "cell_type": "code",
   "execution_count": 22,
   "id": "50df4d95-090f-41df-8992-fcc26d048c59",
   "metadata": {},
   "outputs": [
    {
     "name": "stdout",
     "output_type": "stream",
     "text": [
      "2024-05-21 09:55:26.975451\n",
      "21/05/2024 Tue\n",
      "\n",
      "<class 'str'>\n",
      "2024-10-20 10:20\n",
      "2024-10-20 10:20:00\n"
     ]
    }
   ],
   "source": [
    "from datetime import datetime\n",
    "\n",
    "data_hora_atual = datetime.now()\n",
    "data_hora_str = \"2024-10-20 10:20\"\n",
    "mascara_ptbr = \"%d/%m/%Y %a\"\n",
    "mascara_en = \"%Y-%m-%d %H:%M\"\n",
    "\n",
    "print(data_atual)\n",
    "print(data_atual.strftime(mascara_ptbr))\n",
    "\n",
    "print()\n",
    "print(type(data_hora_str))\n",
    "print(data_hora_str)\n",
    "print(datetime.strptime(data_hora_str, mascara_en)) "
   ]
  },
  {
   "cell_type": "markdown",
   "id": "e9b1c3b8-0663-4ed4-8808-97a87b4bd4f3",
   "metadata": {},
   "source": [
    "-----------------\n",
    "## Trabalhando com Timezone\n",
    "\n",
    "Quando trabalhamos com data e hora, lidar com fusos horários é uma necessidade comum. Python facilita isso através do módulo 'pytz'."
   ]
  },
  {
   "cell_type": "code",
   "execution_count": 25,
   "id": "5bd4d780-62cf-4e6a-aeae-bba98010404a",
   "metadata": {},
   "outputs": [
    {
     "name": "stdout",
     "output_type": "stream",
     "text": [
      "2024-05-21 15:00:37.743203-03:00\n",
      "2024-05-21 20:00:37.745205+02:00\n"
     ]
    }
   ],
   "source": [
    "# Exemplo\n",
    "import datetime\n",
    "import pytz\n",
    "\n",
    "# Criando datetime com timezone\n",
    "data_america = datetime.datetime.now(pytz.timezone(\"America/Sao_Paulo\"))\n",
    "data_europa = datetime.datetime.now(pytz.timezone(\"Europe/Oslo\"))\n",
    "\n",
    "print(data_america)\n",
    "print(data_europa)"
   ]
  },
  {
   "cell_type": "markdown",
   "id": "8445b653-9e72-4e96-96ca-e23d1bfc5faf",
   "metadata": {},
   "source": [
    "-----\n",
    "### Trabalhando com tz sem bibliotecas externas\n",
    "\n",
    "O Python permite fazer isso com o módulo datetime padrão, embora seja um pouco mais complexo do que usando bibliotecas como 'pytz'."
   ]
  },
  {
   "cell_type": "code",
   "execution_count": 30,
   "id": "332dc51f-35e2-44a3-b226-8dd0f3fe5d7d",
   "metadata": {},
   "outputs": [
    {
     "name": "stdout",
     "output_type": "stream",
     "text": [
      "2024-05-21 15:44:06.902241-03:00\n",
      "2024-05-21 18:44:06.902241+00:00\n"
     ]
    }
   ],
   "source": [
    "import datetime\n",
    "\n",
    "# Criando datetime com timezone\n",
    "data = datetime.datetime.now(datetime.timezone(datetime.timedelta(hours=-3), \"BRT\"))\n",
    "print(data)\n",
    "\n",
    "# Convertendo para outro timezone\n",
    "data_utc = data.astimezone(datetime.timezone.utc)\n",
    "print(data_utc)"
   ]
  },
  {
   "cell_type": "markdown",
   "id": "798f5400-4e7b-463a-b059-601c1c5cb809",
   "metadata": {},
   "source": [
    "-----------------------\n",
    "<br>\n",
    "<br>"
   ]
  },
  {
   "cell_type": "raw",
   "id": "44fccd1b-d8b5-4e35-9319-d2d5c70e98d6",
   "metadata": {},
   "source": []
  }
 ],
 "metadata": {
  "kernelspec": {
   "display_name": "Python 3 (ipykernel)",
   "language": "python",
   "name": "python3"
  },
  "language_info": {
   "codemirror_mode": {
    "name": "ipython",
    "version": 3
   },
   "file_extension": ".py",
   "mimetype": "text/x-python",
   "name": "python",
   "nbconvert_exporter": "python",
   "pygments_lexer": "ipython3",
   "version": "3.11.7"
  }
 },
 "nbformat": 4,
 "nbformat_minor": 5
}
