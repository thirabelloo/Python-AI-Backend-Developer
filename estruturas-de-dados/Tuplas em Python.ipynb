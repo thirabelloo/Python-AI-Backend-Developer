{
 "cells": [
  {
   "cell_type": "markdown",
   "id": "d86f3e57-5b4f-411b-8487-faf2abb84404",
   "metadata": {},
   "source": [
    "# Tuplas em Python"
   ]
  },
  {
   "cell_type": "markdown",
   "id": "4885573b-6179-47bb-95e3-c25d78689ed5",
   "metadata": {},
   "source": [
    "____\n",
    "### Criando tuplas\n",
    "\n",
    "Tuplas são estruturas de dados muito parecidas com as listas, a principal diferença é que tuplas **são imutáveis** enquanto listas **são mutáveis.** Podemos criar tuplas através da classe **tuple**, ou colocando valores separados por vírgula de parenteses."
   ]
  },
  {
   "cell_type": "code",
   "execution_count": 6,
   "id": "ff38ae10-3179-4739-affd-104e502e0750",
   "metadata": {},
   "outputs": [
    {
     "name": "stdout",
     "output_type": "stream",
     "text": [
      "Tipo da variavél: <class 'tuple'>\n",
      "('laranja', 'pera', 'uva')\n",
      "('p', 'y', 't', 'h', 'o', 'n')\n",
      "(1, 2, 3, 4)\n",
      "('Brasil',)\n"
     ]
    }
   ],
   "source": [
    "frutas = (\"laranja\", \"pera\", \"uva\",)\n",
    "print(\"Tipo da variavél:\",type(frutas))\n",
    "print(frutas)\n",
    "\n",
    "letras = tuple(\"python\")\n",
    "print(letras)\n",
    "\n",
    "numeros = tuple([1, 2, 3, 4])\n",
    "print(numeros)\n",
    "\n",
    "pais = (\"Brasil\",)\n",
    "print(pais)"
   ]
  },
  {
   "cell_type": "markdown",
   "id": "83dffa41-1da3-4edb-9a73-ddd4111d454e",
   "metadata": {},
   "source": [
    "----\n",
    "### Acesso direto\n",
    "\n",
    "A tupla é uma sequência, portanto podemos acessar seus dados utilizando índices. Contamos o índice de determinada sequência a partir do zero."
   ]
  },
  {
   "cell_type": "code",
   "execution_count": 7,
   "id": "ddc37692-c38a-4065-8b44-bd118dce90e2",
   "metadata": {},
   "outputs": [
    {
     "name": "stdout",
     "output_type": "stream",
     "text": [
      "maça\n",
      "uva\n"
     ]
    }
   ],
   "source": [
    "frutas = (\"maça\", \"laranja\", \"uva\", \"pera\",)\n",
    "\n",
    "# Encontrando a maça na tupla de frutas\n",
    "print(frutas[0])\n",
    "\n",
    "# Encontrando a uva na tupla de frutas\n",
    "print(frutas[2])"
   ]
  },
  {
   "cell_type": "markdown",
   "id": "bf226ada-af6b-4558-9bdd-ca8cc982b378",
   "metadata": {},
   "source": [
    "----\n",
    "### Índices negativos\n",
    "\n",
    "Sequências suportam indexação negativa. A contagem começa em -1"
   ]
  },
  {
   "cell_type": "code",
   "execution_count": 8,
   "id": "aacdd670-b5a0-4b09-87a7-5b25c7c4b45c",
   "metadata": {},
   "outputs": [
    {
     "name": "stdout",
     "output_type": "stream",
     "text": [
      "pera\n",
      "laranja\n"
     ]
    }
   ],
   "source": [
    "frutas = (\"maça\", \"laranja\", \"uva\", \"pera\",)\n",
    "\n",
    "# Encontrando a pera na tupla de frutas através da indexação negativa\n",
    "print(frutas[-1])\n",
    "\n",
    "# Encontrando a laranja na tupla de frutas através da indexação negativa\n",
    "print(frutas[-3])"
   ]
  },
  {
   "cell_type": "markdown",
   "id": "b2098972-0ee1-415c-b4cf-183e84a88715",
   "metadata": {},
   "source": [
    "----\n",
    "### Tuplas aninhadas\n",
    "\n",
    "Tuplas podem armazenar todos os tipos de objetos Python, portanto podemos ter tuplas que armazenam outras tuplas.\n",
    "Com isso podemos criar estrututas bidimensionais (tabelas), e acessar informando os índices de linha e coluna. "
   ]
  },
  {
   "cell_type": "code",
   "execution_count": 9,
   "id": "609f50b2-1a59-4db2-9707-6795a8a97ebc",
   "metadata": {},
   "outputs": [
    {
     "name": "stdout",
     "output_type": "stream",
     "text": [
      "(1, 'a', 2)\n",
      "1\n",
      "2\n",
      "c\n"
     ]
    }
   ],
   "source": [
    "matriz = (\n",
    "    (1, \"a\", 2),\n",
    "    (\"b\", 3, 4),\n",
    "    (6, 5, \"c\"),\n",
    ")\n",
    "\n",
    "# Acessando a primeira linha da matriz\n",
    "print(matriz[0])\n",
    "\n",
    "# Acessando o primeiro elemento da primeira linha e da primeira coluna da matriz \n",
    "print(matriz[0][0])\n",
    "\n",
    "# Acessando o ultimo elemento da primeira linha e da ultima coluna da matriz\n",
    "print(matriz[0][2])\n",
    "\n",
    "#  Acesseno o ultimo elemento da ultima linha e da ultima coluna da matriz\n",
    "print(matriz[2][2])\n"
   ]
  },
  {
   "cell_type": "markdown",
   "id": "c4f8c204-d96f-4814-a80f-6aed8c58f466",
   "metadata": {},
   "source": [
    "------\n",
    "### Fatiamento\n",
    "\n",
    "Além de acessar elementos diretamante, podemos extrair um conjunto de valores de uma sequência. Para isso basta passar o índice inicial e/ou final para acessar o conjunto. Podemos ainda informar quantas posições o cursos deve \"pular\" no acesso."
   ]
  },
  {
   "cell_type": "code",
   "execution_count": 10,
   "id": "ce2a390d-0bb7-4646-a167-d2867857cff6",
   "metadata": {},
   "outputs": [
    {
     "name": "stdout",
     "output_type": "stream",
     "text": [
      "('p', 'y', 't', 'h', 'o', 'n')\n",
      "('t', 'h', 'o', 'n')\n",
      "('p', 'y')\n",
      "('y', 't')\n",
      "('p', 't')\n",
      "('p', 'y', 't', 'h', 'o', 'n')\n",
      "('n', 'o', 'h', 't', 'y', 'p')\n"
     ]
    }
   ],
   "source": [
    "tupla = (\"p\", \"y\", \"t\", \"h\", \"o\", \"n\",)\n",
    "\n",
    "print(tupla)\n",
    "print(tupla[2:])\n",
    "print(tupla[:2])\n",
    "print(tupla[1:3])\n",
    "print(tupla[0:3:2])\n",
    "print(tupla[::])\n",
    "print(tupla[::-1])"
   ]
  },
  {
   "cell_type": "markdown",
   "id": "3c071229-1cad-4041-acce-31167699b551",
   "metadata": {},
   "source": [
    "----\n",
    "### Iterar tuplas\n",
    "\n",
    "A forma mais  comum para percorrer os dados de uma tupla pe utilizando o comando **for**"
   ]
  },
  {
   "cell_type": "code",
   "execution_count": 12,
   "id": "c73b0ace-6eb2-4995-9bbb-b120dd6fc553",
   "metadata": {},
   "outputs": [
    {
     "name": "stdout",
     "output_type": "stream",
     "text": [
      "gol\n",
      "celta\n",
      "palio\n"
     ]
    }
   ],
   "source": [
    "carros = (\"gol\", \"celta\", \"palio\",)\n",
    "\n",
    "for carro in carros:\n",
    "    print(carro)"
   ]
  },
  {
   "cell_type": "markdown",
   "id": "daa7db63-6467-46b7-81a3-e6dc35ecdc93",
   "metadata": {},
   "source": [
    "----\n",
    "### Função enumerate\n",
    "\n",
    "Às vezes é necessário saber qual o índice do objeto dentro do laço **for**. Para isso podemos usar a função **enumerate.**"
   ]
  },
  {
   "cell_type": "code",
   "execution_count": 15,
   "id": "d85a7f44-c942-4381-86ca-58e1e40ddf27",
   "metadata": {},
   "outputs": [
    {
     "name": "stdout",
     "output_type": "stream",
     "text": [
      "0: gol\n",
      "1: celta\n",
      "2: palio\n"
     ]
    }
   ],
   "source": [
    "carros = (\"gol\", \"celta\", \"palio\",)\n",
    "\n",
    "for indice,carro in enumerate(carros):\n",
    "    print(f\"{indice}: {carro}\")"
   ]
  },
  {
   "cell_type": "markdown",
   "id": "12bdd448-bf13-4231-8576-952f18ded7b3",
   "metadata": {},
   "source": [
    "---------\n",
    "### Métodos da Classe tuple"
   ]
  },
  {
   "cell_type": "code",
   "execution_count": 17,
   "id": "8f248a82-3e4b-4f66-bd76-532e959e0ae0",
   "metadata": {},
   "outputs": [
    {
     "name": "stdout",
     "output_type": "stream",
     "text": [
      "('vermelho', 'azul', 'verde', 'azul')\n",
      "1\n",
      "2\n",
      "1\n"
     ]
    }
   ],
   "source": [
    "# Método count\n",
    "cores = (\"vermelho\", \"azul\", \"verde\", \"azul\")\n",
    "\n",
    "print(cores)\n",
    "print(cores.count(\"vermelho\"))\n",
    "print(cores.count(\"azul\"))\n",
    "print(cores.count(\"verde\"))"
   ]
  },
  {
   "cell_type": "code",
   "execution_count": 20,
   "id": "6987f826-1b03-401e-8775-ee6416b1663f",
   "metadata": {},
   "outputs": [
    {
     "name": "stdout",
     "output_type": "stream",
     "text": [
      "('python', 'js', 'c', 'java', 'csharp')\n",
      "3\n",
      "0\n"
     ]
    }
   ],
   "source": [
    "# Método index\n",
    "linguagens = (\"python\", \"js\", \"c\", \"java\", \"csharp\",)\n",
    "\n",
    "print(linguagens)\n",
    "print(linguagens.index(\"java\"))\n",
    "print(linguagens.index(\"python\"))"
   ]
  },
  {
   "cell_type": "code",
   "execution_count": 21,
   "id": "01ffe2bf-2a9b-4926-af31-d07d3c3fba0c",
   "metadata": {},
   "outputs": [
    {
     "name": "stdout",
     "output_type": "stream",
     "text": [
      "('python', 'js', 'c', 'java', 'csharp')\n",
      "5\n"
     ]
    }
   ],
   "source": [
    "# Método len\n",
    "linguagens = (\"python\", \"js\", \"c\", \"java\", \"csharp\",)\n",
    "print(linguagens)\n",
    "print(len(linguagens))"
   ]
  },
  {
   "cell_type": "code",
   "execution_count": null,
   "id": "c562a32e-a5fc-4ce2-b4c9-d888484aeb8d",
   "metadata": {},
   "outputs": [],
   "source": []
  }
 ],
 "metadata": {
  "kernelspec": {
   "display_name": "Python 3 (ipykernel)",
   "language": "python",
   "name": "python3"
  },
  "language_info": {
   "codemirror_mode": {
    "name": "ipython",
    "version": 3
   },
   "file_extension": ".py",
   "mimetype": "text/x-python",
   "name": "python",
   "nbconvert_exporter": "python",
   "pygments_lexer": "ipython3",
   "version": "3.11.7"
  }
 },
 "nbformat": 4,
 "nbformat_minor": 5
}
