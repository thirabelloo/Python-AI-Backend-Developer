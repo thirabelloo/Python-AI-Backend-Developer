{
 "cells": [
  {
   "cell_type": "markdown",
   "id": "286a222f-e9cc-47d0-9109-12ff5b48557a",
   "metadata": {},
   "source": [
    "# Estruturas Condicionais e de Repetição em Python\n"
   ]
  },
  {
   "cell_type": "markdown",
   "id": "9c45cad9-6933-4e97-b22a-b46c0292daa9",
   "metadata": {
    "jp-MarkdownHeadingCollapsed": true
   },
   "source": [
    "-------\n",
    "## Indentação e blocos\n",
    "\n",
    "### A estética\n",
    "Identar código é uma forma de manter o código fonte mais legível e manutenível. Mas em Python ela exerce um segundo papel, através da indentação o interpretador consegue determinar onde um bloco de comando inicia e onde ele termina.\n",
    "\n",
    "### Bloco de comando\n",
    "As linguagens de programação costumam utilizar caracteres ou palavras reservadas para terminar o início e fim do bloco. Em Java e C por exemplo, utilizamos chaves.\n",
    "\n",
    "### Utilizando espaços\n",
    "Existe uma convenção em Python, que define as boas práticas para escrita de código na linguagem. Nesse documento é indicado utilizar 4 espaços em branco por nível de indentação, ou seja, a cada novo bloco adicionamos 4 novos espaços em branco.\n",
    "\n",
    "------"
   ]
  },
  {
   "cell_type": "code",
   "execution_count": 3,
   "id": "836af988-fb68-4401-8586-665d1050fc91",
   "metadata": {},
   "outputs": [],
   "source": [
    "# Bloco em Python\n",
    "def sacar(self, valor: float) -> None:\n",
    "    if self.saldo >= valor:\n",
    "        self.salddo -= valor"
   ]
  },
  {
   "cell_type": "markdown",
   "id": "f9a89217-c93c-44ff-813e-3fc87ac8d7fe",
   "metadata": {
    "jp-MarkdownHeadingCollapsed": true
   },
   "source": [
    "----\n",
    "## Estruturas Condicionais\n",
    "\n",
    "A estrutura condicional permite o desvio de fluxo de controle, quando determinadas expressões lógicas são atendidas.\n",
    "\n",
    "------"
   ]
  },
  {
   "cell_type": "markdown",
   "id": "2dae9cf5-3da7-4065-9c56-092fa207e95c",
   "metadata": {
    "jp-MarkdownHeadingCollapsed": true
   },
   "source": [
    "### if\n",
    "Para criar uma estrutura condicional simples, composta por um único desvio, podemos utilizar a palavra reservada if. O comando irá testar a expressão lógica, e em caso de retorno verdadeiro as ações presentes no bloco de código do if serão executadas."
   ]
  },
  {
   "cell_type": "code",
   "execution_count": 9,
   "id": "41be6173-b737-4eff-9991-54e79aa9ffd8",
   "metadata": {},
   "outputs": [
    {
     "name": "stdin",
     "output_type": "stream",
     "text": [
      "Informe o valor do saque:  2000\n"
     ]
    },
    {
     "name": "stdout",
     "output_type": "stream",
     "text": [
      "Realizando saque!\n"
     ]
    }
   ],
   "source": [
    "# Exemplo com If\n",
    "saldo = 2000\n",
    "saque = float(input(\"Informe o valor do saque: \"))\n",
    "\n",
    "if saldo >= saque:\n",
    "    print(\"Realizando saque!\")\n",
    "if saldo < saque:\n",
    "    print(\"Saldo insuficiente!\")"
   ]
  },
  {
   "cell_type": "markdown",
   "id": "782d42dc-f72b-4a35-994c-3f09ecdd3ea1",
   "metadata": {
    "jp-MarkdownHeadingCollapsed": true
   },
   "source": [
    "---\n",
    "### if/ else\n",
    "Para criar uma estrutura condicional com dois desvios, podemos utilizar as palavras reservadas if e else. Como sabemos se a expressão lógica testada no if for verdadeira, então o bloco de código do if será executado. Caso contrário o bloco de código do else será executado."
   ]
  },
  {
   "cell_type": "code",
   "execution_count": 11,
   "id": "2e511e11-6268-489a-8b29-17c8ee6b32df",
   "metadata": {},
   "outputs": [
    {
     "name": "stdin",
     "output_type": "stream",
     "text": [
      "Informe o valor do saque:  2000\n"
     ]
    },
    {
     "name": "stdout",
     "output_type": "stream",
     "text": [
      "Realizando saque!\n"
     ]
    }
   ],
   "source": [
    "# Exemplo com If e else\n",
    "saldo = 2000\n",
    "saque = float(input(\"Informe o valor do saque: \"))\n",
    "\n",
    "if saldo >= saque:\n",
    "    print(\"Realizando saque!\")\n",
    "else:\n",
    "    print(\"Saldo insuficiente!\")"
   ]
  },
  {
   "cell_type": "markdown",
   "id": "aa510e31-b6a5-4d2a-b162-03d495ca731d",
   "metadata": {
    "jp-MarkdownHeadingCollapsed": true
   },
   "source": [
    "-----\n",
    "### if/ elif/ else\n",
    "Em alguns cenários queremos mais de dois desvios, para isso podemos utilizar a palavra reservada elif. O elif é composto por uma nova expressão lógica, que será testada e caso retorne verdadeiro o bloco de código do elif será executado. Não existe um número máximo de elifs que podemos utilizar, porém evite criar grandes estruturas condicionais, pois elas aumentam a complexidade do código"
   ]
  },
  {
   "cell_type": "code",
   "execution_count": 15,
   "id": "9801d7ac-b5da-4500-8c70-67bfca180cee",
   "metadata": {},
   "outputs": [
    {
     "name": "stdin",
     "output_type": "stream",
     "text": [
      "Informe uma opção: [1] Sacar \n",
      "[2] Extrato:  1\n",
      "Informe a quantia para o saque:  150\n"
     ]
    }
   ],
   "source": [
    "# Exemplo If/elif e else\n",
    "import sys\n",
    "opcao = int(input(\"Informe uma opção: [1] Sacar \\n[2] Extrato: \"))\n",
    "\n",
    "if opcao == 1:\n",
    "    valor = float(input(\"Informe a quantia para o saque: \"))\n",
    "elif opcao == 2:\n",
    "    print(\"Exibindo o extrato...\")\n",
    "else:\n",
    "    sys.exit(\"Opção inválida\")"
   ]
  },
  {
   "cell_type": "code",
   "execution_count": 18,
   "id": "9a90718c-1396-480e-98c7-636237333666",
   "metadata": {},
   "outputs": [
    {
     "name": "stdin",
     "output_type": "stream",
     "text": [
      "Informe sua idade:  19\n"
     ]
    },
    {
     "name": "stdout",
     "output_type": "stream",
     "text": [
      "Maior de idade, pode tirar a CNH.\n"
     ]
    }
   ],
   "source": [
    "# Exemplo Pratico\n",
    "MAIOR_IDADE = 18\n",
    "\n",
    "idade = int(input(\"Informe sua idade: \"))\n",
    "\n",
    "if idade >= MAIOR_IDADE:\n",
    "    print(\"Maior de idade, pode tirar a CNH.\")\n",
    "else:\n",
    "    print(\"Ainda não pode tirar a CNH.\")"
   ]
  },
  {
   "cell_type": "code",
   "execution_count": 22,
   "id": "d5e096a9-2c79-49f8-b8d8-ade0499b2b51",
   "metadata": {},
   "outputs": [
    {
     "name": "stdin",
     "output_type": "stream",
     "text": [
      "Informe sua idade:  17\n"
     ]
    },
    {
     "name": "stdout",
     "output_type": "stream",
     "text": [
      "Pode fazer aulas teóricas, mas não pode fazer aulas prática\n"
     ]
    }
   ],
   "source": [
    "# Exemplo Pratico 2\n",
    "MAIOR_IDADE = 18\n",
    "IDADE_ESPECIAL = 17\n",
    "\n",
    "idade = int(input(\"Informe sua idade: \"))\n",
    "\n",
    "if idade >= MAIOR_IDADE:\n",
    "    print(\"Maior de idade, pode tirar a CNH.\")\n",
    "elif idade == IDADE_ESPECIAL:\n",
    "    print(\"Pode fazer aulas teóricas, mas não pode fazer aulas prática\")\n",
    "else:\n",
    "    print(\"Ainda não pode tirar a CNH.\")\n"
   ]
  },
  {
   "cell_type": "markdown",
   "id": "e69b5d89-0027-4620-8407-98e60cdb64e3",
   "metadata": {
    "jp-MarkdownHeadingCollapsed": true
   },
   "source": [
    "-----\n",
    "### If aninhado\n",
    "Podemos criar estruturas condicionais aninhadas, para isso basta adicionar estruturas if/elif/else dentro do bloco de código de estruturas if/elif/else"
   ]
  },
  {
   "cell_type": "code",
   "execution_count": 36,
   "id": "e88c02d4-a2f4-4015-baab-326630249217",
   "metadata": {},
   "outputs": [
    {
     "name": "stdout",
     "output_type": "stream",
     "text": [
      "O sistema não reconheceu seu tipo de conta, entre em contato com o seu gerente.\n"
     ]
    }
   ],
   "source": [
    "# Exemplo if aninhado\n",
    "conta_normal = False\n",
    "conta_universitaria = False\n",
    "\n",
    "saldo = 2000\n",
    "saque = 1500\n",
    "cheque_especial = 450\n",
    "\n",
    "if conta_normal:\n",
    "    if saldo >= saque:\n",
    "        print(\"Saque realizado com sucesso!\")\n",
    "    elif saque <= (saldo +cheque_especial):\n",
    "        print(\"Saque realizado com uso do cheque especial!\")\n",
    "    else:\n",
    "        print(\"Não foi possível realizar o saque, saldo insuficente\")\n",
    "elif conta_universitaria:\n",
    "    if saldo >= saque:\n",
    "        print(\"Saque realizado com sucesso!\")\n",
    "    else:\n",
    "        print(\"Saldo insuficiente!\")\n",
    "else:\n",
    "    print(\"O sistema não reconheceu seu tipo de conta, entre em contato com o seu gerente.\")"
   ]
  },
  {
   "cell_type": "markdown",
   "id": "c1017159-8991-483c-b0c5-927e9c0d17ac",
   "metadata": {
    "jp-MarkdownHeadingCollapsed": true
   },
   "source": [
    "-----\n",
    "### if ternário\n",
    "\n",
    "O if ternário permite escrever uma condição em uma única linha. Ele é composto por três partes, a primeira parte é o retorno caso a expressão retorne verdadeiro, a segunda parte é a expressão lógica e a terceira parte é o retorno caso a expressão não seja atendida."
   ]
  },
  {
   "cell_type": "code",
   "execution_count": 37,
   "id": "ee9a8b54-02b1-480b-84ff-1599a8880c37",
   "metadata": {},
   "outputs": [
    {
     "name": "stdout",
     "output_type": "stream",
     "text": [
      "Sucesso ao realizar o saque!\n"
     ]
    }
   ],
   "source": [
    "# Exemplo if ternário\n",
    "saldo = 2000\n",
    "saque = 500\n",
    "\n",
    "status = \"Sucesso\" if saldo >= saque else \"Falha\"\n",
    "print(f\"{status} ao realizar o saque!\")"
   ]
  },
  {
   "cell_type": "markdown",
   "id": "d09fce79-e9a7-4c04-8e7c-e5e23993a0f4",
   "metadata": {
    "jp-MarkdownHeadingCollapsed": true
   },
   "source": [
    "------\n",
    "## Estruturas de Repetição\n",
    "\n",
    "São estruturas utilizadas para repetir um trecho de código um determinado número de vezes. Esse número pode ser conhecido previamente ou determinado através de uma expressão lógica."
   ]
  },
  {
   "cell_type": "code",
   "execution_count": 39,
   "id": "1f4f151d-2469-47df-be72-861bba39e421",
   "metadata": {},
   "outputs": [
    {
     "name": "stdin",
     "output_type": "stream",
     "text": [
      "Informe um número inteiro:  2\n"
     ]
    },
    {
     "name": "stdout",
     "output_type": "stream",
     "text": [
      "2\n",
      "3\n",
      "4\n"
     ]
    }
   ],
   "source": [
    "# Exemplo sem repetição - Rebeba um número dp teclado e exiba os 2 números seguintes\n",
    "a = int(input(\"Informe um número inteiro: \"))\n",
    "print(a)\n",
    "\n",
    "a += 1\n",
    "print(a)\n",
    "\n",
    "a += 1\n",
    "print(a)"
   ]
  },
  {
   "cell_type": "markdown",
   "id": "c6d1cf54-3b5c-4a26-b0b0-5f8cc403c1d3",
   "metadata": {
    "jp-MarkdownHeadingCollapsed": true
   },
   "source": [
    "---\n",
    "### Comando for\n",
    "O comando for é usado para percorrer um objeto iterável. Faz sentido usar for quando sabemos o número exato de vezes que nosso bloco de código deve ser executado, ou quando queremos percorrer um objeto iterável."
   ]
  },
  {
   "cell_type": "code",
   "execution_count": 40,
   "id": "72e35218-b0fe-4de7-a1ab-2ef228ff8690",
   "metadata": {},
   "outputs": [
    {
     "name": "stdin",
     "output_type": "stream",
     "text": [
      "Informe um número inteiro:  1\n"
     ]
    },
    {
     "name": "stdout",
     "output_type": "stream",
     "text": [
      "1\n",
      "1\n",
      "2\n"
     ]
    }
   ],
   "source": [
    "# Exemplo com repetição\n",
    "a = int(input(\"Informe um número inteiro: \"))\n",
    "print(a)\n",
    "\n",
    "for a in range(2):\n",
    "    a += 1\n",
    "    print(a)"
   ]
  },
  {
   "cell_type": "code",
   "execution_count": 47,
   "id": "804e5a29-ff49-4f01-9988-322df54610b6",
   "metadata": {},
   "outputs": [
    {
     "name": "stdin",
     "output_type": "stream",
     "text": [
      "Informe um texto:  thiago\n"
     ]
    },
    {
     "name": "stdout",
     "output_type": "stream",
     "text": [
      "iao\n"
     ]
    }
   ],
   "source": [
    "# for/ if\n",
    "texto = input(\"Informe um texto: \")\n",
    "VOGAIS = \"AEIOU\"\n",
    "\n",
    "for letra in texto:\n",
    "    if letra.upper() in VOGAIS:\n",
    "        print(letra, end=\"\")\n",
    "print()"
   ]
  },
  {
   "cell_type": "code",
   "execution_count": 51,
   "id": "f78ddba0-4f49-4b88-b096-bc8f0a347946",
   "metadata": {},
   "outputs": [
    {
     "name": "stdin",
     "output_type": "stream",
     "text": [
      "Informe um texto:  Thiago\n"
     ]
    },
    {
     "name": "stdout",
     "output_type": "stream",
     "text": [
      "iao\n",
      "Executa no final do laço\n"
     ]
    }
   ],
   "source": [
    "# for/ else\n",
    "texto = input(\"Informe um texto: \")\n",
    "VOGAIS = \"AEIOU\"\n",
    "\n",
    "for letra in texto:\n",
    "    if letra.upper() in VOGAIS:\n",
    "        print(letra, end=\"\")\n",
    "else:\n",
    "    print()\n",
    "    print(\"Executa no final do laço\")"
   ]
  },
  {
   "cell_type": "markdown",
   "id": "466f76f1-446b-4597-9e76-b0bbbf5912cf",
   "metadata": {
    "jp-MarkdownHeadingCollapsed": true
   },
   "source": [
    "---\n",
    "### Função Range\n",
    "Range é uma função built-in do Pythom, ela é usada para produzir uma sequência de números inteiros a partir de um inicio (inclusivo) para um fim (exclusivo). Se usarmos range(i,j) será produzido:\n",
    "\n",
    "i, i+1, i+2, i+3, ..., j-1.\n",
    "\n",
    "Ela recebe 3 argumentos: stop(obrigátorio), start(opcional) e step opcional."
   ]
  },
  {
   "cell_type": "code",
   "execution_count": 52,
   "id": "d769b1e0-9a90-4c5d-ab97-79d3cb0f77fa",
   "metadata": {},
   "outputs": [
    {
     "data": {
      "text/plain": [
       "[0, 1, 2, 3]"
      ]
     },
     "execution_count": 52,
     "metadata": {},
     "output_type": "execute_result"
    }
   ],
   "source": [
    "# Exemplo Range\n",
    "list(range(4))"
   ]
  },
  {
   "cell_type": "code",
   "execution_count": 54,
   "id": "51b22638-5cbc-4928-8d5d-5438511712c5",
   "metadata": {},
   "outputs": [
    {
     "name": "stdout",
     "output_type": "stream",
     "text": [
      "0 1 2 3 4 5 6 7 8 9 10 "
     ]
    }
   ],
   "source": [
    "# Utilizando range com for\n",
    "for numero in range(0,11):\n",
    "    print(numero, end=\" \")"
   ]
  },
  {
   "cell_type": "code",
   "execution_count": 58,
   "id": "746d8a8a-cd09-456a-b63c-c5b61d778abe",
   "metadata": {},
   "outputs": [
    {
     "name": "stdout",
     "output_type": "stream",
     "text": [
      "0 5 10 15 20 25 30 35 40 45 50 "
     ]
    }
   ],
   "source": [
    "# Exibindo a tabuada do 5\n",
    "for numero in range(0, 51, 5):\n",
    "    print(numero, end=\" \")"
   ]
  },
  {
   "cell_type": "markdown",
   "id": "655d4a87-442c-40ab-90c6-af3c0c2ab772",
   "metadata": {
    "jp-MarkdownHeadingCollapsed": true
   },
   "source": [
    "---\n",
    "### Comando While\n",
    "O comando while é usado para repetir um bloco de código várias vezes. Faz sentindo usar while quando não sabemos o numero exato de vezes que nosso bloco de código deve ser executado."
   ]
  },
  {
   "cell_type": "code",
   "execution_count": 60,
   "id": "bf72ce80-230f-42ae-91c7-c36e27ca6932",
   "metadata": {},
   "outputs": [
    {
     "name": "stdin",
     "output_type": "stream",
     "text": [
      "[1] Sacar \n",
      "[2] Extrato \n",
      "[0] Sair \n",
      ":  1\n"
     ]
    },
    {
     "name": "stdout",
     "output_type": "stream",
     "text": [
      "Sacando...\n"
     ]
    },
    {
     "name": "stdin",
     "output_type": "stream",
     "text": [
      "[1] Sacar \n",
      "[2] Extrato \n",
      "[0] Sair \n",
      ":  2\n"
     ]
    },
    {
     "name": "stdout",
     "output_type": "stream",
     "text": [
      "Exibindo o extrato...\n"
     ]
    },
    {
     "name": "stdin",
     "output_type": "stream",
     "text": [
      "[1] Sacar \n",
      "[2] Extrato \n",
      "[0] Sair \n",
      ":  0\n"
     ]
    }
   ],
   "source": [
    "opcao = -1\n",
    "\n",
    "while opcao != 0:\n",
    "    opcao = int(input(\"[1] Sacar \\n[2] Extrato \\n[0] Sair \\n: \"))\n",
    "    if opcao == 1:\n",
    "        print(\"Sacando...\")\n",
    "    elif opcao == 2:\n",
    "        print(\"Exibindo o extrato...\")"
   ]
  },
  {
   "cell_type": "code",
   "execution_count": 61,
   "id": "011d3aed-8d55-46f8-a58d-c9dfd9a0daa4",
   "metadata": {},
   "outputs": [
    {
     "name": "stdin",
     "output_type": "stream",
     "text": [
      "[1] Sacar \n",
      "[2] Extrato \n",
      "[0] Sair \n",
      ":  1\n"
     ]
    },
    {
     "name": "stdout",
     "output_type": "stream",
     "text": [
      "Sacando...\n"
     ]
    },
    {
     "name": "stdin",
     "output_type": "stream",
     "text": [
      "[1] Sacar \n",
      "[2] Extrato \n",
      "[0] Sair \n",
      ":  2\n"
     ]
    },
    {
     "name": "stdout",
     "output_type": "stream",
     "text": [
      "Exibindo o extrato...\n"
     ]
    },
    {
     "name": "stdin",
     "output_type": "stream",
     "text": [
      "[1] Sacar \n",
      "[2] Extrato \n",
      "[0] Sair \n",
      ":  0\n"
     ]
    },
    {
     "name": "stdout",
     "output_type": "stream",
     "text": [
      "Obrigado por usar nosso sistema bancário, até logo!\n"
     ]
    }
   ],
   "source": [
    "opcao = -1\n",
    "\n",
    "while opcao != 0:\n",
    "    opcao = int(input(\"[1] Sacar \\n[2] Extrato \\n[0] Sair \\n: \"))\n",
    "    if opcao == 1:\n",
    "        print(\"Sacando...\")\n",
    "    elif opcao == 2:\n",
    "        print(\"Exibindo o extrato...\")\n",
    "else:\n",
    "    print(\"Obrigado por usar nosso sistema bancário, até logo!\")"
   ]
  },
  {
   "cell_type": "code",
   "execution_count": 65,
   "id": "10f770b8-33d3-4303-bcd4-1b4bd9aede99",
   "metadata": {},
   "outputs": [
    {
     "name": "stdin",
     "output_type": "stream",
     "text": [
      "Informe um número 71\n"
     ]
    },
    {
     "name": "stdout",
     "output_type": "stream",
     "text": [
      "71\n"
     ]
    },
    {
     "name": "stdin",
     "output_type": "stream",
     "text": [
      "Informe um número 0\n"
     ]
    },
    {
     "name": "stdout",
     "output_type": "stream",
     "text": [
      "0\n"
     ]
    },
    {
     "name": "stdin",
     "output_type": "stream",
     "text": [
      "Informe um número 10\n"
     ]
    }
   ],
   "source": [
    "while True:\n",
    "    numero = int(input(\"Informe um número\"))\n",
    "    if numero == 10:\n",
    "        break\n",
    "        # continue\n",
    "    print(numero)"
   ]
  },
  {
   "cell_type": "code",
   "execution_count": null,
   "id": "cbc409cb-8fdf-42a6-b4bf-4c3063e91c3f",
   "metadata": {},
   "outputs": [],
   "source": []
  }
 ],
 "metadata": {
  "kernelspec": {
   "display_name": "Python 3 (ipykernel)",
   "language": "python",
   "name": "python3"
  },
  "language_info": {
   "codemirror_mode": {
    "name": "ipython",
    "version": 3
   },
   "file_extension": ".py",
   "mimetype": "text/x-python",
   "name": "python",
   "nbconvert_exporter": "python",
   "pygments_lexer": "ipython3",
   "version": "3.11.7"
  }
 },
 "nbformat": 4,
 "nbformat_minor": 5
}
