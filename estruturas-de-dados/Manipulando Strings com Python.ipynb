{
 "cells": [
  {
   "attachments": {},
   "cell_type": "markdown",
   "id": "15c6a571-b502-471c-bed1-4a5c3f782ef1",
   "metadata": {},
   "source": [
    "## Manipulando Strings com Python"
   ]
  },
  {
   "cell_type": "markdown",
   "id": "faaabef6-5a43-4ca3-aeda-6a7160bf104d",
   "metadata": {},
   "source": [
    "## Maiúscula, minúscula e título"
   ]
  },
  {
   "cell_type": "code",
   "execution_count": 1,
   "id": "d701fa90-3fb8-41bf-b5ad-cfc156535bcb",
   "metadata": {},
   "outputs": [],
   "source": [
    "curso = \"pYtHon\""
   ]
  },
  {
   "cell_type": "code",
   "execution_count": 9,
   "id": "331eb158-7ce6-490e-8d3b-12dd54013417",
   "metadata": {},
   "outputs": [
    {
     "name": "stdout",
     "output_type": "stream",
     "text": [
      "      PYTHON \n"
     ]
    }
   ],
   "source": [
    "# Método que deixa deixa a frase maiúscula\n",
    "print(curso.upper())"
   ]
  },
  {
   "cell_type": "code",
   "execution_count": 10,
   "id": "704154e2-bd66-45c1-98ed-a15d09eba1ad",
   "metadata": {},
   "outputs": [
    {
     "name": "stdout",
     "output_type": "stream",
     "text": [
      "      python \n"
     ]
    }
   ],
   "source": [
    "# Método que deixa deixa a frase minúscula\n",
    "print(curso.lower())"
   ]
  },
  {
   "cell_type": "code",
   "execution_count": 11,
   "id": "a120d2a1-45c8-4cb3-9b05-f6a2b26bd8f9",
   "metadata": {},
   "outputs": [
    {
     "name": "stdout",
     "output_type": "stream",
     "text": [
      "      Python \n"
     ]
    }
   ],
   "source": [
    "## Método que deixa deixa a a primeira letra maiúscula\n",
    "print(curso.title())"
   ]
  },
  {
   "cell_type": "markdown",
   "id": "253b7751-c14e-48f9-9fe6-3ea8040ef75e",
   "metadata": {},
   "source": [
    "-----\n",
    "## Eliminando espaços em branco"
   ]
  },
  {
   "cell_type": "code",
   "execution_count": 12,
   "id": "d681fbca-6c5d-460d-b5f8-9a2ccfc0b310",
   "metadata": {},
   "outputs": [],
   "source": [
    "curso = \"      Python \""
   ]
  },
  {
   "cell_type": "code",
   "execution_count": 13,
   "id": "7fae4b72-3a99-417f-b460-5f04d217572e",
   "metadata": {},
   "outputs": [
    {
     "name": "stdout",
     "output_type": "stream",
     "text": [
      "Python\n"
     ]
    }
   ],
   "source": [
    "print(curso.strip())"
   ]
  },
  {
   "cell_type": "code",
   "execution_count": 14,
   "id": "7b45d855-2d8d-47de-80e1-72f6cef89aa2",
   "metadata": {},
   "outputs": [
    {
     "name": "stdout",
     "output_type": "stream",
     "text": [
      "Python \n"
     ]
    }
   ],
   "source": [
    "print(curso.lstrip())"
   ]
  },
  {
   "cell_type": "code",
   "execution_count": 15,
   "id": "02ec871c-eb7f-4dc4-be0d-b8210359124c",
   "metadata": {},
   "outputs": [
    {
     "name": "stdout",
     "output_type": "stream",
     "text": [
      "      Python\n"
     ]
    }
   ],
   "source": [
    "print(curso.rstrip())"
   ]
  },
  {
   "cell_type": "markdown",
   "id": "87e11352-4ff4-4f6b-8e1a-ffe29deb7dc2",
   "metadata": {
    "jp-MarkdownHeadingCollapsed": true
   },
   "source": [
    "-------\n",
    "## Junções e Centralização"
   ]
  },
  {
   "cell_type": "code",
   "execution_count": 16,
   "id": "ca2cf250-c3c8-423d-a36b-40bd6d00dffb",
   "metadata": {},
   "outputs": [],
   "source": [
    "curso = \"Python\""
   ]
  },
  {
   "cell_type": "code",
   "execution_count": 17,
   "id": "98a02d6e-f2ca-498d-8ffc-09626fc43eb5",
   "metadata": {},
   "outputs": [
    {
     "name": "stdout",
     "output_type": "stream",
     "text": [
      "##Python##\n"
     ]
    }
   ],
   "source": [
    "print(curso.center(10, \"#\"))"
   ]
  },
  {
   "cell_type": "code",
   "execution_count": 18,
   "id": "a64038ff-b4a0-4e37-9f60-7de603b09cd3",
   "metadata": {},
   "outputs": [
    {
     "name": "stdout",
     "output_type": "stream",
     "text": [
      "P.y.t.h.o.n\n"
     ]
    }
   ],
   "source": [
    "print(\".\".join(curso))"
   ]
  },
  {
   "cell_type": "markdown",
   "id": "8a36011f-1bf4-4a2c-b9d8-1c724234e4ff",
   "metadata": {
    "jp-MarkdownHeadingCollapsed": true
   },
   "source": [
    "------\n",
    "## Interpolação de variáveis"
   ]
  },
  {
   "cell_type": "code",
   "execution_count": 22,
   "id": "ff3a3277-3b53-449b-a001-115668217b7f",
   "metadata": {},
   "outputs": [
    {
     "name": "stdout",
     "output_type": "stream",
     "text": [
      "Olá, me chamo Itachi. Eu tenho 13 anos de idade, trabalho como Programador e estou matriculado no curso de Python.\n"
     ]
    }
   ],
   "source": [
    "# Old Style %\n",
    "nome = \"Itachi\"\n",
    "idade = 13\n",
    "profissao = \"Programador\"\n",
    "linguagem = \"Python\"\n",
    "\n",
    "print(\"Olá, me chamo %s. Eu tenho %d anos de idade, trabalho como %s e estou matriculado no curso de %s.\" %(nome, idade, profissao, linguagem))"
   ]
  },
  {
   "cell_type": "code",
   "execution_count": 33,
   "id": "54c9ba18-95df-4b04-a976-ac9b3626d46c",
   "metadata": {},
   "outputs": [
    {
     "name": "stdout",
     "output_type": "stream",
     "text": [
      "Olá, me chamo Itachi. Eu tenho 13 anos de idade, trabalho como Programador e estou matriculado no curso de Python.\n"
     ]
    }
   ],
   "source": [
    "# Método format\n",
    "nome = \"Itachi\"\n",
    "idade = 13\n",
    "profissao = \"Programador\"\n",
    "linguagem = \"Python\"\n",
    "pessoa = {\"nome\": \"Itachi\",\"idade\": 13, \"profissao\": \"Programador\", \"linguagem\": \"Python\"}\n",
    "# print(\"Olá, me chamo {}. Eu tenho {} anos de idade, trabalho como {} e estou matriculado no curso de {}.\".format(nome, idade, profissao, linguagem))\n",
    "# print(\"Olá, me chamo {3}. Eu tenho {2} anos de idade, trabalho como {1} e estou matriculado no curso de {0}.\".format(linguagem, profissao, idade, nome))\n",
    "# print(\"Olá, me chamo {nome}. Eu tenho {idade} anos de idade, trabalho como {profissao} e estou matriculado no curso de {linguagem}.\".format(nome=nome, idade=idade, profissao=profissao, linguagem=linguagem))\n",
    "print(\"Olá, me chamo {nome}. Eu tenho {idade} anos de idade, trabalho como {profissao} e estou matriculado no curso de {linguagem}.\".format(**pessoa))"
   ]
  },
  {
   "cell_type": "code",
   "execution_count": 30,
   "id": "7bedc60b-e5a9-46a4-98ed-c11edab86d2d",
   "metadata": {},
   "outputs": [
    {
     "name": "stdout",
     "output_type": "stream",
     "text": [
      "Olá, me chamo Itachi. Eu tenho 13 anos de idade, trabalho como Programador e estou matriculado no curso de Python.\n"
     ]
    }
   ],
   "source": [
    "# Método f-string\n",
    "nome = \"Itachi\"\n",
    "idade = 13\n",
    "profissao = \"Programador\"\n",
    "linguagem = \"Python\"\n",
    "\n",
    "print(f\"Olá, me chamo {nome}. Eu tenho {idade} anos de idade, trabalho como {profissao} e estou matriculado no curso de {linguagem}.\")"
   ]
  },
  {
   "cell_type": "code",
   "execution_count": 31,
   "id": "db1208bb-6a71-499f-83e0-e2de9f950645",
   "metadata": {},
   "outputs": [
    {
     "name": "stdout",
     "output_type": "stream",
     "text": [
      "Valor de PI: 3.14\n",
      "Valor de PI:       3.14\n"
     ]
    }
   ],
   "source": [
    "# Formatar Strings com f-string\n",
    "PI = 3.14159\n",
    "print(f\"Valor de PI: {PI:.2f}\")\n",
    "print(f\"Valor de PI: {PI:10.2f}\")"
   ]
  },
  {
   "cell_type": "markdown",
   "id": "44294efd-1e60-44cd-96dc-f6e33c9afa1c",
   "metadata": {
    "jp-MarkdownHeadingCollapsed": true
   },
   "source": [
    "---------\n",
    "## Fatiamento de String"
   ]
  },
  {
   "cell_type": "code",
   "execution_count": 42,
   "id": "0f633f07-8749-400f-9ff2-a2e01681f527",
   "metadata": {},
   "outputs": [
    {
     "data": {
      "text/plain": [
       "'G'"
      ]
     },
     "execution_count": 42,
     "metadata": {},
     "output_type": "execute_result"
    }
   ],
   "source": [
    "# Fatiamento\n",
    "nome = \"Guilherme Arthur de Carvalho\"\n",
    "nome[0]"
   ]
  },
  {
   "cell_type": "code",
   "execution_count": 43,
   "id": "7e04ec6c-c059-4b04-a55c-fc00483f1c66",
   "metadata": {},
   "outputs": [
    {
     "data": {
      "text/plain": [
       "'Guilherme'"
      ]
     },
     "execution_count": 43,
     "metadata": {},
     "output_type": "execute_result"
    }
   ],
   "source": [
    "nome[:9]"
   ]
  },
  {
   "cell_type": "code",
   "execution_count": 44,
   "id": "5ad34b90-8fed-439f-a8c3-5545b801ceaa",
   "metadata": {},
   "outputs": [
    {
     "data": {
      "text/plain": [
       "'Arthur de Carvalho'"
      ]
     },
     "execution_count": 44,
     "metadata": {},
     "output_type": "execute_result"
    }
   ],
   "source": [
    "nome[10:]"
   ]
  },
  {
   "cell_type": "code",
   "execution_count": 45,
   "id": "4a77ae16-5363-4f10-8adc-b6818ab44300",
   "metadata": {},
   "outputs": [
    {
     "data": {
      "text/plain": [
       "'Arthur'"
      ]
     },
     "execution_count": 45,
     "metadata": {},
     "output_type": "execute_result"
    }
   ],
   "source": [
    "nome[10:16]"
   ]
  },
  {
   "cell_type": "code",
   "execution_count": 46,
   "id": "2ac1ca44-c9d0-40e3-94e8-b9a81fc4c348",
   "metadata": {},
   "outputs": [
    {
     "data": {
      "text/plain": [
       "'Atu'"
      ]
     },
     "execution_count": 46,
     "metadata": {},
     "output_type": "execute_result"
    }
   ],
   "source": [
    "nome[10:16:2]"
   ]
  },
  {
   "cell_type": "code",
   "execution_count": 47,
   "id": "4111cc54-c754-48ef-9fe0-d89710b36c0a",
   "metadata": {},
   "outputs": [
    {
     "data": {
      "text/plain": [
       "'Guilherme Arthur de Carvalho'"
      ]
     },
     "execution_count": 47,
     "metadata": {},
     "output_type": "execute_result"
    }
   ],
   "source": [
    "nome[:]"
   ]
  },
  {
   "cell_type": "code",
   "execution_count": 48,
   "id": "31581fd4-fad3-4305-b3b6-3f4a342279fc",
   "metadata": {},
   "outputs": [
    {
     "data": {
      "text/plain": [
       "'ohlavraC ed ruhtrA emrehliuG'"
      ]
     },
     "execution_count": 48,
     "metadata": {},
     "output_type": "execute_result"
    }
   ],
   "source": [
    "nome[::-1]"
   ]
  },
  {
   "cell_type": "markdown",
   "id": "3d1f3d94-3927-46c7-8dda-99acb9e5a30d",
   "metadata": {},
   "source": [
    "-------\n",
    "## String Múltiplas linhas"
   ]
  },
  {
   "cell_type": "code",
   "execution_count": 51,
   "id": "0f87db73-fe37-4506-9df2-cd23477ef5e4",
   "metadata": {},
   "outputs": [
    {
     "name": "stdout",
     "output_type": "stream",
     "text": [
      "\n",
      "Olá meu nome é Itachi,\n",
      "Eu estou aprendendo Python\n",
      "\n"
     ]
    }
   ],
   "source": [
    "# String Triplas\n",
    "nome = \"Itachi\"\n",
    "mensagem = f\"\"\"\n",
    "Olá meu nome é {nome},\n",
    "Eu estou aprendendo Python\n",
    "\"\"\"\n",
    "\n",
    "print(mensagem)"
   ]
  },
  {
   "cell_type": "code",
   "execution_count": 53,
   "id": "e2410251-dd41-44a3-9b66-862d1cd45e1f",
   "metadata": {},
   "outputs": [
    {
     "name": "stdout",
     "output_type": "stream",
     "text": [
      "\n",
      "   Olá meu nome é Itachi,\n",
      "Eu estou aprendendo Python\n",
      "     Essa mensagem tem diferentes recuos\n",
      "\n"
     ]
    }
   ],
   "source": [
    "nome = \"Itachi\"\n",
    "mensagem = f\"\"\"\n",
    "   Olá meu nome é {nome},\n",
    "Eu estou aprendendo Python\n",
    "     Essa mensagem tem diferentes recuos\n",
    "\"\"\"\n",
    "\n",
    "print(mensagem)"
   ]
  },
  {
   "cell_type": "code",
   "execution_count": 57,
   "id": "345bb2a3-891a-42c6-86a5-06e31713b600",
   "metadata": {},
   "outputs": [
    {
     "name": "stdout",
     "output_type": "stream",
     "text": [
      "\n",
      "    ********** MENU **********\n",
      "\n",
      "    1 - Depositar\n",
      "    2 - Sacar\n",
      "    0 - Sair\n",
      "    \n",
      "    ***************************************\n",
      "\n",
      "            Obrigado por usar nosso sistema!!!\n",
      "\n",
      "\n"
     ]
    }
   ],
   "source": [
    "print(\"\"\"\n",
    "    ********** MENU **********\n",
    "\n",
    "    1 - Depositar\n",
    "    2 - Sacar\n",
    "    0 - Sair\n",
    "    \n",
    "    ***************************************\n",
    "\n",
    "            Obrigado por usar nosso sistema!!!\n",
    "\n",
    "\"\"\")\n",
    "\n",
    "    "
   ]
  },
  {
   "cell_type": "code",
   "execution_count": null,
   "id": "dcc84dac-34ac-44c0-ba81-5db6e8a720ee",
   "metadata": {},
   "outputs": [],
   "source": []
  }
 ],
 "metadata": {
  "kernelspec": {
   "display_name": "Python 3 (ipykernel)",
   "language": "python",
   "name": "python3"
  },
  "language_info": {
   "codemirror_mode": {
    "name": "ipython",
    "version": 3
   },
   "file_extension": ".py",
   "mimetype": "text/x-python",
   "name": "python",
   "nbconvert_exporter": "python",
   "pygments_lexer": "ipython3",
   "version": "3.11.7"
  }
 },
 "nbformat": 4,
 "nbformat_minor": 5
}
