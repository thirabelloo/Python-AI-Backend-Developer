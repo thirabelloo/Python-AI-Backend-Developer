{
 "cells": [
  {
   "cell_type": "markdown",
   "id": "220b4eac-6248-4fc0-8805-bda7803c718b",
   "metadata": {},
   "source": [
    "# Aprendendo a utilizar dicionário em Python"
   ]
  },
  {
   "cell_type": "markdown",
   "id": "05982ec2-3666-43a3-bbcb-722bffe6d959",
   "metadata": {
    "jp-MarkdownHeadingCollapsed": true
   },
   "source": [
    "-----\n",
    "## Criando dicionários\n",
    "Um dicionário é um conjunto não-ordenado de pares chave:valor, onde as chaves são únicas em uma dada instância do dicionário. Dicionários são delimitados por chaves: {}, e contém uma lista de pares chave:valor separada por vírgulas."
   ]
  },
  {
   "cell_type": "code",
   "execution_count": 5,
   "id": "c5e2b09d-4495-4607-b579-2cee84244147",
   "metadata": {},
   "outputs": [
    {
     "name": "stdout",
     "output_type": "stream",
     "text": [
      "<class 'dict'>\n",
      "{'nome': 'Itachi', 'idade': 20}\n",
      "\n",
      "<class 'dict'>\n",
      "{'nome': 'Itachi', 'idade': 20}\n",
      "\n",
      "{'nome': 'Itachi', 'idade': 20, 'telefone': '3333-1234'}\n"
     ]
    }
   ],
   "source": [
    "# Exemplos\n",
    "pessoa = {\"nome\": \"Itachi\", \"idade\": 20}\n",
    "print(type(pessoa))\n",
    "print(pessoa)\n",
    "\n",
    "print()\n",
    "pessoa = dict(nome=\"Itachi\", idade=20)\n",
    "print(type(pessoa))\n",
    "print(pessoa)\n",
    "\n",
    "print()\n",
    "pessoa[\"telefone\"] = \"3333-1234\"\n",
    "print(pessoa)"
   ]
  },
  {
   "cell_type": "markdown",
   "id": "64dba21b-089f-467e-9e98-6e7841c9e609",
   "metadata": {
    "jp-MarkdownHeadingCollapsed": true
   },
   "source": [
    "-----\n",
    "## Acesso aos dados\n",
    "Os dados são acessados e modificados através da chave."
   ]
  },
  {
   "cell_type": "code",
   "execution_count": 13,
   "id": "24bc3ab7-5de8-4c75-94cb-41605abd4d24",
   "metadata": {},
   "outputs": [
    {
     "name": "stdout",
     "output_type": "stream",
     "text": [
      "{'nome': 'Itachi', 'idade': 20, 'telefone': '3333-1234'}\n",
      "Itachi\n",
      "20\n",
      "3333-1234\n"
     ]
    }
   ],
   "source": [
    "# Exemplos\n",
    "dados = {\"nome\": \"Itachi\", \"idade\":20, \"telefone\": \"3333-1234\"}\n",
    "\n",
    "print(dados)\n",
    "print(dados[\"nome\"])\n",
    "print(dados[\"idade\"])\n",
    "print(dados[\"telefone\"])"
   ]
  },
  {
   "cell_type": "code",
   "execution_count": 14,
   "id": "8eed6c9d-c817-40f6-9de6-47f7aea1395b",
   "metadata": {},
   "outputs": [
    {
     "data": {
      "text/plain": [
       "{'nome': 'Gaara', 'idade': 18, 'telefone': '9988-1781'}"
      ]
     },
     "execution_count": 14,
     "metadata": {},
     "output_type": "execute_result"
    }
   ],
   "source": [
    "dados[\"nome\"] = \"Gaara\"\n",
    "dados [\"idade\"] = 18\n",
    "dados[\"telefone\"] = \"9988-1781\"\n",
    "dados"
   ]
  },
  {
   "cell_type": "markdown",
   "id": "9d065d38-8c67-476d-a214-85ebbe84dc7f",
   "metadata": {
    "jp-MarkdownHeadingCollapsed": true
   },
   "source": [
    "-------\n",
    "## Dicionários aninhados\n",
    "Dicionários podem armazenar qualquer tipo de objeto Python como valor, desde que a chave para esse valor seja um objeto imutável como (strings e números)\n"
   ]
  },
  {
   "cell_type": "code",
   "execution_count": 22,
   "id": "9fcd0f17-c23f-4fb8-b16d-c1a91f43b144",
   "metadata": {},
   "outputs": [
    {
     "name": "stdout",
     "output_type": "stream",
     "text": [
      "{'itachi@gmail.com': {'nome': 'Itachi', 'telefone': '3333-2221'}, 'naruto@gmail.com': {'nome': 'Naruto', 'telefone': '3443-2221'}, 'gaara@gmail.com': {'nome': 'Gaara', 'telefone': '3344-9871'}, 'sakura@gmail.com': {'nome': 'Sakura', 'telefone': '3333-7766'}, 'pain@gmail.com': {'nome': 'Pain', 'telefone': '3338-7966', 'extra': {'a': 1}}}\n",
      "\n",
      "3443-2221\n"
     ]
    }
   ],
   "source": [
    "contatos = {\n",
    "    \"itachi@gmail.com\": {\"nome\": \"Itachi\", \"telefone\": \"3333-2221\"},\n",
    "    \"naruto@gmail.com\": {\"nome\": \"Naruto\", \"telefone\": \"3443-2221\"},\n",
    "    \"gaara@gmail.com\": {\"nome\": \"Gaara\", \"telefone\": \"3344-9871\"},\n",
    "    \"sakura@gmail.com\": {\"nome\": \"Sakura\", \"telefone\": \"3333-7766\"},\n",
    "    \"pain@gmail.com\": {\"nome\": \"Pain\", \"telefone\": \"3338-7966\", \"extra\": {\"a\":1}},\n",
    "}\n",
    "\n",
    "print(contatos)\n",
    "print()\n",
    "\n",
    "dados_naruto = contatos[\"naruto@gmail.com\"][\"telefone\"]\n",
    "print(dados_naruto)"
   ]
  },
  {
   "cell_type": "code",
   "execution_count": 25,
   "id": "3d5cea66-6c40-4008-af19-bf915fc500d5",
   "metadata": {},
   "outputs": [
    {
     "data": {
      "text/plain": [
       "1"
      ]
     },
     "execution_count": 25,
     "metadata": {},
     "output_type": "execute_result"
    }
   ],
   "source": [
    "contatos[\"pain@gmail.com\"][\"extra\"][\"a\"]"
   ]
  },
  {
   "cell_type": "markdown",
   "id": "b1ce893e-cddb-4a4c-b099-fb1a986b0be6",
   "metadata": {},
   "source": [
    "-----\n",
    "## Iterar dicionários\n",
    "A forma mais comum para percorrer os dados de um dicionário é utilizando o comando **for**"
   ]
  },
  {
   "cell_type": "code",
   "execution_count": 55,
   "id": "3822baa2-90ac-4f2d-9d5c-33377a1a3efc",
   "metadata": {},
   "outputs": [
    {
     "name": "stdout",
     "output_type": "stream",
     "text": [
      "itachi@gmail.com {'nome': 'Itachi', 'telefone': '3333-2221'}\n",
      "naruto@gmail.com {'nome': 'Naruto', 'telefone': '3443-2221'}\n",
      "gaara@gmail.com {'nome': 'Gaara', 'telefone': '3344-9871'}\n",
      "sakura@gmail.com {'nome': 'Sakura', 'telefone': '3333-7766'}\n",
      "\n",
      "itachi@gmail.com {'nome': 'Itachi', 'telefone': '3333-2221'}\n",
      "naruto@gmail.com {'nome': 'Naruto', 'telefone': '3443-2221'}\n",
      "gaara@gmail.com {'nome': 'Gaara', 'telefone': '3344-9871'}\n",
      "sakura@gmail.com {'nome': 'Sakura', 'telefone': '3333-7766'}\n"
     ]
    }
   ],
   "source": [
    "contatos = {\n",
    "    \"itachi@gmail.com\": {\"nome\": \"Itachi\", \"telefone\": \"3333-2221\"},\n",
    "    \"naruto@gmail.com\": {\"nome\": \"Naruto\", \"telefone\": \"3443-2221\"},\n",
    "    \"gaara@gmail.com\": {\"nome\": \"Gaara\", \"telefone\": \"3344-9871\"},\n",
    "    \"sakura@gmail.com\": {\"nome\": \"Sakura\", \"telefone\": \"3333-7766\"},\n",
    "}\n",
    "\n",
    "for chave in contatos:\n",
    "    print(chave, contatos[chave])\n",
    "\n",
    "print()\n",
    "        \n",
    "for chave, valor in contatos.items():\n",
    "    print(chave, valor)"
   ]
  },
  {
   "cell_type": "markdown",
   "id": "b0294ad2-c1fe-4d62-b8a7-21baf3d6886f",
   "metadata": {},
   "source": [
    "-----\n",
    "## Métodos da classe dict"
   ]
  },
  {
   "cell_type": "markdown",
   "id": "f37ce6c7-13d3-4ebd-a21c-99af971eb28f",
   "metadata": {},
   "source": [
    "### Método clear"
   ]
  },
  {
   "cell_type": "code",
   "execution_count": 56,
   "id": "53cd5cde-4823-4bd8-878b-65022a3f05ae",
   "metadata": {},
   "outputs": [
    {
     "data": {
      "text/plain": [
       "{}"
      ]
     },
     "execution_count": 56,
     "metadata": {},
     "output_type": "execute_result"
    }
   ],
   "source": [
    "contatos = {\n",
    "    \"itachi@gmail.com\": {\"nome\": \"Itachi\", \"telefone\": \"3333-2221\"},\n",
    "    \"naruto@gmail.com\": {\"nome\": \"Naruto\", \"telefone\": \"3443-2221\"},\n",
    "    \"gaara@gmail.com\": {\"nome\": \"Gaara\", \"telefone\": \"3344-9871\"},\n",
    "    \"sakura@gmail.com\": {\"nome\": \"Sakura\", \"telefone\": \"3333-7766\"},\n",
    "}\n",
    "\n",
    "contatos.clear()\n",
    "contatos"
   ]
  },
  {
   "cell_type": "markdown",
   "id": "25706b6d-bccb-4c05-b22a-e53efa018757",
   "metadata": {},
   "source": [
    "-----\n",
    "### Método copy"
   ]
  },
  {
   "cell_type": "code",
   "execution_count": 57,
   "id": "e6680866-1644-48da-8bbe-a161cc831d92",
   "metadata": {},
   "outputs": [
    {
     "name": "stdout",
     "output_type": "stream",
     "text": [
      "{'nome': 'Itachi', 'telefone': '3333-2221'}\n",
      "{'nome': 'ITA'}\n"
     ]
    }
   ],
   "source": [
    "contatos = {\n",
    "    \"itachi@gmail.com\": {\"nome\": \"Itachi\", \"telefone\": \"3333-2221\"},\n",
    "}\n",
    "\n",
    "copia = contatos.copy()\n",
    "copia[\"itachi@gmail.com\"] = {\"nome\": \"ITA\"}\n",
    "\n",
    "print(contatos[\"itachi@gmail.com\"])\n",
    "print(copia[\"itachi@gmail.com\"])"
   ]
  },
  {
   "cell_type": "markdown",
   "id": "ae854980-3065-490f-9c50-24d3935c98ee",
   "metadata": {},
   "source": [
    "----\n",
    "### Método fromkeys"
   ]
  },
  {
   "cell_type": "code",
   "execution_count": 58,
   "id": "0522607e-6b5b-4e90-8e1d-0d9be359783b",
   "metadata": {},
   "outputs": [
    {
     "data": {
      "text/plain": [
       "{'nome': None, 'telefone': None}"
      ]
     },
     "execution_count": 58,
     "metadata": {},
     "output_type": "execute_result"
    }
   ],
   "source": [
    "dict.fromkeys([\"nome\", \"telefone\"])"
   ]
  },
  {
   "cell_type": "code",
   "execution_count": 59,
   "id": "b59e549e-d342-47b0-aa51-f53826d2e596",
   "metadata": {},
   "outputs": [
    {
     "data": {
      "text/plain": [
       "{'nome': 'vazio', 'telefone': 'vazio'}"
      ]
     },
     "execution_count": 59,
     "metadata": {},
     "output_type": "execute_result"
    }
   ],
   "source": [
    "dict.fromkeys([\"nome\", \"telefone\"], \"vazio\")"
   ]
  },
  {
   "cell_type": "markdown",
   "id": "d80e8277-e056-4d5a-8149-94f3814120c8",
   "metadata": {},
   "source": [
    "----\n",
    "### Método get"
   ]
  },
  {
   "cell_type": "code",
   "execution_count": 60,
   "id": "0c091f72-cc8c-4340-8da6-1f53bff2e5b0",
   "metadata": {},
   "outputs": [
    {
     "ename": "KeyError",
     "evalue": "'chave'",
     "output_type": "error",
     "traceback": [
      "\u001b[1;31m---------------------------------------------------------------------------\u001b[0m",
      "\u001b[1;31mKeyError\u001b[0m                                  Traceback (most recent call last)",
      "Cell \u001b[1;32mIn[60], line 6\u001b[0m\n\u001b[0;32m      1\u001b[0m contatos \u001b[38;5;241m=\u001b[39m {\n\u001b[0;32m      2\u001b[0m     \u001b[38;5;124m\"\u001b[39m\u001b[38;5;124mitachi@gmail.com\u001b[39m\u001b[38;5;124m\"\u001b[39m: {\u001b[38;5;124m\"\u001b[39m\u001b[38;5;124mnome\u001b[39m\u001b[38;5;124m\"\u001b[39m: \u001b[38;5;124m\"\u001b[39m\u001b[38;5;124mItachi\u001b[39m\u001b[38;5;124m\"\u001b[39m, \u001b[38;5;124m\"\u001b[39m\u001b[38;5;124mtelefone\u001b[39m\u001b[38;5;124m\"\u001b[39m: \u001b[38;5;124m\"\u001b[39m\u001b[38;5;124m3333-2221\u001b[39m\u001b[38;5;124m\"\u001b[39m},\n\u001b[0;32m      3\u001b[0m }\n\u001b[0;32m      5\u001b[0m \u001b[38;5;66;03m# Retorna o erro KeyError quando utilizado dessa forma\u001b[39;00m\n\u001b[1;32m----> 6\u001b[0m \u001b[38;5;28mprint\u001b[39m(contatos[\u001b[38;5;124m\"\u001b[39m\u001b[38;5;124mchave\u001b[39m\u001b[38;5;124m\"\u001b[39m])\n",
      "\u001b[1;31mKeyError\u001b[0m: 'chave'"
     ]
    }
   ],
   "source": [
    "contatos = {\n",
    "    \"itachi@gmail.com\": {\"nome\": \"Itachi\", \"telefone\": \"3333-2221\"},\n",
    "}\n",
    "\n",
    "# Retorna o erro KeyError quando utilizado dessa forma\n",
    "print(contatos[\"chave\"])"
   ]
  },
  {
   "cell_type": "code",
   "execution_count": 61,
   "id": "10ab103d-6689-44ec-af49-db0e02d32087",
   "metadata": {},
   "outputs": [
    {
     "name": "stdout",
     "output_type": "stream",
     "text": [
      "None\n",
      "{}\n",
      "{'nome': 'Itachi', 'telefone': '3333-2221'}\n"
     ]
    }
   ],
   "source": [
    "print(contatos.get(\"chave\"))\n",
    "print(contatos.get(\"chave\", {}))\n",
    "print(contatos.get(\"itachi@gmail.com\", {}))"
   ]
  },
  {
   "cell_type": "markdown",
   "id": "0912681a-fcdf-49a2-8369-3b65c8d3e2ab",
   "metadata": {},
   "source": [
    "----------\n",
    "### Método items "
   ]
  },
  {
   "cell_type": "code",
   "execution_count": 62,
   "id": "6e058b81-218a-47f7-80d0-7d8702d7d654",
   "metadata": {},
   "outputs": [
    {
     "data": {
      "text/plain": [
       "dict_items([('itachi@gmail.com', {'nome': 'Itachi', 'telefone': '3333-2221'})])"
      ]
     },
     "execution_count": 62,
     "metadata": {},
     "output_type": "execute_result"
    }
   ],
   "source": [
    "contatos = {\n",
    "    \"itachi@gmail.com\": {\"nome\": \"Itachi\", \"telefone\": \"3333-2221\"},\n",
    "}\n",
    "\n",
    "contatos.items()"
   ]
  },
  {
   "cell_type": "markdown",
   "id": "472e2b26-5e4c-4a07-bf6d-ef9aff2361aa",
   "metadata": {},
   "source": [
    "-----\n",
    "### Método Keys"
   ]
  },
  {
   "cell_type": "code",
   "execution_count": 63,
   "id": "dac5b613-a323-4924-a61e-333728523933",
   "metadata": {},
   "outputs": [
    {
     "data": {
      "text/plain": [
       "dict_keys(['itachi@gmail.com'])"
      ]
     },
     "execution_count": 63,
     "metadata": {},
     "output_type": "execute_result"
    }
   ],
   "source": [
    "contatos = {\n",
    "    \"itachi@gmail.com\": {\"nome\": \"Itachi\", \"telefone\": \"3333-2221\"},\n",
    "}\n",
    "\n",
    "contatos.keys()"
   ]
  },
  {
   "cell_type": "markdown",
   "id": "1b2acfc2-8d7b-48fb-85b0-b71773481c0c",
   "metadata": {},
   "source": [
    "-----\n",
    "### Método pop"
   ]
  },
  {
   "cell_type": "code",
   "execution_count": 64,
   "id": "3ae54603-cd17-4e50-90a6-d4fe3ca8fc2c",
   "metadata": {},
   "outputs": [
    {
     "name": "stdout",
     "output_type": "stream",
     "text": [
      "{'nome': 'Itachi', 'telefone': '3333-2221'}\n",
      "{}\n"
     ]
    }
   ],
   "source": [
    "contatos = {\n",
    "    \"itachi@gmail.com\": {\"nome\": \"Itachi\", \"telefone\": \"3333-2221\"},\n",
    "}\n",
    "\n",
    "print(contatos.pop(\"itachi@gmail.com\"))\n",
    "print(contatos.pop(\"itachi@gmail.com\", {}))\n"
   ]
  },
  {
   "cell_type": "markdown",
   "id": "dccdcf3f-d639-4fbd-bc29-ae0aaadbc8af",
   "metadata": {},
   "source": [
    "------\n",
    "### Método popitem"
   ]
  },
  {
   "cell_type": "code",
   "execution_count": 65,
   "id": "4f49633a-ab41-4d46-a057-5548f084b994",
   "metadata": {},
   "outputs": [
    {
     "name": "stdout",
     "output_type": "stream",
     "text": [
      "('itachi@gmail.com', {'nome': 'Itachi', 'telefone': '3333-2221'})\n"
     ]
    },
    {
     "ename": "AttributeError",
     "evalue": "'builtin_function_or_method' object has no attribute 'item'",
     "output_type": "error",
     "traceback": [
      "\u001b[1;31m---------------------------------------------------------------------------\u001b[0m",
      "\u001b[1;31mAttributeError\u001b[0m                            Traceback (most recent call last)",
      "Cell \u001b[1;32mIn[65], line 6\u001b[0m\n\u001b[0;32m      1\u001b[0m contatos \u001b[38;5;241m=\u001b[39m {\n\u001b[0;32m      2\u001b[0m     \u001b[38;5;124m\"\u001b[39m\u001b[38;5;124mitachi@gmail.com\u001b[39m\u001b[38;5;124m\"\u001b[39m: {\u001b[38;5;124m\"\u001b[39m\u001b[38;5;124mnome\u001b[39m\u001b[38;5;124m\"\u001b[39m: \u001b[38;5;124m\"\u001b[39m\u001b[38;5;124mItachi\u001b[39m\u001b[38;5;124m\"\u001b[39m, \u001b[38;5;124m\"\u001b[39m\u001b[38;5;124mtelefone\u001b[39m\u001b[38;5;124m\"\u001b[39m: \u001b[38;5;124m\"\u001b[39m\u001b[38;5;124m3333-2221\u001b[39m\u001b[38;5;124m\"\u001b[39m},\n\u001b[0;32m      3\u001b[0m }\n\u001b[0;32m      5\u001b[0m \u001b[38;5;28mprint\u001b[39m(contatos\u001b[38;5;241m.\u001b[39mpopitem())\n\u001b[1;32m----> 6\u001b[0m \u001b[38;5;28mprint\u001b[39m(contatos\u001b[38;5;241m.\u001b[39mpop\u001b[38;5;241m.\u001b[39mitem())\n",
      "\u001b[1;31mAttributeError\u001b[0m: 'builtin_function_or_method' object has no attribute 'item'"
     ]
    }
   ],
   "source": [
    "contatos = {\n",
    "    \"itachi@gmail.com\": {\"nome\": \"Itachi\", \"telefone\": \"3333-2221\"},\n",
    "}\n",
    "\n",
    "print(contatos.popitem())\n",
    "print(contatos.pop.item())"
   ]
  },
  {
   "cell_type": "markdown",
   "id": "ad9289b6-7b1f-4aed-9a47-50472185aeb3",
   "metadata": {},
   "source": [
    "---------\n",
    "### Método setdefault"
   ]
  },
  {
   "cell_type": "code",
   "execution_count": 66,
   "id": "ced3ff51-ef43-403c-bdc5-96fbd6d9e95a",
   "metadata": {},
   "outputs": [
    {
     "name": "stdout",
     "output_type": "stream",
     "text": [
      "{'nome': 'Thomas', 'telefone': '3333-2221'}\n",
      "Thomas\n",
      "\n",
      "21\n",
      "{'nome': 'Thomas', 'telefone': '3333-2221', 'idade': 21}\n"
     ]
    }
   ],
   "source": [
    "contato = {\"nome\": \"Thomas\", \"telefone\" : \"3333-2221\"}\n",
    "print(contato)\n",
    "print(contato.setdefault(\"nome\", \"Giovanna\"))\n",
    "\n",
    "print()\n",
    "print(contato.setdefault(\"idade\", 21))\n",
    "print(contato)"
   ]
  },
  {
   "cell_type": "markdown",
   "id": "7af44b2e-0ed5-44c5-8921-4d988f6a7b66",
   "metadata": {},
   "source": [
    "-------------\n",
    "### Método update"
   ]
  },
  {
   "cell_type": "code",
   "execution_count": 72,
   "id": "4c60b8dc-b2a6-4510-ab96-37e1ddd1f329",
   "metadata": {},
   "outputs": [
    {
     "name": "stdout",
     "output_type": "stream",
     "text": [
      "{'itachi@gmail.com': {'nome': 'Itachi', 'telefone': '3333-2221'}}\n"
     ]
    },
    {
     "data": {
      "text/plain": [
       "{'itachi@gmail.com': {'nome': 'Neji'}}"
      ]
     },
     "execution_count": 72,
     "metadata": {},
     "output_type": "execute_result"
    }
   ],
   "source": [
    "contatos = {\n",
    "    \"itachi@gmail.com\": {\"nome\": \"Itachi\", \"telefone\": \"3333-2221\"},\n",
    "}\n",
    "print(contatos)\n",
    "contatos.update({\"itachi@gmail.com\": {\"nome\": \"Neji\"}})\n",
    "contatos"
   ]
  },
  {
   "cell_type": "code",
   "execution_count": 73,
   "id": "82567da4-6f3b-42b2-aa65-974901e220dc",
   "metadata": {},
   "outputs": [
    {
     "data": {
      "text/plain": [
       "{'itachi@gmail.com': {'nome': 'Neji'},\n",
       " 'giovanna@gmail.com': {'nome': 'Giovanna', 'telefone': '3322-8181'}}"
      ]
     },
     "execution_count": 73,
     "metadata": {},
     "output_type": "execute_result"
    }
   ],
   "source": [
    "contatos.update({\"giovanna@gmail.com\": {\"nome\": \"Giovanna\", \"telefone\": \"3322-8181\"}})\n",
    "contatos"
   ]
  },
  {
   "cell_type": "markdown",
   "id": "90ebcbef-3049-481e-9e18-6fcfd82f5e95",
   "metadata": {},
   "source": [
    "------\n",
    "### Método values"
   ]
  },
  {
   "cell_type": "code",
   "execution_count": 74,
   "id": "8725d33f-7fcd-4390-863c-6aa4ef0e971a",
   "metadata": {},
   "outputs": [
    {
     "data": {
      "text/plain": [
       "dict_values([{'nome': 'Itachi', 'telefone': '3333-2221'}, {'nome': 'Naruto', 'telefone': '3443-2221'}, {'nome': 'Gaara', 'telefone': '3344-9871'}, {'nome': 'Sakura', 'telefone': '3333-7766'}])"
      ]
     },
     "execution_count": 74,
     "metadata": {},
     "output_type": "execute_result"
    }
   ],
   "source": [
    "contatos = {\n",
    "    \"itachi@gmail.com\": {\"nome\": \"Itachi\", \"telefone\": \"3333-2221\"},\n",
    "    \"naruto@gmail.com\": {\"nome\": \"Naruto\", \"telefone\": \"3443-2221\"},\n",
    "    \"gaara@gmail.com\": {\"nome\": \"Gaara\", \"telefone\": \"3344-9871\"},\n",
    "    \"sakura@gmail.com\": {\"nome\": \"Sakura\", \"telefone\": \"3333-7766\"},\n",
    "}\n",
    "contatos.values()"
   ]
  },
  {
   "cell_type": "code",
   "execution_count": 75,
   "id": "0cc6431e-e866-40a9-9d98-e116c6ee0c28",
   "metadata": {},
   "outputs": [
    {
     "data": {
      "text/plain": [
       "dict_keys(['itachi@gmail.com', 'naruto@gmail.com', 'gaara@gmail.com', 'sakura@gmail.com'])"
      ]
     },
     "execution_count": 75,
     "metadata": {},
     "output_type": "execute_result"
    }
   ],
   "source": [
    "contatos.keys()"
   ]
  },
  {
   "cell_type": "markdown",
   "id": "a8bfe150-54a7-4b81-8877-409e9647c7ad",
   "metadata": {},
   "source": [
    "------\n",
    "### Método in"
   ]
  },
  {
   "cell_type": "code",
   "execution_count": 77,
   "id": "1d82c935-f37b-4c95-bfc9-d622637fbd42",
   "metadata": {},
   "outputs": [
    {
     "name": "stdout",
     "output_type": "stream",
     "text": [
      "True\n",
      "False\n",
      "False\n",
      "True\n"
     ]
    }
   ],
   "source": [
    "contatos = {\n",
    "    \"itachi@gmail.com\": {\"nome\": \"Itachi\", \"telefone\": \"3333-2221\"},\n",
    "    \"naruto@gmail.com\": {\"nome\": \"Naruto\", \"telefone\": \"3443-2221\"},\n",
    "    \"gaara@gmail.com\": {\"nome\": \"Gaara\", \"telefone\": \"3344-9871\"},\n",
    "    \"sakura@gmail.com\": {\"nome\": \"Sakura\", \"telefone\": \"3333-7766\"},\n",
    "}\n",
    "\n",
    "print(\"itachi@gmail.com\" in contatos)\n",
    "print(\"neymar@gmail.com\" in contatos)\n",
    "print(\"idade\" in contatos[\"itachi@gmail.com\"])\n",
    "print(\"telefone\" in contatos[\"naruto@gmail.com\"])"
   ]
  },
  {
   "cell_type": "markdown",
   "id": "08f271e4-d655-483c-9a1b-b134071f022d",
   "metadata": {},
   "source": [
    "----\n",
    "### Método del"
   ]
  },
  {
   "cell_type": "code",
   "execution_count": 82,
   "id": "8f87f590-0cc2-45c3-aa66-0c0b50a88dbc",
   "metadata": {},
   "outputs": [
    {
     "name": "stdout",
     "output_type": "stream",
     "text": [
      "{'itachi@gmail.com': {'nome': 'Itachi', 'telefone': '3333-2221'}, 'naruto@gmail.com': {'nome': 'Naruto', 'telefone': '3443-2221'}, 'gaara@gmail.com': {'nome': 'Gaara', 'telefone': '3344-9871'}, 'sakura@gmail.com': {'nome': 'Sakura', 'telefone': '3333-7766'}}\n",
      "\n",
      "{'itachi@gmail.com': {'nome': 'Itachi'}, 'gaara@gmail.com': {'nome': 'Gaara', 'telefone': '3344-9871'}, 'sakura@gmail.com': {'nome': 'Sakura', 'telefone': '3333-7766'}}\n"
     ]
    }
   ],
   "source": [
    "contatos = {\n",
    "    \"itachi@gmail.com\": {\"nome\": \"Itachi\", \"telefone\": \"3333-2221\"},\n",
    "    \"naruto@gmail.com\": {\"nome\": \"Naruto\", \"telefone\": \"3443-2221\"},\n",
    "    \"gaara@gmail.com\": {\"nome\": \"Gaara\", \"telefone\": \"3344-9871\"},\n",
    "    \"sakura@gmail.com\": {\"nome\": \"Sakura\", \"telefone\": \"3333-7766\"},\n",
    "}\n",
    "print(contatos)\n",
    "print()\n",
    "del contatos[\"itachi@gmail.com\"][\"telefone\"]\n",
    "del contatos[\"naruto@gmail.com\"]\n",
    "print(contatos)"
   ]
  },
  {
   "cell_type": "code",
   "execution_count": null,
   "id": "c1b885f9-17d7-4496-9434-5ba06e4fe752",
   "metadata": {},
   "outputs": [],
   "source": []
  }
 ],
 "metadata": {
  "kernelspec": {
   "display_name": "Python 3 (ipykernel)",
   "language": "python",
   "name": "python3"
  },
  "language_info": {
   "codemirror_mode": {
    "name": "ipython",
    "version": 3
   },
   "file_extension": ".py",
   "mimetype": "text/x-python",
   "name": "python",
   "nbconvert_exporter": "python",
   "pygments_lexer": "ipython3",
   "version": "3.11.7"
  }
 },
 "nbformat": 4,
 "nbformat_minor": 5
}
