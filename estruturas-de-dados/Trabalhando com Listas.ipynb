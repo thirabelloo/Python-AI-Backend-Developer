{
 "cells": [
  {
   "cell_type": "markdown",
   "id": "e26ffb84-18b9-45e8-bc17-f6221755fdba",
   "metadata": {},
   "source": [
    "## Trabalhando com Listas"
   ]
  },
  {
   "cell_type": "markdown",
   "id": "726f77bb-5963-4906-941a-febaed20a3ea",
   "metadata": {},
   "source": [
    "----\n",
    "## Declarando Listas"
   ]
  },
  {
   "cell_type": "code",
   "execution_count": 2,
   "id": "88ebcc53-0e0d-44f4-b394-fc2baa8faf20",
   "metadata": {},
   "outputs": [
    {
     "name": "stdout",
     "output_type": "stream",
     "text": [
      "['laranja', 'maça', 'uva']\n",
      "<class 'list'>\n"
     ]
    }
   ],
   "source": [
    "frutas = [\"laranja\", \"maça\", \"uva\"]\n",
    "print(frutas)\n",
    "print(type(frutas))"
   ]
  },
  {
   "cell_type": "code",
   "execution_count": 3,
   "id": "4c39bb85-a412-4889-97f4-18ffd7888216",
   "metadata": {},
   "outputs": [
    {
     "name": "stdout",
     "output_type": "stream",
     "text": [
      "[]\n"
     ]
    }
   ],
   "source": [
    "frutas = []\n",
    "print(frutas)"
   ]
  },
  {
   "cell_type": "code",
   "execution_count": 4,
   "id": "98ffa074-a6bd-44b0-9434-7bc3ee98e943",
   "metadata": {},
   "outputs": [
    {
     "name": "stdout",
     "output_type": "stream",
     "text": [
      "['P', 'y', 't', 'h', 'o', 'n']\n"
     ]
    }
   ],
   "source": [
    "letras = list(\"Python\")\n",
    "print(letras)"
   ]
  },
  {
   "cell_type": "code",
   "execution_count": 5,
   "id": "0ae32da6-c780-4bb0-ac87-82e22ce7eb2d",
   "metadata": {},
   "outputs": [
    {
     "name": "stdout",
     "output_type": "stream",
     "text": [
      "[0, 1, 2, 3, 4, 5, 6, 7, 8, 9]\n"
     ]
    }
   ],
   "source": [
    "numeros = list(range(10))\n",
    "print(numeros)"
   ]
  },
  {
   "cell_type": "code",
   "execution_count": 6,
   "id": "a6d6de39-fc4c-43ef-95cc-73258e816903",
   "metadata": {},
   "outputs": [
    {
     "name": "stdout",
     "output_type": "stream",
     "text": [
      "['Ferrari', 'F8', 4200000, 2020, 2900, 'São Paulo', True]\n"
     ]
    }
   ],
   "source": [
    "carro = [\"Ferrari\", \"F8\", 4200000, 2020, 2900, \"São Paulo\", True]\n",
    "print(carro)"
   ]
  },
  {
   "cell_type": "markdown",
   "id": "14be37f2-dc0b-43ab-80d5-f260e9c1cb0a",
   "metadata": {},
   "source": [
    "----\n",
    "## Acesso direto"
   ]
  },
  {
   "cell_type": "code",
   "execution_count": 7,
   "id": "615976cc-39c1-4393-be5d-2fa740cfc8df",
   "metadata": {},
   "outputs": [
    {
     "name": "stdout",
     "output_type": "stream",
     "text": [
      "maça\n",
      "uva\n"
     ]
    }
   ],
   "source": [
    "frutas = [ \"maça\",\"laranja\", \"uva\", \"Pera\"]\n",
    "\n",
    "# Acessando a fruta maça\n",
    "print(frutas[0])\n",
    "\n",
    "# Acessando a fruta uva\n",
    "print(frutas[2])"
   ]
  },
  {
   "cell_type": "markdown",
   "id": "64d06e66-b8b1-4107-a8a5-767da19536bc",
   "metadata": {},
   "source": [
    "-----\n",
    "## Índices negativos\n"
   ]
  },
  {
   "cell_type": "code",
   "execution_count": 8,
   "id": "03834cb5-00b6-484f-a8ee-e7cf5169eb72",
   "metadata": {},
   "outputs": [
    {
     "name": "stdout",
     "output_type": "stream",
     "text": [
      "Pera\n",
      "laranja\n"
     ]
    }
   ],
   "source": [
    "frutas = [ \"maça\",\"laranja\", \"uva\", \"Pera\"]\n",
    "\n",
    "# Acessando a fruta pera pela indexação negativa\n",
    "print(frutas[-1])\n",
    "\n",
    "# Acessamdo a fruta laranja pela indexação negativa\n",
    "print(frutas[-3])"
   ]
  },
  {
   "cell_type": "markdown",
   "id": "26c5101e-fa5d-464c-b184-59dc9c562bfa",
   "metadata": {},
   "source": [
    "----\n",
    "## Listas aninhadas\n",
    "\n",
    "Listas podem armazenar todos os tipos de objetos Python, portanto podemos ter listas que armazenam outras listas. Com isso podemos criar estruturas bidimensionais (tabelas), e acessar informando os índices de linha e coluna."
   ]
  },
  {
   "cell_type": "code",
   "execution_count": 13,
   "id": "a887f913-e5b6-4478-8ec4-baf8d091ee2b",
   "metadata": {},
   "outputs": [
    {
     "name": "stdout",
     "output_type": "stream",
     "text": [
      "Linha : [1, 'a', 2]\n",
      "Item : 1\n",
      "Item : 2\n",
      "Item : c\n"
     ]
    }
   ],
   "source": [
    "matriz = [\n",
    "    [1, \"a\", 2],\n",
    "    [\"b\", 3, 4],\n",
    "    [6, 5, \"c\"]\n",
    "]\n",
    "\n",
    "# Acessando a primeira linha da matriz e o resultado esperado é [1, \"a\", 2]\n",
    "print(\"Linha :\",matriz[0])\n",
    "\n",
    "# Acessando a posição do primeiro item da matriz e o resultado esperado é 1\n",
    "print(\"Item :\", matriz[0][0])\n",
    "\n",
    "# Acessando a ultima posição da linha 0 da matriz e o resultado esperado é 2\n",
    "print(\"Item :\", matriz[0][-1])\n",
    "\n",
    "# Acessando a ultima posição da linha 2 da matriz e o resultado esperado é c\n",
    "print(\"Item :\", matriz[2][2])"
   ]
  },
  {
   "cell_type": "markdown",
   "id": "9cd969db-932e-4112-8e2e-3579e86f6217",
   "metadata": {},
   "source": [
    "-----\n",
    "## Fatiamento "
   ]
  },
  {
   "cell_type": "code",
   "execution_count": 14,
   "id": "5e07b5ca-eecb-4518-9c25-02ee689969bb",
   "metadata": {},
   "outputs": [
    {
     "name": "stdout",
     "output_type": "stream",
     "text": [
      "['t', 'h', 'o', 'n']\n",
      "['p', 'y']\n",
      "['y', 't']\n",
      "['p', 't']\n",
      "['p', 'y', 't', 'h', 'o', 'n']\n",
      "['n', 'o', 'h', 't', 'y', 'p']\n"
     ]
    }
   ],
   "source": [
    "lista = [\"p\", \"y\", \"t\", \"h\", \"o\", \"n\"]\n",
    "\n",
    "print(lista[2:])\n",
    "print(lista[:2])\n",
    "print(lista[1:3])\n",
    "print(lista[0:3:2])\n",
    "print(lista[::])\n",
    "print(lista[::-1])"
   ]
  },
  {
   "cell_type": "markdown",
   "id": "746d44f4-c15c-4f45-8425-e1f924bad82a",
   "metadata": {},
   "source": [
    "-----\n",
    "## Iterar listas\n",
    "\n",
    "A forma mais comum para percorrer os dados de uma lista é utilizando o comando **for**"
   ]
  },
  {
   "cell_type": "code",
   "execution_count": 15,
   "id": "d28ceb6c-b2d1-4d23-8778-1d8eeceae67e",
   "metadata": {},
   "outputs": [
    {
     "name": "stdout",
     "output_type": "stream",
     "text": [
      "gol\n",
      "celta\n",
      "palio\n"
     ]
    }
   ],
   "source": [
    "carros = [\"gol\", \"celta\", \"palio\"]\n",
    "\n",
    "for carro in carros:\n",
    "    print(carro)"
   ]
  },
  {
   "cell_type": "markdown",
   "id": "7f570e8e-3b50-4d83-b8e6-2d3b417ea17f",
   "metadata": {},
   "source": [
    "-----\n",
    "## Função enumerate\n",
    "\n",
    "Às vezes é necessário saber qual o índice do objeto dentro do laço **for**. Para isso podemos usar a função **enumerate**."
   ]
  },
  {
   "cell_type": "code",
   "execution_count": 17,
   "id": "b85659d4-a859-4744-90ea-45cb3cc2bbaa",
   "metadata": {},
   "outputs": [
    {
     "name": "stdout",
     "output_type": "stream",
     "text": [
      "0: Gol\n",
      "1: Celta\n",
      "2: Palio\n"
     ]
    }
   ],
   "source": [
    "carros = [\"Gol\", \"Celta\", \"Palio\"]\n",
    "\n",
    "for indice, carro in enumerate(carros):\n",
    "    print(f\"{indice}: {carro}\")"
   ]
  },
  {
   "cell_type": "markdown",
   "id": "69f8e065-29e8-4358-8c1e-7c132ec78857",
   "metadata": {},
   "source": [
    "-----\n",
    "## Compreensão de listas\n",
    "\n",
    "A compreensão de lista oferece uma sintaxe mais curta quando você deseja: criar uma nova lista com base nos valores de uma lista existente (filtro) ou gerar uma nova lista aplicando alguma modificação nos elementos de uma lista existente."
   ]
  },
  {
   "cell_type": "code",
   "execution_count": 44,
   "id": "253ad0a1-066a-45b9-9738-befc7ec04676",
   "metadata": {},
   "outputs": [
    {
     "name": "stdout",
     "output_type": "stream",
     "text": [
      "[30, 2, 34]\n"
     ]
    }
   ],
   "source": [
    "# Filtro versão V1\n",
    "numeros = [1, 30, 21, 2, 9, 65, 34]\n",
    "pares = []\n",
    "\n",
    "for numero in numeros:\n",
    "    if numero % 2 == 0:\n",
    "        pares.append(numero)\n",
    "\n",
    "print(pares)"
   ]
  },
  {
   "cell_type": "code",
   "execution_count": 45,
   "id": "edb5f18e-9ec0-4966-9892-359562994759",
   "metadata": {},
   "outputs": [
    {
     "name": "stdout",
     "output_type": "stream",
     "text": [
      "[30, 2, 34]\n"
     ]
    }
   ],
   "source": [
    "# Filtro versão V2\n",
    "numeros = [1, 30, 21, 2, 9, 65, 34]\n",
    "pares =[numero for numero in numeros if numero % 2 == 0]\n",
    "print(pares)"
   ]
  },
  {
   "cell_type": "code",
   "execution_count": 46,
   "id": "68e1cf0a-7ad2-4f21-85c3-44f98bfd180c",
   "metadata": {},
   "outputs": [
    {
     "name": "stdout",
     "output_type": "stream",
     "text": [
      "[1, 900, 441, 4, 81, 4225, 1156]\n"
     ]
    }
   ],
   "source": [
    "# Modificando valores versão V1\n",
    "numeros = [1, 30, 21, 2, 9, 65, 34]\n",
    "quadrado = []\n",
    "\n",
    "for numero in numeros:\n",
    "    quadrado.append(numero ** 2)\n",
    "\n",
    "print(quadrado)"
   ]
  },
  {
   "cell_type": "code",
   "execution_count": 47,
   "id": "0fdd8b3a-be86-4575-9c87-9c7557066481",
   "metadata": {},
   "outputs": [
    {
     "name": "stdout",
     "output_type": "stream",
     "text": [
      "[1, 900, 441, 4, 81, 4225, 1156]\n"
     ]
    }
   ],
   "source": [
    "# Modificando valores versão V2\n",
    "numeros = [1, 30, 21, 2, 9, 65, 34]\n",
    "quadrado = [numero ** 2 for numero in numeros]\n",
    "print(quadrado)"
   ]
  },
  {
   "cell_type": "markdown",
   "id": "88f813be-1329-4eb3-8b4f-b2f38379075c",
   "metadata": {},
   "source": [
    "-----\n",
    "## Métodos da classe list"
   ]
  },
  {
   "cell_type": "code",
   "execution_count": 25,
   "id": "729dcfd0-e036-4387-8588-9a4bd01bd2f2",
   "metadata": {},
   "outputs": [
    {
     "name": "stdout",
     "output_type": "stream",
     "text": [
      "[1, 'Python', [40, 30, 20]]\n"
     ]
    }
   ],
   "source": [
    "# Método append\n",
    "lista = []\n",
    "\n",
    "lista.append(1)\n",
    "lista.append(\"Python\")\n",
    "lista.append([40, 30, 20])\n",
    "\n",
    "print(lista)"
   ]
  },
  {
   "cell_type": "code",
   "execution_count": 26,
   "id": "aaa4ae08-ead1-411e-b5d3-15f17c999a2e",
   "metadata": {},
   "outputs": [
    {
     "name": "stdout",
     "output_type": "stream",
     "text": [
      "[1, 'Python', [40, 30, 20]]\n",
      "[]\n"
     ]
    }
   ],
   "source": [
    "# Método clear\n",
    "lista = [1, 'Python', [40, 30, 20]]\n",
    "print(lista)\n",
    "\n",
    "lista.clear()\n",
    "print(lista)"
   ]
  },
  {
   "cell_type": "code",
   "execution_count": 27,
   "id": "20a31bb1-a6a4-4309-9a42-49dc0407b69e",
   "metadata": {},
   "outputs": [
    {
     "name": "stdout",
     "output_type": "stream",
     "text": [
      "[1, 'Python', [40, 30, 20]]\n"
     ]
    }
   ],
   "source": [
    "# Método copy\n",
    "lista =[1, 'Python', [40, 30, 20]]\n",
    "lista.copy()\n",
    "print(lista)"
   ]
  },
  {
   "cell_type": "code",
   "execution_count": 37,
   "id": "d2104161-e54d-4147-8696-e9455e82aaa6",
   "metadata": {},
   "outputs": [
    {
     "name": "stdout",
     "output_type": "stream",
     "text": [
      "Quantidade: 1\n",
      "Quantidade: 2\n",
      "Quantidade: 1\n"
     ]
    }
   ],
   "source": [
    "# Método count\n",
    "cores = [\"Vermelho\", \"Azul\", \"Verde\", \"Azul\"]\n",
    "\n",
    "# Verificando quantas vez tem a cor vermekho na lista de cores\n",
    "print(\"Quantidade:\",cores.count(\"Vermelho\"))\n",
    "\n",
    "# Verificando quantas vez tem a cor azul na lista de cores\n",
    "print(\"Quantidade:\",cores.count(\"Azul\"))\n",
    "\n",
    "# Verificando quantas vez tem a cor verde na lista de cores\n",
    "print(\"Quantidade:\",cores.count(\"Verde\"))"
   ]
  },
  {
   "cell_type": "code",
   "execution_count": 38,
   "id": "6fe38b4b-7a3f-4d79-8980-3f025cdce03d",
   "metadata": {},
   "outputs": [
    {
     "name": "stdout",
     "output_type": "stream",
     "text": [
      "['python', 'js', 'c']\n",
      "['python', 'js', 'c', 'java', 'csharp']\n"
     ]
    }
   ],
   "source": [
    "# Método extend\n",
    "linguagens = [\"python\", \"js\", \"c\"]\n",
    "print(linguagens)\n",
    "\n",
    "linguagens.extend([\"java\", \"csharp\"])\n",
    "print(linguagens)"
   ]
  },
  {
   "cell_type": "code",
   "execution_count": 40,
   "id": "13e2dd63-4245-400d-a599-1ce0e20de5ac",
   "metadata": {},
   "outputs": [
    {
     "name": "stdout",
     "output_type": "stream",
     "text": [
      "3\n",
      "0\n"
     ]
    }
   ],
   "source": [
    "# Método index\n",
    "linguagens = ['python', 'js', 'c', 'java', 'csharp']\n",
    "\n",
    "print(linguagens.index(\"java\"))\n",
    "print(linguagens.index(\"python\"))"
   ]
  },
  {
   "cell_type": "code",
   "execution_count": 41,
   "id": "881ccaae-e0b3-4e6d-bf82-b98a60fd15f1",
   "metadata": {},
   "outputs": [
    {
     "name": "stdout",
     "output_type": "stream",
     "text": [
      "['python', 'js', 'c', 'java', 'csharp']\n",
      "['python', 'js', 'c', 'java']\n",
      "['python', 'js', 'c']\n",
      "['python', 'js']\n",
      "['js']\n"
     ]
    }
   ],
   "source": [
    "# Método pop\n",
    "linguagens =['python', 'js', 'c', 'java', 'csharp']\n",
    "print(linguagens)\n",
    "\n",
    "linguagens.pop()\n",
    "print(linguagens)\n",
    "\n",
    "linguagens.pop()\n",
    "print(linguagens)\n",
    "\n",
    "linguagens.pop()\n",
    "print(linguagens)\n",
    "\n",
    "linguagens.pop(0)\n",
    "print(linguagens)"
   ]
  },
  {
   "cell_type": "code",
   "execution_count": 42,
   "id": "ba622a88-6bcf-4896-ba12-e17abdde9d90",
   "metadata": {},
   "outputs": [
    {
     "name": "stdout",
     "output_type": "stream",
     "text": [
      "['python', 'js', 'c', 'java', 'csharp']\n",
      "['python', 'js', 'java', 'csharp']\n"
     ]
    }
   ],
   "source": [
    "# Método renove\n",
    "linguagens =['python', 'js', 'c', 'java', 'csharp']\n",
    "print(linguagens)\n",
    "\n",
    "linguagens.remove(\"c\")\n",
    "print(linguagens)"
   ]
  },
  {
   "cell_type": "code",
   "execution_count": 43,
   "id": "a7b8c2df-6bf2-42c4-bead-5f1df770607f",
   "metadata": {},
   "outputs": [
    {
     "name": "stdout",
     "output_type": "stream",
     "text": [
      "['python', 'js', 'c', 'java', 'csharp']\n",
      "['csharp', 'java', 'c', 'js', 'python']\n"
     ]
    }
   ],
   "source": [
    "# Método reverse\n",
    "linguagens =['python', 'js', 'c', 'java', 'csharp']\n",
    "print(linguagens)\n",
    "\n",
    "linguagens.reverse()\n",
    "print(linguagens)"
   ]
  },
  {
   "cell_type": "code",
   "execution_count": 57,
   "id": "7620a107-8235-468f-8c1a-1d91413ecaa2",
   "metadata": {},
   "outputs": [
    {
     "name": "stdout",
     "output_type": "stream",
     "text": [
      "['python', 'js', 'c', 'java', 'csharp']\n",
      "['c', 'csharp', 'java', 'js', 'python']\n",
      "['python', 'js', 'java', 'csharp', 'c']\n",
      "['c', 'js', 'java', 'python', 'csharp']\n",
      "['python', 'csharp', 'java', 'js', 'c']\n"
     ]
    }
   ],
   "source": [
    "# Método sort\n",
    "linguagens =['python', 'js', 'c', 'java', 'csharp']\n",
    "print(linguagens)\n",
    "\n",
    "linguagens.sort()\n",
    "print(linguagens)\n",
    "\n",
    "linguagens.sort(reverse=True)\n",
    "print(linguagens)\n",
    "\n",
    "linguagens.sort(key=lambda x: len(x))\n",
    "print(linguagens)\n",
    "\n",
    "linguagens.sort(key=lambda x: len(x), reverse=True)\n",
    "print(linguagens)"
   ]
  },
  {
   "cell_type": "code",
   "execution_count": 58,
   "id": "a7bd8a8c-7401-492a-b193-7f5c5ec4f56a",
   "metadata": {},
   "outputs": [
    {
     "data": {
      "text/plain": [
       "5"
      ]
     },
     "execution_count": 58,
     "metadata": {},
     "output_type": "execute_result"
    }
   ],
   "source": [
    "# Método len\n",
    "linguagens =['python', 'js', 'c', 'java', 'csharp']\n",
    "len(linguagens)"
   ]
  },
  {
   "cell_type": "code",
   "execution_count": 62,
   "id": "3997a2df-ef0b-4274-9266-d2e00dbe873d",
   "metadata": {},
   "outputs": [
    {
     "name": "stdout",
     "output_type": "stream",
     "text": [
      "['python', 'js', 'c', 'java', 'csharp']\n",
      "['c', 'js', 'java', 'python', 'csharp']\n",
      "['python', 'csharp', 'java', 'js', 'c']\n"
     ]
    }
   ],
   "source": [
    "# Método sorted\n",
    "linguagens =['python', 'js', 'c', 'java', 'csharp']\n",
    "print(linguagens)\n",
    "\n",
    "print(sorted(linguagens, key=lambda x: len(x)))\n",
    "print(sorted(linguagens, key=lambda x: len(x), reverse=True))"
   ]
  },
  {
   "cell_type": "code",
   "execution_count": 65,
   "id": "24560498-e977-4f0e-b49a-58f1b4e2ee97",
   "metadata": {},
   "outputs": [
    {
     "data": {
      "text/plain": [
       "[0, 2, 4, 6, 64]"
      ]
     },
     "execution_count": 65,
     "metadata": {},
     "output_type": "execute_result"
    }
   ],
   "source": [
    "\n",
    "validar=[n**2 if n > 6 else n for n in range(10) if n % 2 ==0]\n",
    "validar"
   ]
  },
  {
   "cell_type": "code",
   "execution_count": null,
   "id": "672ac4ff-8c1d-4ac2-8d0b-8f78fe3aaa17",
   "metadata": {},
   "outputs": [],
   "source": []
  }
 ],
 "metadata": {
  "kernelspec": {
   "display_name": "Python 3 (ipykernel)",
   "language": "python",
   "name": "python3"
  },
  "language_info": {
   "codemirror_mode": {
    "name": "ipython",
    "version": 3
   },
   "file_extension": ".py",
   "mimetype": "text/x-python",
   "name": "python",
   "nbconvert_exporter": "python",
   "pygments_lexer": "ipython3",
   "version": "3.11.7"
  }
 },
 "nbformat": 4,
 "nbformat_minor": 5
}
