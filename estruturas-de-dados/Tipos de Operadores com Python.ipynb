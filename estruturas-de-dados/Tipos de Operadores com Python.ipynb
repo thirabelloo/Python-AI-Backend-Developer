{
 "cells": [
  {
   "cell_type": "markdown",
   "id": "a5ab9e33-9a3b-4f36-95a3-67a15af11db7",
   "metadata": {},
   "source": [
    "# Tipos de Operadores com Python"
   ]
  },
  {
   "cell_type": "markdown",
   "id": "ef80e1d0-a57c-4e08-b46f-23ebc4583358",
   "metadata": {},
   "source": [
    "-----\n",
    "## Operadores aritméticos\n",
    "Os operadores aritméticos executam operações matemáticas, como adição, subtração com operandos."
   ]
  },
  {
   "cell_type": "code",
   "execution_count": 16,
   "id": "2ad7dfea-2c9b-40f8-9fdf-360c88869bee",
   "metadata": {},
   "outputs": [
    {
     "name": "stdout",
     "output_type": "stream",
     "text": [
      "Soma: 2\n",
      "Subtração: 8\n",
      "Multiplicação: 12\n",
      "Divisão: 4.0\n",
      "Divisão Inteira: 6\n",
      "Módulo: 1\n",
      "Exponencial: 8\n"
     ]
    }
   ],
   "source": [
    "#  Adição\n",
    "print(\"Soma:\",1 + 1)\n",
    "\n",
    "# Subtração\n",
    "print(\"Subtração:\",10 - 2)\n",
    "\n",
    "# Multiplicação\n",
    "print(\"Multiplicação:\",4 * 3)\n",
    "\n",
    "#  Divsão\n",
    "print(\"Divisão:\",12 / 3)\n",
    "\n",
    "# Divisão inteira\n",
    "print(\"Divisão Inteira:\",12 // 2)\n",
    "\n",
    "#  Módulo\n",
    "print(\"Módulo:\",10 % 3)\n",
    "\n",
    "# Exponenciação\n",
    "print(\"Exponencial:\",2 ** 3)\n"
   ]
  },
  {
   "cell_type": "markdown",
   "id": "784f54c1-88f0-4088-9661-ccdf372c7767",
   "metadata": {},
   "source": [
    "------\n",
    "### Precedencia dos operadores\n",
    "\n",
    "#### Na matemática\n",
    "Na matemática existe uma regra que indica quais operações devem ser executadas primeiro. Isso é útili pois ao analisar uma expressão, a depender da ordem das operações o valor pode ser diferente:\n",
    "\n",
    "x = 10 -5 * 2\n",
    "\n",
    "x é igual a 10 ou 0?\n",
    "\n",
    "Resposta: ZERO\n",
    "\n",
    "------\n",
    "<br>\n",
    "A definição indica a seguinte ordem como a correta:\n",
    "\n",
    "- Parêntesis\n",
    "- Expoêntes\n",
    "- Multiplicações e divisões (da esquerda para a dureita)\n",
    "- Somas e subtrações (da esquerda para a direita) "
   ]
  },
  {
   "cell_type": "code",
   "execution_count": 17,
   "id": "0a9cb636-5718-422c-8713-686ed4285284",
   "metadata": {},
   "outputs": [
    {
     "name": "stdout",
     "output_type": "stream",
     "text": [
      "0\n",
      "10\n",
      "200\n",
      "10000\n",
      "20.0\n"
     ]
    }
   ],
   "source": [
    "print( 10 - 5 * 2)\n",
    "print((10 - 5) * 2)\n",
    "print(10 ** 2 * 2)\n",
    "print(10 ** (2 * 2))\n",
    "print(10 / 2 * 4)"
   ]
  },
  {
   "cell_type": "markdown",
   "id": "0f0dec76-15bb-485a-9315-61adf2b98b83",
   "metadata": {},
   "source": [
    "--------------\n",
    "## Operadores de comparação\n",
    "\n",
    "São operadores utilizados para comparar dois valores."
   ]
  },
  {
   "cell_type": "code",
   "execution_count": 14,
   "id": "132b0383-591f-4074-b025-010ef9a2413f",
   "metadata": {},
   "outputs": [
    {
     "name": "stdout",
     "output_type": "stream",
     "text": [
      "False\n"
     ]
    }
   ],
   "source": [
    "# Igualdade\n",
    "saldo = 450\n",
    "saque = 200\n",
    "\n",
    "print(saldo == saque)"
   ]
  },
  {
   "cell_type": "code",
   "execution_count": 15,
   "id": "894df6c1-a0a3-4d1a-aebd-a9c4644074aa",
   "metadata": {},
   "outputs": [
    {
     "name": "stdout",
     "output_type": "stream",
     "text": [
      "True\n"
     ]
    }
   ],
   "source": [
    "# Diferença\n",
    "saldo = 450\n",
    "saque = 200\n",
    "\n",
    "print(saldo != saque)"
   ]
  },
  {
   "cell_type": "code",
   "execution_count": 16,
   "id": "0f2fdac9-6cd9-4bea-b010-29197bda453e",
   "metadata": {},
   "outputs": [
    {
     "name": "stdout",
     "output_type": "stream",
     "text": [
      "True\n",
      "True\n"
     ]
    }
   ],
   "source": [
    "# Maior que / maior ou igual\n",
    "saldo = 450\n",
    "saque = 200\n",
    "\n",
    "print(saldo > saque)\n",
    "print(saldo >= saque)"
   ]
  },
  {
   "cell_type": "code",
   "execution_count": 17,
   "id": "b79c8ec9-675f-4a84-8fa3-66062d9fbfbb",
   "metadata": {},
   "outputs": [
    {
     "name": "stdout",
     "output_type": "stream",
     "text": [
      "False\n",
      "False\n"
     ]
    }
   ],
   "source": [
    "# Menor que / menor ou igual\n",
    "saldo = 450\n",
    "saque = 200\n",
    "\n",
    "print(saldo < saque)\n",
    "print(saldo <= saque)"
   ]
  },
  {
   "cell_type": "markdown",
   "id": "87b3bf73-75b2-4746-bc08-c637bbb99837",
   "metadata": {},
   "source": [
    "-------\n",
    "## Operadores de atribuição\n",
    "\n",
    "São operadores utilizados para definir o valor inicial ou sobrescrever o valor de uma variável."
   ]
  },
  {
   "cell_type": "code",
   "execution_count": 18,
   "id": "20f1f4e1-1d7e-483a-a6a8-1de6fcb2f4d4",
   "metadata": {},
   "outputs": [
    {
     "name": "stdout",
     "output_type": "stream",
     "text": [
      "500\n"
     ]
    }
   ],
   "source": [
    "# Atribuição simples\n",
    "saldo = 500\n",
    "print(saldo)"
   ]
  },
  {
   "cell_type": "code",
   "execution_count": 7,
   "id": "01a95749-dae5-4b05-b4ad-10ccbd9f59bc",
   "metadata": {},
   "outputs": [
    {
     "name": "stdout",
     "output_type": "stream",
     "text": [
      "700\n"
     ]
    }
   ],
   "source": [
    "# Atribuição com adição\n",
    "saldo = 500\n",
    "saldo += 200\n",
    "print(saldo)"
   ]
  },
  {
   "cell_type": "code",
   "execution_count": 8,
   "id": "4c48d806-7b59-4f93-ad4d-08ea8abe1642",
   "metadata": {},
   "outputs": [
    {
     "name": "stdout",
     "output_type": "stream",
     "text": [
      "400\n"
     ]
    }
   ],
   "source": [
    "# Atribuição com Subtração\n",
    "saldo = 500\n",
    "saldo -= 100\n",
    "print(saldo)"
   ]
  },
  {
   "cell_type": "code",
   "execution_count": 9,
   "id": "b8b25d03-9074-4dab-9f84-730c4434a2cc",
   "metadata": {},
   "outputs": [
    {
     "name": "stdout",
     "output_type": "stream",
     "text": [
      "1000\n"
     ]
    }
   ],
   "source": [
    "# Atribuição com multiplicação\n",
    "saldo = 500\n",
    "saldo *= 2\n",
    "\n",
    "print(saldo)"
   ]
  },
  {
   "cell_type": "code",
   "execution_count": 11,
   "id": "cb7b44f3-904a-4781-80f5-d5c9399292ff",
   "metadata": {},
   "outputs": [
    {
     "name": "stdout",
     "output_type": "stream",
     "text": [
      "100.0\n",
      "100\n"
     ]
    }
   ],
   "source": [
    "# Atribuição com Divisão\n",
    "saldo = 500\n",
    "saldo /= 5\n",
    "print(saldo)\n",
    "\n",
    "saldo = 500\n",
    "saldo //= 5\n",
    "print(saldo)"
   ]
  },
  {
   "cell_type": "code",
   "execution_count": 12,
   "id": "49549488-b865-4adb-a14c-828d2b13cc04",
   "metadata": {},
   "outputs": [
    {
     "name": "stdout",
     "output_type": "stream",
     "text": [
      "20\n"
     ]
    }
   ],
   "source": [
    "# Atribuição com módulo\n",
    "saldo = 500\n",
    "saldo %= 480\n",
    "\n",
    "print(saldo)"
   ]
  },
  {
   "cell_type": "code",
   "execution_count": 13,
   "id": "475b4697-4aca-4ee6-941e-2400a90ca615",
   "metadata": {},
   "outputs": [
    {
     "name": "stdout",
     "output_type": "stream",
     "text": [
      "6400\n"
     ]
    }
   ],
   "source": [
    "# Atribuição com Exponenciação\n",
    "saldo = 80\n",
    "saldo **= 2\n",
    "print(saldo)"
   ]
  },
  {
   "cell_type": "markdown",
   "id": "ae293f06-efae-46c3-a435-1285106df7eb",
   "metadata": {},
   "source": [
    "-----\n",
    "## Operadores Lógicos\n",
    "\n",
    "São Operadores utilizados em conjunto com os operadores de comparação, para montar uma expressão lógica. Quando um operador de comparação é utilizado, o resultado retornado é um booleano, dessa forma podemos combinar operadores de comparação com os operadores lógicos, exemplo:\n",
    "\n",
    "op_comparacao + op_logico + op_comparacao...N.."
   ]
  },
  {
   "cell_type": "code",
   "execution_count": 20,
   "id": "be618eed-a63f-4b46-a998-0f0a60f4319b",
   "metadata": {},
   "outputs": [
    {
     "name": "stdout",
     "output_type": "stream",
     "text": [
      "True\n",
      "False\n"
     ]
    }
   ],
   "source": [
    "saldo = 1000\n",
    "saque = 200\n",
    "limite = 100\n",
    "\n",
    "print(saldo >= saque)\n",
    "print(saque <= limite)"
   ]
  },
  {
   "cell_type": "code",
   "execution_count": 21,
   "id": "02f2058c-5c5f-4a61-82d9-a74f4aec95f4",
   "metadata": {},
   "outputs": [
    {
     "data": {
      "text/plain": [
       "False"
      ]
     },
     "execution_count": 21,
     "metadata": {},
     "output_type": "execute_result"
    }
   ],
   "source": [
    "# Operador E\n",
    "saldo = 1000\n",
    "saque = 200\n",
    "limite = 100\n",
    "\n",
    "saldo >= saque and saque <= limite"
   ]
  },
  {
   "cell_type": "code",
   "execution_count": 22,
   "id": "5e670b58-29fb-4a5e-9daa-535861011b5f",
   "metadata": {},
   "outputs": [
    {
     "data": {
      "text/plain": [
       "True"
      ]
     },
     "execution_count": 22,
     "metadata": {},
     "output_type": "execute_result"
    }
   ],
   "source": [
    "# Operador OU\n",
    "saldo = 1000\n",
    "saque = 200\n",
    "limite = 100\n",
    "\n",
    "saldo >= saque or saque <= limite"
   ]
  },
  {
   "cell_type": "code",
   "execution_count": 27,
   "id": "22214e88-855a-45d9-b7a5-9d2f09927a51",
   "metadata": {},
   "outputs": [
    {
     "name": "stdout",
     "output_type": "stream",
     "text": [
      "True\n",
      "True\n",
      "False\n",
      "True\n"
     ]
    }
   ],
   "source": [
    "# Operador Negação\n",
    "contatos_emergencia = []\n",
    "\n",
    "print(not 1000 > 1500)\n",
    "print(not contatos_emergencia)\n",
    "print(not \"saque 1500;\")\n",
    "print(not \"\")"
   ]
  },
  {
   "cell_type": "code",
   "execution_count": 29,
   "id": "e98337e5-285a-4e5e-a0b4-11d278645135",
   "metadata": {},
   "outputs": [
    {
     "name": "stdout",
     "output_type": "stream",
     "text": [
      "True\n",
      "True\n"
     ]
    }
   ],
   "source": [
    "# Parênteses\n",
    "saldo = 1000\n",
    "saque = 250\n",
    "limite = 200\n",
    "conta_especial = True\n",
    "\n",
    "print(saldo >= saque and saque <= limite or conta_especial and saldo >= saque)\n",
    "\n",
    "print( (saldo >= saque and saque <= limite) or (conta_especial and saldo >= saque) )"
   ]
  },
  {
   "cell_type": "code",
   "execution_count": 30,
   "id": "3516b2c0-a93e-4af8-9973-93f98d17dc50",
   "metadata": {},
   "outputs": [
    {
     "name": "stdout",
     "output_type": "stream",
     "text": [
      "True\n",
      "False\n",
      "True\n",
      "True\n"
     ]
    }
   ],
   "source": [
    "# Tabela\n",
    "print(True and True)\n",
    "print(True and False)\n",
    "print(True or True)\n",
    "print(True or False)"
   ]
  },
  {
   "cell_type": "markdown",
   "id": "1fe8eb9d-4f6f-489f-8650-093358888301",
   "metadata": {},
   "source": [
    "------------\n",
    "## Operadores de identidade\n",
    "São operadores utilizados para comparar se os dois objetos testados ocupam a mesma posição na memória."
   ]
  },
  {
   "cell_type": "code",
   "execution_count": 31,
   "id": "3d031214-d996-4e0f-b477-915d0317d41d",
   "metadata": {},
   "outputs": [
    {
     "name": "stdout",
     "output_type": "stream",
     "text": [
      "True\n",
      "False\n",
      "True\n"
     ]
    }
   ],
   "source": [
    "# Exemplo\n",
    "curso = \"Curso de Python\"\n",
    "nome_do_curso = curso\n",
    "saldo, limite = 200, 200\n",
    "\n",
    "print(curso is nome_do_curso)\n",
    "print(curso is not nome_do_curso)\n",
    "print(saldo is limite)"
   ]
  },
  {
   "cell_type": "code",
   "execution_count": 33,
   "id": "38153e4e-caaa-4f9e-93fc-c68e356ea50d",
   "metadata": {},
   "outputs": [
    {
     "name": "stdout",
     "output_type": "stream",
     "text": [
      "False\n",
      "True\n"
     ]
    }
   ],
   "source": [
    "saldo = 1000\n",
    "limite = 500\n",
    "\n",
    "print(saldo is limite)\n",
    "print(saldo is not limite)"
   ]
  },
  {
   "cell_type": "markdown",
   "id": "c02815b3-1577-47f1-bcf0-a714e634b02d",
   "metadata": {},
   "source": [
    "-----------\n",
    "## Operadores de associação\n",
    "\n",
    "São operadores utilizados para verificar se um objeto está presente em uma sequência."
   ]
  },
  {
   "cell_type": "code",
   "execution_count": 35,
   "id": "3db74036-a8ce-45c2-9aca-2d7a01144dd8",
   "metadata": {},
   "outputs": [
    {
     "name": "stdout",
     "output_type": "stream",
     "text": [
      "True\n",
      "True\n",
      "False\n"
     ]
    }
   ],
   "source": [
    "# Exemplo\n",
    "curso = \"Curso de Python\"\n",
    "frutas = [\"laranja\", \"uva\", \"limão\"]\n",
    "saques = [1500, 100]\n",
    "\n",
    "print(\"Python\" in curso)\n",
    "print(\"maça\" not in frutas)\n",
    "print(200 in saques)"
   ]
  },
  {
   "cell_type": "code",
   "execution_count": null,
   "id": "e93fe7d9-97c4-44de-aa26-045ebcb356a8",
   "metadata": {},
   "outputs": [],
   "source": []
  }
 ],
 "metadata": {
  "kernelspec": {
   "display_name": "Python 3 (ipykernel)",
   "language": "python",
   "name": "python3"
  },
  "language_info": {
   "codemirror_mode": {
    "name": "ipython",
    "version": 3
   },
   "file_extension": ".py",
   "mimetype": "text/x-python",
   "name": "python",
   "nbconvert_exporter": "python",
   "pygments_lexer": "ipython3",
   "version": "3.11.7"
  }
 },
 "nbformat": 4,
 "nbformat_minor": 5
}
