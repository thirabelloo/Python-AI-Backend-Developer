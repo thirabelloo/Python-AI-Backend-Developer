{
 "cells": [
  {
   "cell_type": "markdown",
   "id": "11487289-907f-4d67-9734-39429c054cba",
   "metadata": {},
   "source": [
    "# Conhecendo Polimorfismo em Python"
   ]
  },
  {
   "cell_type": "markdown",
   "id": "4e904421-65cd-46a8-9304-6a83228cef7a",
   "metadata": {},
   "source": [
    "----\n",
    "## Objetivo Geral\n",
    "Aprender a criar classes polimórficas com Python.\n",
    "\n",
    "## O que é polimorfismo?\n",
    "A palavra polimorfismo significa ter muitas formas. Na programação, polimorfismo significa o mesmo nome de função (mas assinaturas diferentes) sendo usado para tipos diferentes."
   ]
  },
  {
   "cell_type": "code",
   "execution_count": 2,
   "id": "d4bb993e-71b9-43fc-8c89-f990c428423a",
   "metadata": {},
   "outputs": [
    {
     "name": "stdout",
     "output_type": "stream",
     "text": [
      "6\n",
      "3\n"
     ]
    }
   ],
   "source": [
    "# Exemplo\n",
    "print(len(\"python\"))\n",
    "print(len([10, 20, 30]))"
   ]
  },
  {
   "cell_type": "markdown",
   "id": "e6773869-2598-416d-a7a8-01f7d9e41575",
   "metadata": {},
   "source": [
    "## Polimorfismo com Herança\n",
    "**Mesmo método com comportamento diferente**\n",
    "\n",
    "Na herança, a classe filha herda os métodos da classe pai. No entanto, é possível modificar um método em uma classe filha herdada da classe pai. Isso é particularmente útil nos casos em que o método herdado da classe pai não se encaixa perfeitamente na classe filha."
   ]
  },
  {
   "cell_type": "code",
   "execution_count": 7,
   "id": "69a93567-bcf5-4522-8848-1a4f5ca02596",
   "metadata": {},
   "outputs": [],
   "source": [
    "# Exemplo\n",
    "class Passaro:\n",
    "    def voar(self):\n",
    "        pass\n",
    "\n",
    "class Pardal(Passaro):\n",
    "    def voar(self):\n",
    "        print(\"Pardal voa\")\n",
    "\n",
    "class Avestruz(Passaro):\n",
    "    def voar(self):\n",
    "        print(\"Avestruz não voa\")\n",
    "\n",
    "def plano_de_voo(passaro):\n",
    "    passaro.voar()\n"
   ]
  },
  {
   "cell_type": "code",
   "execution_count": 9,
   "id": "701a7094-2f2a-4bfd-b384-23a5f87a47f6",
   "metadata": {},
   "outputs": [
    {
     "name": "stdout",
     "output_type": "stream",
     "text": [
      "Pardal voa\n",
      "Avestruz não voa\n"
     ]
    }
   ],
   "source": [
    "plano_de_voo(Pardal())\n",
    "plano_de_voo(Avestruz())"
   ]
  },
  {
   "cell_type": "code",
   "execution_count": 18,
   "id": "59916dbf-1b41-49b0-bb9a-b9e2f3d107bc",
   "metadata": {},
   "outputs": [],
   "source": [
    "# Exemplo 2\n",
    "class Passaro:\n",
    "    def voar(self):\n",
    "        print(\"Voando...\")\n",
    "\n",
    "class Pardal(Passaro):\n",
    "    def voar(self):\n",
    "        # super().voar()\n",
    "        print(\"Pardal pode voar\")\n",
    "\n",
    "class Avestruz(Passaro):\n",
    "    def voar(self):\n",
    "        print(\"Avestruz não pode voar\")\n",
    "\n",
    "# Exemplo ruim do uso de herança para \"ganhar\" o método voar \n",
    "class Aviao(Passaro):\n",
    "    def voar(self):\n",
    "        print(\"Avião está decolando...\")\n",
    "\n",
    "def plano_de_voo(obj):\n",
    "    obj.voar()\n"
   ]
  },
  {
   "cell_type": "code",
   "execution_count": 19,
   "id": "00704e87-fa6e-445d-a938-66251463d901",
   "metadata": {},
   "outputs": [
    {
     "name": "stdout",
     "output_type": "stream",
     "text": [
      "Pardal pode voar\n",
      "Avestruz não pode voar\n",
      "Avião está decolando...\n"
     ]
    }
   ],
   "source": [
    "plano_de_voo(Pardal())\n",
    "plano_de_voo(Avestruz())\n",
    "plano_de_voo(Aviao())"
   ]
  },
  {
   "cell_type": "code",
   "execution_count": null,
   "id": "ff307f62-1c6d-4b00-a78b-aa59126d4336",
   "metadata": {},
   "outputs": [],
   "source": []
  }
 ],
 "metadata": {
  "kernelspec": {
   "display_name": "Python 3 (ipykernel)",
   "language": "python",
   "name": "python3"
  },
  "language_info": {
   "codemirror_mode": {
    "name": "ipython",
    "version": 3
   },
   "file_extension": ".py",
   "mimetype": "text/x-python",
   "name": "python",
   "nbconvert_exporter": "python",
   "pygments_lexer": "ipython3",
   "version": "3.11.7"
  }
 },
 "nbformat": 4,
 "nbformat_minor": 5
}
