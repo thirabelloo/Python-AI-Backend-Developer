{
 "cells": [
  {
   "cell_type": "markdown",
   "id": "4d1946a5-c94a-45d3-a259-4a2ccd3c6c9e",
   "metadata": {},
   "source": [
    "## **Desafio**\n",
    "Imagine que você trabalha para uma empresa de telecomunicações e é responsável por validar se um número de telefone fornecido pelo cliente está em um formato correto. Para garantir a precisão dos registros, é essencial que os números de telefone estejam no formato padrão. Desenvolva uma função programa que valide se um número de telefone tem o formato correto.\n",
    "\n",
    "**Formato esperado:**\n",
    "\n",
    "O formato aceito para números de telefone é: (XX) 9XXXX-XXXX, onde X representa um dígito de 0 a 9. Lembre-se de respeitar os espaços entre os números quando preciso.\n",
    "\n",
    "**Entrada**\n",
    "\n",
    "Uma string representando o número de telefone.\n",
    "\n",
    "**Saída**\n",
    "\n",
    "Uma mensagem indicando se o número de telefone é válido ou inválido."
   ]
  },
  {
   "cell_type": "code",
   "execution_count": 1,
   "id": "01106fa9-e0c8-41b6-962c-f6b06bd96831",
   "metadata": {},
   "outputs": [
    {
     "name": "stdin",
     "output_type": "stream",
     "text": [
      " 11988215478\n"
     ]
    },
    {
     "name": "stdout",
     "output_type": "stream",
     "text": [
      "Número de telefone inválido.\n"
     ]
    }
   ],
   "source": [
    "import re\n",
    "\n",
    "def validate_numero_telefone(phone_number):\n",
    "    pattern = re.compile(r'^\\(\\d{2}\\) \\d{4,5}-\\d{4}$')\n",
    "\n",
    "    if re.match(pattern, phone_number):\n",
    "        return \"Número de telefone válido.\"\n",
    "    else:\n",
    "        return \"Número de telefone inválido.\"\n",
    "\n",
    "phone_number = input()\n",
    "result = validate_numero_telefone(phone_number)\n",
    "print(result)"
   ]
  },
  {
   "cell_type": "code",
   "execution_count": null,
   "id": "77bcbd25-91a0-4e43-ae33-44318d4a4fb2",
   "metadata": {},
   "outputs": [],
   "source": []
  }
 ],
 "metadata": {
  "kernelspec": {
   "display_name": "Python 3 (ipykernel)",
   "language": "python",
   "name": "python3"
  },
  "language_info": {
   "codemirror_mode": {
    "name": "ipython",
    "version": 3
   },
   "file_extension": ".py",
   "mimetype": "text/x-python",
   "name": "python",
   "nbconvert_exporter": "python",
   "pygments_lexer": "ipython3",
   "version": "3.11.7"
  }
 },
 "nbformat": 4,
 "nbformat_minor": 5
}
