{
 "cells": [
  {
   "cell_type": "markdown",
   "id": "767f496c-0c8c-441b-8b71-5ad2ef19bc34",
   "metadata": {},
   "source": [
    "## **Desafio**\n",
    "Você foi designado para desenvolver um programa para gerenciar os equipamentos de uma empresa. O objetivo é criar um solução que permita aos usuários inserir informações sobre os equipamentos que serão cadastrados na rede, em seguida, exibir essa lista de equipamentos. Crie uma Lista para armazenar esses equipamentos e depois um loop para solicitar ao usuário inserir até três equipamentos.\n",
    "\n",
    "**Entrada**\n",
    "\n",
    "O programa solicitará ao usuário que insira uma lista com três equipamentos para adicionar a rede.\n",
    "\n",
    "**Saída**\n",
    "\n",
    "Após a entrada dos itens, o programa exibirá a lista de equipamentos inseridos pelo usuário. Cada equipamento será listado com um prefixo ( - ) de marcação para melhor organização."
   ]
  },
  {
   "cell_type": "code",
   "execution_count": 1,
   "id": "cfe7cfe8-3a1a-401c-91dd-ffb80167bd05",
   "metadata": {},
   "outputs": [
    {
     "name": "stdin",
     "output_type": "stream",
     "text": [
      " Mesa\n",
      " Copo\n",
      " Prato\n"
     ]
    },
    {
     "name": "stdout",
     "output_type": "stream",
     "text": [
      "\n",
      "Lista de Equipamentos:\n",
      "- Mesa\n",
      "- Copo\n",
      "- Prato\n"
     ]
    }
   ],
   "source": [
    "def lista_equipamentos():\n",
    "    itens = []\n",
    "    \n",
    "    for i in range(3):\n",
    "        dado = input()\n",
    "        itens.append(dado)\n",
    "    \n",
    "    print(\"\\nLista de Equipamentos:\")\n",
    "    for item in itens:\n",
    "        print(f\"- {item}\")\n",
    "\n",
    "lista_equipamentos()"
   ]
  },
  {
   "cell_type": "code",
   "execution_count": null,
   "id": "26e7ab72-c744-4fcf-b568-dc604cedbbc7",
   "metadata": {},
   "outputs": [],
   "source": []
  }
 ],
 "metadata": {
  "kernelspec": {
   "display_name": "Python 3 (ipykernel)",
   "language": "python",
   "name": "python3"
  },
  "language_info": {
   "codemirror_mode": {
    "name": "ipython",
    "version": 3
   },
   "file_extension": ".py",
   "mimetype": "text/x-python",
   "name": "python",
   "nbconvert_exporter": "python",
   "pygments_lexer": "ipython3",
   "version": "3.11.7"
  }
 },
 "nbformat": 4,
 "nbformat_minor": 5
}
