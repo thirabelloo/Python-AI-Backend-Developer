{
 "cells": [
  {
   "cell_type": "markdown",
   "id": "26a4192e-611b-480a-b744-90d6507498af",
   "metadata": {},
   "source": [
    "## Dominando Funções  Python"
   ]
  },
  {
   "cell_type": "markdown",
   "id": "38057ce9-a731-4b13-856b-1dc5620d5d5e",
   "metadata": {},
   "source": [
    "### O que são funções?\n",
    "Função é um bloco de código identificado por um nome e pode receber uma lista de parâmetros, esses parâmetros podem ou não ter valores padrões. Usar funções torna o código mais legível e possibilita o reaproveitamento de código. Programar baseado em funções, é o mesmo que dizer que estamos programando de maneira estruturada."
   ]
  },
  {
   "cell_type": "code",
   "execution_count": 3,
   "id": "91ca6e3f-b4bd-43e8-a9ba-c2929018d574",
   "metadata": {},
   "outputs": [
    {
     "name": "stdout",
     "output_type": "stream",
     "text": [
      "Olá mundo!\n",
      "Seja bem vindo Itachi!\n",
      "Seja bem vindo Naruto!\n",
      "Seja bem vindo Anônimo!\n",
      "Seja bem vindo Gaara!\n"
     ]
    }
   ],
   "source": [
    "def exibir_mensagem():\n",
    "    print(\"Olá mundo!\")\n",
    "\n",
    "def exibir_mensagem_2(nome):\n",
    "    print(f\"Seja bem vindo {nome}!\")\n",
    "\n",
    "def exibir_mensagem_3(nome=\"Anônimo\"):\n",
    "    print(f\"Seja bem vindo {nome}!\")\n",
    "\n",
    "exibir_mensagem()\n",
    "exibir_mensagem_2(nome=\"Itachi\")\n",
    "exibir_mensagem_2(\"Naruto\")\n",
    "exibir_mensagem_3()\n",
    "exibir_mensagem_3(nome=\"Gaara\")"
   ]
  },
  {
   "cell_type": "markdown",
   "id": "11e1485c-4d27-4db4-9d89-4802e831a011",
   "metadata": {},
   "source": [
    "-----\n",
    "### Retornando valores\n",
    "Para retornar um valor, utilizamos a palavra reservada **return.**\n",
    "\n",
    "Toda função Python retorna **None** por padrão. Diferente de outras linguagens de programação, em Python uma função pode retornar mais de um valor."
   ]
  },
  {
   "cell_type": "code",
   "execution_count": 7,
   "id": "981ae828-736b-4e10-9fdc-e5178d34d188",
   "metadata": {},
   "outputs": [
    {
     "data": {
      "text/plain": [
       "64"
      ]
     },
     "execution_count": 7,
     "metadata": {},
     "output_type": "execute_result"
    }
   ],
   "source": [
    "def calcular_total(numeros):\n",
    "    return sum(numeros)\n",
    "    \n",
    "calcular_total([10,20,34])"
   ]
  },
  {
   "cell_type": "code",
   "execution_count": 8,
   "id": "1e59282b-657f-44fd-be6f-f6d8d0e328e9",
   "metadata": {},
   "outputs": [
    {
     "data": {
      "text/plain": [
       "(9, 11)"
      ]
     },
     "execution_count": 8,
     "metadata": {},
     "output_type": "execute_result"
    }
   ],
   "source": [
    "def retorna_antecessor_e_sucessor(numero):\n",
    "    antecessor = numero - 1\n",
    "    sucessor = numero + 1\n",
    "    return antecessor, sucessor\n",
    "\n",
    "retorna_antecessor_e_sucessor(10)"
   ]
  },
  {
   "cell_type": "markdown",
   "id": "10145407-f43e-4fc2-bee3-ce0025fd68fe",
   "metadata": {},
   "source": [
    "------\n",
    "### Argumentos nomeados\n",
    "Funções também podem ser chamadas usando argumentos nomeados de forma chave=valor"
   ]
  },
  {
   "cell_type": "code",
   "execution_count": 11,
   "id": "81dbc007-2889-44d4-ae97-bc3897d3c16c",
   "metadata": {},
   "outputs": [
    {
     "name": "stdout",
     "output_type": "stream",
     "text": [
      "Carro inserido com sucesso! Fiat/Palio/1999/ABC-1234\n",
      "Carro inserido com sucesso! Fiat/Palio/1999/ABC-1234\n",
      "Carro inserido com sucesso! Fiat/Palio/1999/ABC-1234\n"
     ]
    }
   ],
   "source": [
    "def salvar_carro(marca, modelo, ano, placa):\n",
    "    # salva carro no banco de dados...\n",
    "    print(f\"Carro inserido com sucesso! {marca}/{modelo}/{ano}/{placa}\")\n",
    "\n",
    "salvar_carro(\"Fiat\", \"Palio\", 1999, \"ABC-1234\")\n",
    "salvar_carro(marca=\"Fiat\", modelo=\"Palio\", ano=1999, placa=\"ABC-1234\")\n",
    "salvar_carro(**{\"marca\": \"Fiat\", \"modelo\": \"Palio\", \"ano\": 1999, \"placa\": \"ABC-1234\"})"
   ]
  },
  {
   "cell_type": "markdown",
   "id": "bb34e052-d2a1-4a27-a35e-cb69a1e2b4f0",
   "metadata": {},
   "source": [
    "-----\n",
    "### Args e Kwargs\n",
    "Podemos combinar parâmetros obrigatórios com args e kwargs. Quando esses são definidos (*args e **kwargs), o método recebe os valores como tupla e dicionário respectivamente."
   ]
  },
  {
   "cell_type": "code",
   "execution_count": 16,
   "id": "ea0a6d61-0160-4e5c-928e-03328271b684",
   "metadata": {},
   "outputs": [
    {
     "name": "stdout",
     "output_type": "stream",
     "text": [
      "Sexta-feira, 26 de Agosto de 2024\n",
      "\n",
      "Zen of Python\n",
      "Beautiful is better than ugly.\n",
      "Explicit is better than implicit.\n",
      "Simple is better than complex.Complex is better than complicated.\n",
      "Flat is better than nested.\n",
      "Sparse is better than dense.\n",
      "Readability counts.\n",
      "Special cases aren't special enough to break the rules.\n",
      "Although practicality beats purity.\n",
      "Errors should never pass silently.\n",
      "Unless explicitly silenced.\n",
      "In the face of ambiguity, refuse the temptation to guess.\n",
      "There should be one -- and preferably only one -- obvious way to do it.\n",
      "Although that way may not be obvious at first unless you're Dutch.\n",
      "Now is better than never.\n",
      "Although never is often better than *right* now.\n",
      "If the implementation is hard to explain, it's a bad idea.\n",
      "If the implementation is easy to explain, it may be a good idea.\n",
      "Namespaces are one honking great idea -- let's do more of those!\n",
      "\n",
      "Autor: Tim Peters\n",
      "Ano: 1999\n"
     ]
    }
   ],
   "source": [
    "def exibir_poema(data_extenso, *args, **kwargs):\n",
    "    texto = \"\\n\".join(args)\n",
    "    meta_dados = \"\\n\".join([f\"{chave.title()}: {valor}\" for chave, valor in kwargs.items()])\n",
    "    mensagem = f\"{data_extenso}\\n\\n{texto}\\n\\n{meta_dados}\"\n",
    "    print(mensagem)\n",
    "\n",
    "exibir_poema(\"Sexta-feira, 26 de Agosto de 2024\",\n",
    "             \"Zen of Python\", \n",
    "             \"Beautiful is better than ugly.\",\n",
    "             \"Explicit is better than implicit.\",\n",
    "             \"Simple is better than complex.\"\n",
    "             \"Complex is better than complicated.\",\n",
    "             \"Flat is better than nested.\",\n",
    "             \"Sparse is better than dense.\",\n",
    "             \"Readability counts.\",\n",
    "             \"Special cases aren't special enough to break the rules.\",\n",
    "             \"Although practicality beats purity.\",\n",
    "             \"Errors should never pass silently.\",\n",
    "             \"Unless explicitly silenced.\",\n",
    "             \"In the face of ambiguity, refuse the temptation to guess.\",\n",
    "             \"There should be one -- and preferably only one -- obvious way to do it.\",\n",
    "             \"Although that way may not be obvious at first unless you're Dutch.\",\n",
    "             \"Now is better than never.\",\n",
    "             \"Although never is often better than *right* now.\",\n",
    "             \"If the implementation is hard to explain, it's a bad idea.\",\n",
    "             \"If the implementation is easy to explain, it may be a good idea.\",\n",
    "             \"Namespaces are one honking great idea -- let's do more of those!\",\n",
    "             autor=\"Tim Peters\", \n",
    "             ano=1999)"
   ]
  },
  {
   "cell_type": "markdown",
   "id": "4a7f62a6-943e-478b-b629-350f4038c6fd",
   "metadata": {},
   "source": [
    "-------\n",
    "### Parâmetros Especiais\n",
    "\n",
    "Por padrão, argumentos podem ser passados por uma função Python tanto por posição quanto explicitamente pelo nome.\n",
    "Para uma melhor legibilidade e desempenho, faz sentido restringir a maneira pelo qual argumentos possam ser passados, assim um desenvolvedor precisa apenas olhar para a definição da função para determinar se os itens são passados **por posição, por posição e nome, ou por nome**"
   ]
  },
  {
   "cell_type": "markdown",
   "id": "9f67879f-ac86-4619-a5e2-d309c6b9d61e",
   "metadata": {},
   "source": [
    "----\n",
    "#### **Positional only**"
   ]
  },
  {
   "cell_type": "code",
   "execution_count": 19,
   "id": "05fce0ae-2395-41ca-8bd5-dc92d5cdd99b",
   "metadata": {},
   "outputs": [
    {
     "name": "stdout",
     "output_type": "stream",
     "text": [
      "Palio 1999 ABC-1234 Fiat 1.0 Gasolina\n"
     ]
    }
   ],
   "source": [
    "def criar_carro(modelo, ano, placa, /, marca, motor, combustivel):\n",
    "    print(modelo, ano, placa, marca, motor, combustivel)\n",
    "\n",
    "# Válido \n",
    "criar_carro(\"Palio\", 1999, \"ABC-1234\", marca=\"Fiat\", motor=\"1.0\", combustivel=\"Gasolina\")"
   ]
  },
  {
   "cell_type": "code",
   "execution_count": 20,
   "id": "6ce05df8-78b4-4713-a2d6-58abd72675f9",
   "metadata": {},
   "outputs": [
    {
     "ename": "TypeError",
     "evalue": "criar_carro() got some positional-only arguments passed as keyword arguments: 'modelo, ano, placa'",
     "output_type": "error",
     "traceback": [
      "\u001b[1;31m---------------------------------------------------------------------------\u001b[0m",
      "\u001b[1;31mTypeError\u001b[0m                                 Traceback (most recent call last)",
      "Cell \u001b[1;32mIn[20], line 2\u001b[0m\n\u001b[0;32m      1\u001b[0m \u001b[38;5;66;03m# Inválido\u001b[39;00m\n\u001b[1;32m----> 2\u001b[0m criar_carro(modelo\u001b[38;5;241m=\u001b[39m\u001b[38;5;124m\"\u001b[39m\u001b[38;5;124mPalio\u001b[39m\u001b[38;5;124m\"\u001b[39m, ano\u001b[38;5;241m=\u001b[39m\u001b[38;5;241m1994\u001b[39m, placa\u001b[38;5;241m=\u001b[39m\u001b[38;5;124m\"\u001b[39m\u001b[38;5;124mABC-1234\u001b[39m\u001b[38;5;124m\"\u001b[39m, marca\u001b[38;5;241m=\u001b[39m\u001b[38;5;124m\"\u001b[39m\u001b[38;5;124mFiat\u001b[39m\u001b[38;5;124m\"\u001b[39m, motor\u001b[38;5;241m=\u001b[39m\u001b[38;5;124m\"\u001b[39m\u001b[38;5;124m1.0\u001b[39m\u001b[38;5;124m\"\u001b[39m, combustivel\u001b[38;5;241m=\u001b[39m\u001b[38;5;124m\"\u001b[39m\u001b[38;5;124mGasolina\u001b[39m\u001b[38;5;124m\"\u001b[39m)\n",
      "\u001b[1;31mTypeError\u001b[0m: criar_carro() got some positional-only arguments passed as keyword arguments: 'modelo, ano, placa'"
     ]
    }
   ],
   "source": [
    "# Inválido\n",
    "criar_carro(modelo=\"Palio\", ano=1994, placa=\"ABC-1234\", marca=\"Fiat\", motor=\"1.0\", combustivel=\"Gasolina\")"
   ]
  },
  {
   "cell_type": "markdown",
   "id": "4667d561-f012-444c-aeff-f39865dc9765",
   "metadata": {},
   "source": [
    "-----\n",
    "#### **Keyword only**"
   ]
  },
  {
   "cell_type": "code",
   "execution_count": 21,
   "id": "c162d603-ef18-492d-a359-cc7fe5c1b784",
   "metadata": {},
   "outputs": [
    {
     "name": "stdout",
     "output_type": "stream",
     "text": [
      "Palio 1994 ABC-1234 Fiat 1.0 Gasolina\n"
     ]
    }
   ],
   "source": [
    "def criar_carro(*, modelo, ano, placa, marca, motor, combustivel):\n",
    "    print(modelo, ano, placa, marca, motor, combustivel)\n",
    "\n",
    "# Válido \n",
    "criar_carro(modelo=\"Palio\", ano=1994, placa=\"ABC-1234\", marca=\"Fiat\", motor=\"1.0\", combustivel=\"Gasolina\")"
   ]
  },
  {
   "cell_type": "code",
   "execution_count": 22,
   "id": "d7319830-ae7d-4c25-a86b-f104365756d6",
   "metadata": {},
   "outputs": [
    {
     "ename": "TypeError",
     "evalue": "criar_carro() takes 0 positional arguments but 3 positional arguments (and 3 keyword-only arguments) were given",
     "output_type": "error",
     "traceback": [
      "\u001b[1;31m---------------------------------------------------------------------------\u001b[0m",
      "\u001b[1;31mTypeError\u001b[0m                                 Traceback (most recent call last)",
      "Cell \u001b[1;32mIn[22], line 2\u001b[0m\n\u001b[0;32m      1\u001b[0m \u001b[38;5;66;03m# Inválido\u001b[39;00m\n\u001b[1;32m----> 2\u001b[0m criar_carro(\u001b[38;5;124m\"\u001b[39m\u001b[38;5;124mPalio\u001b[39m\u001b[38;5;124m\"\u001b[39m, \u001b[38;5;241m1999\u001b[39m, \u001b[38;5;124m\"\u001b[39m\u001b[38;5;124mABC-1234\u001b[39m\u001b[38;5;124m\"\u001b[39m, marca\u001b[38;5;241m=\u001b[39m\u001b[38;5;124m\"\u001b[39m\u001b[38;5;124mFiat\u001b[39m\u001b[38;5;124m\"\u001b[39m, motor\u001b[38;5;241m=\u001b[39m\u001b[38;5;124m\"\u001b[39m\u001b[38;5;124m1.0\u001b[39m\u001b[38;5;124m\"\u001b[39m, combustivel\u001b[38;5;241m=\u001b[39m\u001b[38;5;124m\"\u001b[39m\u001b[38;5;124mGasolina\u001b[39m\u001b[38;5;124m\"\u001b[39m)\n",
      "\u001b[1;31mTypeError\u001b[0m: criar_carro() takes 0 positional arguments but 3 positional arguments (and 3 keyword-only arguments) were given"
     ]
    }
   ],
   "source": [
    "# Inválido\n",
    "criar_carro(\"Palio\", 1999, \"ABC-1234\", marca=\"Fiat\", motor=\"1.0\", combustivel=\"Gasolina\")"
   ]
  },
  {
   "cell_type": "markdown",
   "id": "d8383581-329c-4d23-8f7c-cb6d83165e8e",
   "metadata": {},
   "source": [
    "------\n",
    "#### **Keyword and positional only**\n"
   ]
  },
  {
   "cell_type": "code",
   "execution_count": 24,
   "id": "bc9257d1-62b8-4a38-8ffa-20b726591ffa",
   "metadata": {},
   "outputs": [
    {
     "name": "stdout",
     "output_type": "stream",
     "text": [
      "Palio 1999 ABC-1234 Fiat 1.0 Gasolina\n"
     ]
    }
   ],
   "source": [
    "\n",
    "def criar_carro(modelo, ano, placa, /,* ,marca, motor, combustivel):\n",
    "    print(modelo, ano, placa, marca, motor, combustivel)\n",
    "\n",
    "# Válido \n",
    "criar_carro(\"Palio\", 1999, \"ABC-1234\", marca=\"Fiat\", motor=\"1.0\", combustivel=\"Gasolina\")"
   ]
  },
  {
   "cell_type": "code",
   "execution_count": 25,
   "id": "02468825-232f-4782-a187-0e35cc40d196",
   "metadata": {},
   "outputs": [
    {
     "ename": "TypeError",
     "evalue": "criar_carro() got some positional-only arguments passed as keyword arguments: 'modelo, ano, placa'",
     "output_type": "error",
     "traceback": [
      "\u001b[1;31m---------------------------------------------------------------------------\u001b[0m",
      "\u001b[1;31mTypeError\u001b[0m                                 Traceback (most recent call last)",
      "Cell \u001b[1;32mIn[25], line 2\u001b[0m\n\u001b[0;32m      1\u001b[0m \u001b[38;5;66;03m# Inválido\u001b[39;00m\n\u001b[1;32m----> 2\u001b[0m criar_carro(modelo\u001b[38;5;241m=\u001b[39m\u001b[38;5;124m\"\u001b[39m\u001b[38;5;124mPalio\u001b[39m\u001b[38;5;124m\"\u001b[39m, ano\u001b[38;5;241m=\u001b[39m\u001b[38;5;241m1994\u001b[39m, placa\u001b[38;5;241m=\u001b[39m\u001b[38;5;124m\"\u001b[39m\u001b[38;5;124mABC-1234\u001b[39m\u001b[38;5;124m\"\u001b[39m, marca\u001b[38;5;241m=\u001b[39m\u001b[38;5;124m\"\u001b[39m\u001b[38;5;124mFiat\u001b[39m\u001b[38;5;124m\"\u001b[39m, motor\u001b[38;5;241m=\u001b[39m\u001b[38;5;124m\"\u001b[39m\u001b[38;5;124m1.0\u001b[39m\u001b[38;5;124m\"\u001b[39m, combustivel\u001b[38;5;241m=\u001b[39m\u001b[38;5;124m\"\u001b[39m\u001b[38;5;124mGasolina\u001b[39m\u001b[38;5;124m\"\u001b[39m)\n",
      "\u001b[1;31mTypeError\u001b[0m: criar_carro() got some positional-only arguments passed as keyword arguments: 'modelo, ano, placa'"
     ]
    }
   ],
   "source": [
    "# Inválido\n",
    "criar_carro(modelo=\"Palio\", ano=1994, placa=\"ABC-1234\", marca=\"Fiat\", motor=\"1.0\", combustivel=\"Gasolina\")"
   ]
  },
  {
   "cell_type": "markdown",
   "id": "3bb28ced-d9f0-4995-acb8-e0e7d51ad266",
   "metadata": {},
   "source": [
    "----\n",
    "### Objetos de primeira classe\n",
    "\n",
    "Em python tudo é objeto, dessa forma **funções também são objetos** o que as tornam objetos de primeira classe. Com isso podemos **atribuir funções a variáveis, passá-las como parâmetro para funções, usá-las como valores em estruturas de dados** (listas, tuplas, dicionários, etc) e usar como valor de retorno para uma função (closures)."
   ]
  },
  {
   "cell_type": "code",
   "execution_count": 26,
   "id": "d90b5242-98f6-45f6-838f-cca99d92ddc8",
   "metadata": {},
   "outputs": [
    {
     "name": "stdout",
     "output_type": "stream",
     "text": [
      "O resultado da operação 10 + 10 = 20\n"
     ]
    }
   ],
   "source": [
    "def somar(a,b):\n",
    "    return a + b\n",
    "\n",
    "def exibir_resultado(a, b, funcao):\n",
    "    resultado = funcao(a,b)\n",
    "    print(f\"O resultado da operação {a} + {b} = {resultado}\")\n",
    "\n",
    "exibir_resultado(10,10, somar)"
   ]
  },
  {
   "cell_type": "markdown",
   "id": "4de170c3-ed01-4b18-be26-dc303fa47a2f",
   "metadata": {},
   "source": [
    "--------\n",
    "### Escopo local e escopo global\n",
    "Python trabalha com escopo local e global, dentro do bloco da função o escopo é local. Portanto alterações ali feitas em objetos imutáveis serão perdidas quando o método terminar de ser executado. Para usar objetos globais utilixa,os a palavra-chave **global**, que informa ao interpretador que a variável que está sendo manipulada no escopo local é global.\n",
    "\n",
    "**ESSA NÂO É UMA BOA PRÁTICA E DEVE SER EVITADA.**"
   ]
  },
  {
   "cell_type": "code",
   "execution_count": 29,
   "id": "43e9c2d3-b64e-4a12-9d40-74f6cbae33bf",
   "metadata": {},
   "outputs": [
    {
     "data": {
      "text/plain": [
       "2500"
      ]
     },
     "execution_count": 29,
     "metadata": {},
     "output_type": "execute_result"
    }
   ],
   "source": [
    "salario = 2000\n",
    "\n",
    "def salario_bonus(bonus):\n",
    "    global salario\n",
    "    salario += bonus\n",
    "    return salario\n",
    "\n",
    "salario_bonus(500)"
   ]
  },
  {
   "cell_type": "code",
   "execution_count": 30,
   "id": "865e70a6-48a3-49a1-b2f3-f87f1b317b40",
   "metadata": {},
   "outputs": [
    {
     "ename": "UnboundLocalError",
     "evalue": "cannot access local variable 'salario' where it is not associated with a value",
     "output_type": "error",
     "traceback": [
      "\u001b[1;31m---------------------------------------------------------------------------\u001b[0m",
      "\u001b[1;31mUnboundLocalError\u001b[0m                         Traceback (most recent call last)",
      "Cell \u001b[1;32mIn[30], line 8\u001b[0m\n\u001b[0;32m      5\u001b[0m     salario \u001b[38;5;241m+\u001b[39m\u001b[38;5;241m=\u001b[39m bonus\n\u001b[0;32m      6\u001b[0m     \u001b[38;5;28;01mreturn\u001b[39;00m salario\n\u001b[1;32m----> 8\u001b[0m salario_bonus(\u001b[38;5;241m500\u001b[39m)\n",
      "Cell \u001b[1;32mIn[30], line 5\u001b[0m, in \u001b[0;36msalario_bonus\u001b[1;34m(bonus)\u001b[0m\n\u001b[0;32m      3\u001b[0m \u001b[38;5;28;01mdef\u001b[39;00m \u001b[38;5;21msalario_bonus\u001b[39m(bonus):\n\u001b[0;32m      4\u001b[0m     \u001b[38;5;66;03m# global salario\u001b[39;00m\n\u001b[1;32m----> 5\u001b[0m     salario \u001b[38;5;241m+\u001b[39m\u001b[38;5;241m=\u001b[39m bonus\n\u001b[0;32m      6\u001b[0m     \u001b[38;5;28;01mreturn\u001b[39;00m salario\n",
      "\u001b[1;31mUnboundLocalError\u001b[0m: cannot access local variable 'salario' where it is not associated with a value"
     ]
    }
   ],
   "source": [
    "salario = 2000\n",
    "\n",
    "def salario_bonus(bonus):\n",
    "    # global salario\n",
    "    salario += bonus\n",
    "    return salario\n",
    "\n",
    "salario_bonus(500)"
   ]
  },
  {
   "cell_type": "code",
   "execution_count": null,
   "id": "c490c9ac-7b0b-46af-834e-42bcd7b1b054",
   "metadata": {},
   "outputs": [],
   "source": []
  }
 ],
 "metadata": {
  "kernelspec": {
   "display_name": "Python 3 (ipykernel)",
   "language": "python",
   "name": "python3"
  },
  "language_info": {
   "codemirror_mode": {
    "name": "ipython",
    "version": 3
   },
   "file_extension": ".py",
   "mimetype": "text/x-python",
   "name": "python",
   "nbconvert_exporter": "python",
   "pygments_lexer": "ipython3",
   "version": "3.11.7"
  }
 },
 "nbformat": 4,
 "nbformat_minor": 5
}
