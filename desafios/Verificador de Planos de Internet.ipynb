{
 "cells": [
  {
   "cell_type": "markdown",
   "id": "f4b234ce-389a-4f1a-bbf7-5e5c710b58cd",
   "metadata": {},
   "source": [
    "## Dominando os Fundamentos Básicos \n",
    "\n",
    "Uma empresa de telecomunicações deseja criar uma solução algorítmica que ajude aos seus clientes a escolherem o plano de internet ideal com base em seu consumo mensal de dados. Para a resolução, você pode solicitar ao usuário que insira o seu consumo, sendo este um valor <span style=\"color: blue;\">'float'</span>. Crie uma função chamada <span style=\"color: blue;\">recomendar_plano</span> para receber o consumo médio mensal de dados informado pelo cliente, além de utilizar estruturas condicionais para fazer a verificação e retornar o plano adequado.\n",
    "\n",
    "\n",
    "**Planos Oferecidos:**\r\n",
    "\r\n",
    "- Plano Essencial Fibra - 50Mbps: Recomendado para um consumo médio de até 10 GB.\r\n",
    "- Plano Prata Fibra - 100Mbps: Recomendado para um consumo médio acima de 10 GB até 20 GB.\r\n",
    "- Plano Premium Fibra - 300Mbps: Recomendado para um consumo médio acima de 20\n",
    "\n",
    "**Entrada**\n",
    "\r\n",
    "Como entrada solicite o consumo médio mensal de dados em GB (float).\n",
    "\r",
    "**Saída**\n",
    "\n",
    "\n",
    "da\r\n",
    "Retorne o plano ideal para o cliente de acordo com o consumo informado na entrada. GB.\n"
   ]
  },
  {
   "cell_type": "code",
   "execution_count": 6,
   "id": "97891fe3-da3c-4621-b41b-e380f1e1534c",
   "metadata": {},
   "outputs": [
    {
     "name": "stdin",
     "output_type": "stream",
     "text": [
      "Insira o seu consumo médio mensal de dados: 50\n"
     ]
    },
    {
     "name": "stdout",
     "output_type": "stream",
     "text": [
      "Plano Premium Fibra - 300Mbps\n"
     ]
    }
   ],
   "source": [
    "def recomendar_plano(consumo_medio):\n",
    "    if consumo_medio <= 10:\n",
    "        return f\"Plano Essencial Fibra - 50Mbps\"\n",
    "    elif consumo_medio > 10 and consumo_medio <=20:\n",
    "        return f\"Plano Prata Fibra - 100Mbps\"\n",
    "    elif consumo_medio > 20:\n",
    "        return f\"Plano Premium Fibra - 300Mbps\"\n",
    "        \n",
    "consumo = float(input(\"Insira o seu consumo médio mensal de dados:\"))\n",
    "\n",
    "\n",
    "print(recomendar_plano(consumo))"
   ]
  },
  {
   "cell_type": "code",
   "execution_count": null,
   "id": "6b1c7415-f30c-47a1-baa9-ce39a80ca905",
   "metadata": {},
   "outputs": [],
   "source": []
  }
 ],
 "metadata": {
  "kernelspec": {
   "display_name": "Python 3 (ipykernel)",
   "language": "python",
   "name": "python3"
  },
  "language_info": {
   "codemirror_mode": {
    "name": "ipython",
    "version": 3
   },
   "file_extension": ".py",
   "mimetype": "text/x-python",
   "name": "python",
   "nbconvert_exporter": "python",
   "pygments_lexer": "ipython3",
   "version": "3.11.7"
  }
 },
 "nbformat": 4,
 "nbformat_minor": 5
}
