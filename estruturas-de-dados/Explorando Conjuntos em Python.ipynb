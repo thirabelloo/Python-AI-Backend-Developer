{
 "cells": [
  {
   "cell_type": "markdown",
   "id": "6e3af3fa-fe03-4284-adad-7bd16437df46",
   "metadata": {},
   "source": [
    "# Explorando Conjuntos em Python"
   ]
  },
  {
   "cell_type": "markdown",
   "id": "ded2b28a-08dc-4c73-b437-b2b6815fd181",
   "metadata": {},
   "source": [
    "----\n",
    "## Criando sets\n",
    "Um set é uma coleção que não possui objetos repetidos, usamos sets para representar conjuntos matemáticos ou eliminar itens duplicados de um iterável."
   ]
  },
  {
   "cell_type": "code",
   "execution_count": 11,
   "id": "20e7fced-85a9-419e-8d31-cae358f8a35e",
   "metadata": {},
   "outputs": [
    {
     "name": "stdout",
     "output_type": "stream",
     "text": [
      "{1, 2, 3, 4}\n",
      "{'x', 'a', 'c', 'b', 'i'}\n",
      "{'palio', 'gol', 'celta'}\n"
     ]
    }
   ],
   "source": [
    "## Exemplo\n",
    "print(set([1, 2, 3, 1, 3, 4]))\n",
    "print(set(\"abacaxi\"))\n",
    "print(set((\"palio\", \"gol\", \"celta\", \"palio\")))"
   ]
  },
  {
   "cell_type": "code",
   "execution_count": 18,
   "id": "5215604a-b63b-4b7f-8f06-a895834950e4",
   "metadata": {},
   "outputs": [
    {
     "data": {
      "text/plain": [
       "{'java', 'python'}"
      ]
     },
     "execution_count": 18,
     "metadata": {},
     "output_type": "execute_result"
    }
   ],
   "source": [
    "linguagem = {\"python\", \"java\", \"python\"}\n",
    "linguagem"
   ]
  },
  {
   "cell_type": "markdown",
   "id": "1774a90a-e401-461b-9416-ba7383dccb3a",
   "metadata": {},
   "source": [
    "------\n",
    "## Acessando os dados\n",
    "\n",
    "Conjuntos em Python não suportam indexação e nem fatiamento, caso queira acessar os seus valores é necessário converter o conjunto para lista."
   ]
  },
  {
   "cell_type": "code",
   "execution_count": 14,
   "id": "ae0bd376-4306-4d82-b0d4-32b462f18b3d",
   "metadata": {},
   "outputs": [
    {
     "data": {
      "text/plain": [
       "1"
      ]
     },
     "execution_count": 14,
     "metadata": {},
     "output_type": "execute_result"
    }
   ],
   "source": [
    "## Exemplo\n",
    "numeros = {1, 2, 3, 2}\n",
    "numeros = list(numeros)\n",
    "numeros[0]"
   ]
  },
  {
   "cell_type": "markdown",
   "id": "38d7b1a7-16c1-4c96-8f69-dd5c90d97d8c",
   "metadata": {},
   "source": [
    "------\n",
    "## Iterar conjuntos\n",
    "A forma mais comum para percorrer os dados de um conjunto é utilizando o comando **for**"
   ]
  },
  {
   "cell_type": "code",
   "execution_count": 20,
   "id": "0e2f15fc-9b8a-4f68-b792-a1165c51f55d",
   "metadata": {},
   "outputs": [
    {
     "name": "stdout",
     "output_type": "stream",
     "text": [
      "palio\n",
      "gol\n",
      "celta\n"
     ]
    }
   ],
   "source": [
    "## Exemplo\n",
    "carros = {\"gol\", \"celta\", \"palio\"}\n",
    "\n",
    "for carro in carros:\n",
    "    print(carro)"
   ]
  },
  {
   "cell_type": "markdown",
   "id": "a050c53b-3fa2-4083-8a21-28c01a80c141",
   "metadata": {
    "jp-MarkdownHeadingCollapsed": true
   },
   "source": [
    "---\n",
    "## Função enumerate\n",
    "Às vezes é necessário saber qual o índice do objeto dentro do laço **for**. Para isso podemos usar a função **enumerate.**"
   ]
  },
  {
   "cell_type": "code",
   "execution_count": 21,
   "id": "09e3ce65-17bb-4179-83d6-2ac3980df73b",
   "metadata": {},
   "outputs": [
    {
     "name": "stdout",
     "output_type": "stream",
     "text": [
      "0: palio\n",
      "1: gol\n",
      "2: celta\n"
     ]
    }
   ],
   "source": [
    "## Exemplo\n",
    "carros ={\"gol\", \"celta\", \"palio\"}\n",
    "\n",
    "for indice, carro in enumerate(carros):\n",
    "    print(f\"{indice}: {carro}\")"
   ]
  },
  {
   "cell_type": "markdown",
   "id": "49cbb587-e84e-4c57-9e25-0b085da3880d",
   "metadata": {},
   "source": [
    "------\n",
    "## Métodos da classe set"
   ]
  },
  {
   "cell_type": "markdown",
   "id": "97dc4544-4351-4533-a295-a5aabe96afbc",
   "metadata": {},
   "source": [
    "\n",
    "### Método union"
   ]
  },
  {
   "cell_type": "code",
   "execution_count": 22,
   "id": "b251d388-441b-4a40-b539-99459c4ffc98",
   "metadata": {},
   "outputs": [
    {
     "data": {
      "text/plain": [
       "{1, 2, 3, 4}"
      ]
     },
     "execution_count": 22,
     "metadata": {},
     "output_type": "execute_result"
    }
   ],
   "source": [
    "conjunto_a = {1, 2}\n",
    "conjunto_b = {3, 4}\n",
    "\n",
    "conjunto_a.union(conjunto_b)"
   ]
  },
  {
   "cell_type": "markdown",
   "id": "06e39d1d-21b2-454f-9aa4-5cb915ea716d",
   "metadata": {},
   "source": [
    "---\n",
    "### Método intersection"
   ]
  },
  {
   "cell_type": "code",
   "execution_count": 23,
   "id": "66f96bed-08c4-4a1c-a72d-b2b5e7113001",
   "metadata": {},
   "outputs": [
    {
     "data": {
      "text/plain": [
       "{2, 3}"
      ]
     },
     "execution_count": 23,
     "metadata": {},
     "output_type": "execute_result"
    }
   ],
   "source": [
    "conjunto_a = {1, 2, 3}\n",
    "conjunto_b = {2, 3, 4}\n",
    "\n",
    "conjunto_a.intersection(conjunto_b)"
   ]
  },
  {
   "cell_type": "markdown",
   "id": "1758f20b-eeed-473a-b40a-5a9267c24668",
   "metadata": {},
   "source": [
    "---\n",
    "### Método difference"
   ]
  },
  {
   "cell_type": "code",
   "execution_count": 24,
   "id": "4b1c19ca-3199-4a71-89e0-f4372911bb95",
   "metadata": {},
   "outputs": [
    {
     "name": "stdout",
     "output_type": "stream",
     "text": [
      "{1}\n",
      "{4}\n"
     ]
    }
   ],
   "source": [
    "conjunto_a = {1, 2, 3}\n",
    "conjunto_b = {2, 3, 4}\n",
    "\n",
    "print(conjunto_a.difference(conjunto_b))\n",
    "print(conjunto_b.difference(conjunto_a))"
   ]
  },
  {
   "cell_type": "markdown",
   "id": "135fcc6d-e7fa-4c6f-a75e-11240c81427c",
   "metadata": {},
   "source": [
    "-----\n",
    "### Método symmetric difference"
   ]
  },
  {
   "cell_type": "code",
   "execution_count": 25,
   "id": "1e38eb3d-5a58-41fb-a780-cd0bc5a81deb",
   "metadata": {},
   "outputs": [
    {
     "data": {
      "text/plain": [
       "{1, 4}"
      ]
     },
     "execution_count": 25,
     "metadata": {},
     "output_type": "execute_result"
    }
   ],
   "source": [
    "conjunto_a = {1, 2, 3}\n",
    "conjunto_b = {2, 3, 4}\n",
    "\n",
    "conjunto_a.symmetric_difference(conjunto_b)"
   ]
  },
  {
   "cell_type": "markdown",
   "id": "116579db-797a-4aa8-ab09-7601f8af5ae7",
   "metadata": {},
   "source": [
    "----\n",
    "### Método issubset"
   ]
  },
  {
   "cell_type": "code",
   "execution_count": 27,
   "id": "aa4d805f-3af2-4d89-a2eb-9da3c73ebe35",
   "metadata": {},
   "outputs": [
    {
     "name": "stdout",
     "output_type": "stream",
     "text": [
      "True\n",
      "False\n"
     ]
    }
   ],
   "source": [
    "conjunto_a = {1, 2, 3}\n",
    "conjunto_b = {4, 1, 2, 5, 6, 3}\n",
    "\n",
    "print(conjunto_a.issubset(conjunto_b))\n",
    "print(conjunto_b.issubset(conjunto_a))"
   ]
  },
  {
   "cell_type": "markdown",
   "id": "2460af62-f9a4-4219-a661-1f61f6333499",
   "metadata": {},
   "source": [
    "----\n",
    "### Método issuperset"
   ]
  },
  {
   "cell_type": "code",
   "execution_count": 30,
   "id": "6ceeb181-d3dc-4d06-b1b0-9a6828c54c5e",
   "metadata": {},
   "outputs": [
    {
     "name": "stdout",
     "output_type": "stream",
     "text": [
      "False\n",
      "True\n"
     ]
    }
   ],
   "source": [
    "conjunto_a = {1, 2, 3}\n",
    "conjunto_b = {4, 1, 2, 5, 6, 3}\n",
    "\n",
    "print(conjunto_a.issuperset(conjunto_b))\n",
    "print(conjunto_b.issuperset(conjunto_a))"
   ]
  },
  {
   "cell_type": "markdown",
   "id": "caf6644a-854c-407a-bdd0-aae87afb112d",
   "metadata": {},
   "source": [
    "---\n",
    "### Método isdisjoint\n"
   ]
  },
  {
   "cell_type": "code",
   "execution_count": 34,
   "id": "f5a64ff6-3aa5-4825-8158-8d836c5f3ff4",
   "metadata": {},
   "outputs": [
    {
     "name": "stdout",
     "output_type": "stream",
     "text": [
      "True\n",
      "False\n"
     ]
    }
   ],
   "source": [
    "conjunto_a = {1, 2, 3, 4, 5}\n",
    "conjunto_b = {6, 7, 8, 9}\n",
    "conjunto_c = {1, 0}\n",
    "\n",
    "print(conjunto_a.isdisjoint(conjunto_b))\n",
    "print(conjunto_a.isdisjoint(conjunto_c))"
   ]
  },
  {
   "cell_type": "markdown",
   "id": "27b1d885-bc8c-4958-bed6-334a2aad4516",
   "metadata": {},
   "source": [
    "-----\n",
    "### Método add\n"
   ]
  },
  {
   "cell_type": "code",
   "execution_count": 36,
   "id": "29987f03-ff61-4ea7-8739-7ab17de393cb",
   "metadata": {},
   "outputs": [
    {
     "data": {
      "text/plain": [
       "{1, 23, 25, 42}"
      ]
     },
     "execution_count": 36,
     "metadata": {},
     "output_type": "execute_result"
    }
   ],
   "source": [
    "sorteio = {1, 23}\n",
    "\n",
    "sorteio.add(25)\n",
    "sorteio.add(42)\n",
    "sorteio.add(25)\n",
    "\n",
    "sorteio"
   ]
  },
  {
   "cell_type": "markdown",
   "id": "bc13de8c-bbf9-42dd-b24d-ae41e53245c3",
   "metadata": {},
   "source": [
    "-----\n",
    "### Método clear"
   ]
  },
  {
   "cell_type": "code",
   "execution_count": 39,
   "id": "6b985c65-2fea-4219-8d50-588e54cb9f0d",
   "metadata": {},
   "outputs": [
    {
     "name": "stdout",
     "output_type": "stream",
     "text": [
      "{1, 23}\n",
      "None\n",
      "set()\n"
     ]
    }
   ],
   "source": [
    "sorteio = {1, 23}\n",
    "\n",
    "print(sorteio)\n",
    "print(sorteio.clear())\n",
    "print(sorteio)"
   ]
  },
  {
   "cell_type": "markdown",
   "id": "0f7333e2-e1cc-4417-9d7a-994856edeaad",
   "metadata": {},
   "source": [
    "------\n",
    "### Método copy"
   ]
  },
  {
   "cell_type": "code",
   "execution_count": 40,
   "id": "9a922ac7-a32a-4f1d-86c0-ec1de04d1cbe",
   "metadata": {},
   "outputs": [
    {
     "name": "stdout",
     "output_type": "stream",
     "text": [
      "{1, 23}\n",
      "{1, 23}\n",
      "{1, 23}\n"
     ]
    }
   ],
   "source": [
    "sorteio = {1, 23}\n",
    "\n",
    "print(sorteio)\n",
    "print(sorteio.copy())\n",
    "print(sorteio)"
   ]
  },
  {
   "cell_type": "markdown",
   "id": "912ba972-4e11-41af-9f8c-da2ffe53cb86",
   "metadata": {},
   "source": [
    "------\n",
    "### Método discard"
   ]
  },
  {
   "cell_type": "code",
   "execution_count": 42,
   "id": "a47406ad-26c1-46bc-b006-7baa345526c7",
   "metadata": {},
   "outputs": [
    {
     "name": "stdout",
     "output_type": "stream",
     "text": [
      "{0, 1, 2, 3, 4, 5, 6, 7, 8, 9}\n",
      "None\n",
      "None\n",
      "{0, 2, 3, 4, 5, 6, 7, 8, 9}\n"
     ]
    }
   ],
   "source": [
    "numeros = {1, 2, 3, 1, 2, 4, 5, 5, 6, 7, 8, 9 , 0}\n",
    "\n",
    "print(numeros)\n",
    "print(numeros.discard(1))\n",
    "print(numeros.discard(45))\n",
    "print(numeros)"
   ]
  },
  {
   "cell_type": "markdown",
   "id": "77b8cdc3-d4ee-4656-8f02-77944cb0f216",
   "metadata": {},
   "source": [
    "-----\n",
    "### Método pop"
   ]
  },
  {
   "cell_type": "code",
   "execution_count": 43,
   "id": "7f924bff-6637-483f-a1ce-35b31befba7c",
   "metadata": {},
   "outputs": [
    {
     "name": "stdout",
     "output_type": "stream",
     "text": [
      "{0, 1, 2, 3, 4, 5, 6, 7, 8, 9}\n",
      "0\n",
      "1\n",
      "{2, 3, 4, 5, 6, 7, 8, 9}\n"
     ]
    }
   ],
   "source": [
    "numeros = {1, 2, 3, 1, 2, 4, 5, 5, 6, 7, 8, 9 , 0}\n",
    "\n",
    "print(numeros)\n",
    "print(numeros.pop())\n",
    "print(numeros.pop())\n",
    "print(numeros)"
   ]
  },
  {
   "cell_type": "markdown",
   "id": "9b1c643d-0823-4949-a355-67ff6c074fa4",
   "metadata": {},
   "source": [
    "-----\n",
    "### Método remove"
   ]
  },
  {
   "cell_type": "code",
   "execution_count": 45,
   "id": "ef6a6212-6bd6-482e-9466-3538deee1862",
   "metadata": {},
   "outputs": [
    {
     "name": "stdout",
     "output_type": "stream",
     "text": [
      "{0, 1, 2, 3, 4, 5, 6, 7, 8, 9}\n",
      "None\n",
      "{1, 2, 3, 4, 5, 6, 7, 8, 9}\n"
     ]
    }
   ],
   "source": [
    "numeros = {1, 2, 3, 1, 2, 4, 5, 5, 6, 7, 8, 9 , 0}\n",
    "\n",
    "print(numeros)\n",
    "print(numeros.remove(0))\n",
    "print(numeros)"
   ]
  },
  {
   "cell_type": "markdown",
   "id": "0f4340b9-e7f6-49a0-9119-481a6b4c2246",
   "metadata": {},
   "source": [
    "------\n",
    "### Método len"
   ]
  },
  {
   "cell_type": "code",
   "execution_count": 46,
   "id": "a3722221-84f8-4bf1-a989-ffef0c3f6031",
   "metadata": {},
   "outputs": [
    {
     "data": {
      "text/plain": [
       "10"
      ]
     },
     "execution_count": 46,
     "metadata": {},
     "output_type": "execute_result"
    }
   ],
   "source": [
    "numeros = {1, 2, 3, 1, 2, 4, 5, 5, 6, 7, 8, 9 , 0}\n",
    "\n",
    "len(numeros)"
   ]
  },
  {
   "cell_type": "markdown",
   "id": "6452ccd6-e146-4d08-bf67-210fc35a8c7a",
   "metadata": {},
   "source": [
    "----\n",
    "### Método in"
   ]
  },
  {
   "cell_type": "code",
   "execution_count": 47,
   "id": "38013779-6412-4d37-b010-102f18f7540c",
   "metadata": {},
   "outputs": [
    {
     "name": "stdout",
     "output_type": "stream",
     "text": [
      "True\n",
      "False\n"
     ]
    }
   ],
   "source": [
    "numeros = {1, 2, 3, 1, 2, 4, 5, 5, 6, 7, 8, 9 , 0}\n",
    "\n",
    "print(1 in numeros)\n",
    "print(10 in numeros)"
   ]
  },
  {
   "cell_type": "code",
   "execution_count": null,
   "id": "f70e31ab-c940-4178-9f97-9a13feb620e2",
   "metadata": {},
   "outputs": [],
   "source": []
  }
 ],
 "metadata": {
  "kernelspec": {
   "display_name": "Python 3 (ipykernel)",
   "language": "python",
   "name": "python3"
  },
  "language_info": {
   "codemirror_mode": {
    "name": "ipython",
    "version": 3
   },
   "file_extension": ".py",
   "mimetype": "text/x-python",
   "name": "python",
   "nbconvert_exporter": "python",
   "pygments_lexer": "ipython3",
   "version": "3.11.7"
  }
 },
 "nbformat": 4,
 "nbformat_minor": 5
}
